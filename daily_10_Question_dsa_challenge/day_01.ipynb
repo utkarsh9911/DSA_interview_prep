{
 "cells": [
  {
   "cell_type": "code",
   "execution_count": 2,
   "id": "0a5bc418",
   "metadata": {},
   "outputs": [
    {
     "name": "stdout",
     "output_type": "stream",
     "text": [
      "The max sum of subarray is: 11\n",
      "The subarray is: [4, 6, -3, 4]\n"
     ]
    }
   ],
   "source": [
    "def maxsum_subarray(arr):\n",
    "    cursum = arr[0]\n",
    "    maxsum = arr[0]\n",
    "    start = end = temp =0\n",
    "    for i in range(1, len(arr)):\n",
    "        if arr[i]> cursum + arr[i]:\n",
    "            cursum = arr[i]\n",
    "            temp = i\n",
    "        else:\n",
    "            cursum = cursum + arr[i]\n",
    "        if cursum > maxsum:\n",
    "            maxsum = cursum\n",
    "            start = temp\n",
    "            end = i\n",
    "    print('The max sum of subarray is:', maxsum)\n",
    "    print('The subarray is:', arr[start:end+1])\n",
    "\n",
    "\n",
    "arr = [-5,4,6,-3,4,-1]\n",
    "maxsum_subarray(arr)\n",
    "        \n"
   ]
  },
  {
   "cell_type": "markdown",
   "id": "e06e0300",
   "metadata": {},
   "source": [
    "##### Prefix Sum from l to r"
   ]
  },
  {
   "cell_type": "code",
   "execution_count": 9,
   "id": "58cc42d6",
   "metadata": {},
   "outputs": [
    {
     "name": "stdout",
     "output_type": "stream",
     "text": [
      "The prefix sum of the array is: ([0, 1, 3, 6, 10, 15], 9)\n"
     ]
    }
   ],
   "source": [
    "def prefix_sum(arr,l,r):\n",
    "    prefix = [0]*(len(arr)+1)\n",
    "    for i in range(len(arr)):\n",
    "        prefix[i+1] =  prefix[i] + arr[i]\n",
    "    return prefix, prefix[r+1] - prefix[l]\n",
    "\n",
    "arr = [1, 2, 3, 4, 5]\n",
    "l = 1\n",
    "r= 3\n",
    "print('The prefix sum of the array is:', prefix_sum(arr,l,r))\n",
    "\n"
   ]
  },
  {
   "cell_type": "markdown",
   "id": "8d9db7f3",
   "metadata": {},
   "source": [
    "### find subarray sum equal to k"
   ]
  },
  {
   "cell_type": "code",
   "execution_count": 3,
   "id": "aeea9f6f",
   "metadata": {},
   "outputs": [
    {
     "name": "stdout",
     "output_type": "stream",
     "text": [
      "The number of subarrays with sum equal to 7 is: 4\n"
     ]
    }
   ],
   "source": [
    "# brute fore approach\n",
    "# O(n^2) time complexity\n",
    "# O(n) space complexity\n",
    "def count_subarray(arr, k):\n",
    "    count = 0\n",
    "    prefix = [0]*(len(arr)+1)\n",
    "    for i in range(len(arr)):\n",
    "        prefix[i+1] =  prefix[i] + arr[i]\n",
    "    for i in range(len(arr)):\n",
    "        for j in range(i+1, len(arr)+1):\n",
    "            if prefix[j] - prefix[i] == k:\n",
    "                count += 1\n",
    "    return count\n",
    "\n",
    "arr = [3, 4, 7, 2, -3, 1, 4, 2]\n",
    "K = 7\n",
    "print('The number of subarrays with sum equal to', K, 'is:', count_subarray(arr, K))\n",
    "\n",
    "\n",
    "\n"
   ]
  },
  {
   "cell_type": "code",
   "execution_count": 7,
   "id": "d5161a82",
   "metadata": {},
   "outputs": [
    {
     "name": "stdout",
     "output_type": "stream",
     "text": [
      "The number of subarrays with sum equal to 2 is: 2\n"
     ]
    }
   ],
   "source": [
    "#optimal approach\n",
    "def count1_subarray(arr, k):\n",
    "    count = 0\n",
    "    prefix = {}\n",
    "    prefix[0] = 1\n",
    "    cursom = 0\n",
    "    for i in range(len(arr)):\n",
    "        cursom = cursom + arr[i]\n",
    "        if cursom-k in prefix:\n",
    "            count = count + prefix[cursom-k]\n",
    "        \n",
    "        if cursom in prefix:\n",
    "            prefix[cursom] += 1\n",
    "        else:\n",
    "            prefix[cursom] = 1\n",
    "    \n",
    "    return count\n",
    "arr = [1,1,1] \n",
    "K = 2\n",
    "print('The number of subarrays with sum equal to', K, 'is:', count1_subarray(arr, K))\n",
    "# time complexity is O(n)\n",
    "# space complexity is O(n)"
   ]
  },
  {
   "cell_type": "markdown",
   "id": "1de6fcf4",
   "metadata": {},
   "source": [
    "### Find subarry divisible by k"
   ]
  },
  {
   "cell_type": "code",
   "execution_count": 2,
   "id": "609cf189",
   "metadata": {},
   "outputs": [
    {
     "name": "stdout",
     "output_type": "stream",
     "text": [
      "The number of subarrays divisible by 5 is: 7\n"
     ]
    }
   ],
   "source": [
    "### Count number os subarrays divisible by k\n",
    "#opyimal approach   \n",
    "def count_subarray_divisible(arr, k):\n",
    "    count = 0\n",
    "    prefix = {}\n",
    "    prefix[0] =1\n",
    "    cursom = 0\n",
    "    for i in range(len(arr)):\n",
    "        cursom = cursom + arr[i]\n",
    "        remain = cursom % k\n",
    "        if remain in prefix:\n",
    "            count = count + prefix[remain]\n",
    "        if remain in prefix:\n",
    "            prefix[remain] += 1\n",
    "        else:\n",
    "            prefix[remain] = 1\n",
    "    return count\n",
    "\n",
    "\n",
    "nums = [4, 5, 0, -2, -3, 1]\n",
    "k = 5\n",
    "print('The number of subarrays divisible by', k, 'is:', count_subarray_divisible(nums, k))\n"
   ]
  },
  {
   "cell_type": "markdown",
   "id": "d1efc0ab",
   "metadata": {},
   "source": [
    "### Find the longest subarray with sum equal to k"
   ]
  },
  {
   "cell_type": "code",
   "execution_count": 3,
   "id": "10f7884e",
   "metadata": {},
   "outputs": [
    {
     "name": "stdout",
     "output_type": "stream",
     "text": [
      "The length of the longest subarray with sum equal to 5 is: 2\n"
     ]
    }
   ],
   "source": [
    "#optimal approach\n",
    "\n",
    "def longest_subarray_sum(arr, k):\n",
    "    prefix = {}\n",
    "    max_len= 0\n",
    "    cursom = 0\n",
    "\n",
    "    for i in range(len(arr)):\n",
    "        cursom = cursom + arr[i]\n",
    "        if cursom == k:\n",
    "            max_len = i+ 1\n",
    "        if (cursom-k) in prefix:\n",
    "            lengthh = i - prefix[cursom-k]\n",
    "            max_len = max(max_len, lengthh)\n",
    "        \n",
    "        if cursom not in prefix:\n",
    "            prefix[cursom] = i\n",
    "        \n",
    "\n",
    "    return max_len\n",
    "\n",
    "# arr = [1, -1, 5, -2, 3]\n",
    "arr = [0,5]\n",
    "k=5\n",
    "# k = 3\n",
    "print('The length of the longest subarray with sum equal to', k, 'is:', longest_subarray_sum(arr, k))\n"
   ]
  },
  {
   "cell_type": "markdown",
   "id": "4e6272be",
   "metadata": {},
   "source": [
    "### Find the pivot index of the array"
   ]
  },
  {
   "cell_type": "code",
   "execution_count": 10,
   "id": "8e8eee13",
   "metadata": {},
   "outputs": [
    {
     "name": "stdout",
     "output_type": "stream",
     "text": [
      "The pivot index is: -1\n"
     ]
    }
   ],
   "source": [
    "def find_pivot_index(arr):\n",
    "    total = sum(arr)\n",
    "    left_sum = 0\n",
    "    for i in range(len(arr)):\n",
    "        right_sum = total - arr[i] - left_sum\n",
    "        if left_sum == right_sum:\n",
    "            return i\n",
    "        else:\n",
    "            left_sum += arr[i]\n",
    "    return -1\n",
    "arr = [1, 7]\n",
    "print('The pivot index is:', find_pivot_index(arr))\n"
   ]
  },
  {
   "cell_type": "code",
   "execution_count": null,
   "id": "f6983687",
   "metadata": {},
   "outputs": [
    {
     "data": {
      "text/plain": [
       "4"
      ]
     },
     "execution_count": 12,
     "metadata": {},
     "output_type": "execute_result"
    }
   ],
   "source": [
    "def findsubmarixsumk(arr, k):\n",
    "    count = 0\n",
    "    \n",
    "    row = len(arr)\n",
    "    col = len(arr[0])\n",
    "    for i in range(row):\n",
    "        for j in range(1, col):\n",
    "            arr[i][j] += arr[i][j-1]\n",
    "    \n",
    "    for start_col in range(col):\n",
    "        for end_col in range(start_col, col):\n",
    "            prefix = {}\n",
    "            prefix[0] = 1\n",
    "            cursom = 0\n",
    "            for i in range(row):\n",
    "                rowsum = arr[i][end_col]\n",
    "                if start_col > 0:\n",
    "                    cursom = cursom - arr[i][start_col-1]\n",
    "                \n",
    "                \n",
    "                cursom = cursom + arr[i][end_col]\n",
    "                if (cursom-k) in prefix:\n",
    "                    count += prefix[cursom-k]\n",
    "                if cursom in prefix:\n",
    "                    prefix[cursom] += 1\n",
    "                else:\n",
    "                    prefix[cursom] = 1\n",
    "    return count\n",
    "\n",
    "\n",
    "\n",
    "arr = [[0,1,0], [1, 1, 1], [0, 1, 0]]\n",
    "\n",
    "k = 2\n",
    "findsubmarixsumk(arr, k)"
   ]
  },
  {
   "cell_type": "code",
   "execution_count": 1,
   "id": "7c0dbf19",
   "metadata": {},
   "outputs": [
    {
     "name": "stdout",
     "output_type": "stream",
     "text": [
      "[0]\n"
     ]
    }
   ],
   "source": [
    "arr = [0,5]\n",
    "print(arr[0:1])"
   ]
  },
  {
   "cell_type": "code",
   "execution_count": 6,
   "id": "af610769",
   "metadata": {},
   "outputs": [
    {
     "name": "stdout",
     "output_type": "stream",
     "text": [
      "The length of the longest subarray with sum equal to 3 is: (0, [])\n"
     ]
    }
   ],
   "source": [
    "def fidn_max(arr, k):\n",
    "    prefix_sum = {}\n",
    "    cursum = 0\n",
    "    start_index = 0\n",
    "    max_len = 0\n",
    "    end_index = 0\n",
    "    for i in range(len(arr)):\n",
    "        cursum += arr[i]\n",
    "        if cursum ==k:\n",
    "            max_len = i+1\n",
    "            end_index = i\n",
    "        if cursum-k in prefix_sum:\n",
    "            j = prefix_sum[cursum-k]\n",
    "            length = i-j\n",
    "            if length > max_len:\n",
    "                max_len = length\n",
    "                end_index = i\n",
    "                start_index = j+1\n",
    "        if cursum not in prefix_sum:\n",
    "            prefix_sum[cursum] = i\n",
    "        \n",
    "    if max_len == 0:\n",
    "            \n",
    "            return 0, []\n",
    "    return max_len, arr[start_index:end_index+1]\n",
    "arr = [0,2]\n",
    "k = 3\n",
    "print('The length of the longest subarray with sum equal to', k, 'is:', fidn_max(arr, k))\n",
    "\n",
    "\n"
   ]
  },
  {
   "cell_type": "markdown",
   "id": "03213ee0",
   "metadata": {},
   "source": [
    "## Sliding window"
   ]
  },
  {
   "cell_type": "code",
   "execution_count": null,
   "id": "ec3ea0a0",
   "metadata": {},
   "outputs": [
    {
     "name": "stdout",
     "output_type": "stream",
     "text": [
      "The maximum sum of subarray of size 3 is: (12, [3, 4, 5])\n"
     ]
    }
   ],
   "source": [
    "# find maximum sum of subarray of size k\n",
    "def find_maxsumk(arr, k):\n",
    "    maxsum = 0\n",
    "    window_sum = sum(arr[:k])\n",
    "    start_index = 0\n",
    "    end_index = 0\n",
    "    maxsum = window_sum\n",
    "    for i in range(k, len(arr)):\n",
    "        window_sum = window_sum + arr[i] - arr[i-k]\n",
    "\n",
    "        if window_sum > maxsum:\n",
    "            maxsum = window_sum\n",
    "            start_index = i-k+1\n",
    "            end_index = i\n",
    "\n",
    "    return maxsum, arr[start_index:end_index+1] if maxsum>0 else []\n",
    "\n",
    "arr = [1, 2, 3, 4, 5]\n",
    "k = 3\n",
    "print('The maximum sum of subarray of size', k, 'is:', find_maxsumk(arr, k))\n",
    "\n"
   ]
  },
  {
   "cell_type": "markdown",
   "id": "d7181121",
   "metadata": {},
   "source": [
    "### find first negative integer in every window of size k"
   ]
  },
  {
   "cell_type": "code",
   "execution_count": 2,
   "id": "476f2356",
   "metadata": {},
   "outputs": [
    {
     "name": "stdout",
     "output_type": "stream",
     "text": [
      "The first negative number in each subarray of size 3 is: [-1, -1, -7, 0, 0, 0]\n"
     ]
    }
   ],
   "source": [
    "def find_first_negative(arr, k):\n",
    "    negative_indeces = []\n",
    "    result = []\n",
    "    for i in range(len(arr)):\n",
    "        if arr[i]<0:\n",
    "            negative_indeces.append(i)\n",
    "        \n",
    "        if negative_indeces and negative_indeces[0] < i-k+1:\n",
    "            negative_indeces.pop(0)\n",
    "        if i >= k-1:\n",
    "            if negative_indeces:\n",
    "                result.append(arr[negative_indeces[0]])\n",
    "            else:\n",
    "                result.append(0)\n",
    "    return result\n",
    "    \n",
    "arr = [12, -1, -7, 8, 15, 30, 16, 28]\n",
    "k = 3\n",
    "print('The first negative number in each subarray of size', k, 'is:', find_first_negative(arr, k))"
   ]
  },
  {
   "cell_type": "code",
   "execution_count": 22,
   "id": "ac758608",
   "metadata": {},
   "outputs": [
    {
     "name": "stdout",
     "output_type": "stream",
     "text": [
      "The maximum number in each subarray of size 3 is: [3, 3, 5, 5, 6, 7]\n"
     ]
    }
   ],
   "source": [
    "def findmax_num(arr, k):\n",
    "    max_indeces = []\n",
    "    result = []\n",
    "    for i in range(len(arr)):\n",
    "        \n",
    "        \n",
    "        if max_indeces and max_indeces[0] < i-k+1:\n",
    "            max_indeces.pop(0)\n",
    "        while max_indeces and arr[max_indeces[-1]] <= arr[i]:\n",
    "            max_indeces.pop()\n",
    "        max_indeces.append(i)\n",
    "        \n",
    "        if i >= k-1:\n",
    "            result.append(arr[max_indeces[0]])\n",
    "    return result\n",
    "\n",
    "arr = [1, 3, -1, -3, 5, 3, 6, 7]\n",
    "k = 3\n",
    "print('The maximum number in each subarray of size', k, 'is:', findmax_num(arr, k))\n",
    "\n"
   ]
  },
  {
   "cell_type": "code",
   "execution_count": 3,
   "id": "0f8e9d0a",
   "metadata": {},
   "outputs": [
    {
     "name": "stdout",
     "output_type": "stream",
     "text": [
      "The number of distinct characters in the string is: {'a': 3, 'b': 1, 'c': 2}\n"
     ]
    }
   ],
   "source": [
    "st = 'aaabcc'\n",
    "# count nymber of distinct characters use get\n",
    "def count_distinct_chars(s):\n",
    "    char_count = {}\n",
    "    # result = []\n",
    "    # for i in range(len(s)):\n",
    "    #     char_count[s[i]] = char_count.get(s[i], 0) + 1\n",
    "    char_count = {}\n",
    "    for char in s:\n",
    "        char_count[char] = char_count.get(char, 0) + 1\n",
    "    return char_count\n",
    "\n",
    "st = 'aaabcc'\n",
    "print('The number of distinct characters in the string is:', count_distinct_chars(st))\n",
    "\n",
    "\n"
   ]
  },
  {
   "cell_type": "code",
   "execution_count": null,
   "id": "6f873717",
   "metadata": {},
   "outputs": [
    {
     "ename": "TypeError",
     "evalue": "unsupported operand type(s) for -: 'str' and 'int'",
     "output_type": "error",
     "traceback": [
      "\u001b[1;31m---------------------------------------------------------------------------\u001b[0m",
      "\u001b[1;31mTypeError\u001b[0m                                 Traceback (most recent call last)",
      "Cell \u001b[1;32mIn[6], line 18\u001b[0m\n\u001b[0;32m     16\u001b[0m arr \u001b[38;5;241m=\u001b[39m \u001b[38;5;124m'\u001b[39m\u001b[38;5;124mabccba\u001b[39m\u001b[38;5;124m'\u001b[39m\n\u001b[0;32m     17\u001b[0m k \u001b[38;5;241m=\u001b[39m \u001b[38;5;124m'\u001b[39m\u001b[38;5;124mcb\u001b[39m\u001b[38;5;124m'\u001b[39m\n\u001b[1;32m---> 18\u001b[0m \u001b[38;5;28mprint\u001b[39m(\u001b[38;5;124m'\u001b[39m\u001b[38;5;124mThe number of anagrams of\u001b[39m\u001b[38;5;124m'\u001b[39m, k, \u001b[38;5;124m'\u001b[39m\u001b[38;5;124min the string is:\u001b[39m\u001b[38;5;124m'\u001b[39m, \u001b[43mcount_an\u001b[49m\u001b[43m(\u001b[49m\u001b[43marr\u001b[49m\u001b[43m,\u001b[49m\u001b[43m \u001b[49m\u001b[43mk\u001b[49m\u001b[43m)\u001b[49m)\n",
      "Cell \u001b[1;32mIn[6], line 7\u001b[0m, in \u001b[0;36mcount_an\u001b[1;34m(arr, k)\u001b[0m\n\u001b[0;32m      4\u001b[0m \u001b[38;5;28;01mfor\u001b[39;00m i \u001b[38;5;129;01min\u001b[39;00m \u001b[38;5;28mrange\u001b[39m(\u001b[38;5;28mlen\u001b[39m(arr)):\n\u001b[0;32m      5\u001b[0m     char_count[arr[i]] \u001b[38;5;241m=\u001b[39m char_count\u001b[38;5;241m.\u001b[39mget(arr[i], \u001b[38;5;241m0\u001b[39m) \u001b[38;5;241m+\u001b[39m \u001b[38;5;241m1\u001b[39m\n\u001b[1;32m----> 7\u001b[0m     \u001b[38;5;28;01mif\u001b[39;00m i \u001b[38;5;241m>\u001b[39m\u001b[38;5;241m=\u001b[39m \u001b[43mk\u001b[49m\u001b[38;5;241;43m-\u001b[39;49m\u001b[38;5;241;43m1\u001b[39;49m:\n\u001b[0;32m      8\u001b[0m         \u001b[38;5;28;01mif\u001b[39;00m \u001b[38;5;28mlen\u001b[39m(char_count) \u001b[38;5;241m==\u001b[39m k:\n\u001b[0;32m      9\u001b[0m             result \u001b[38;5;241m+\u001b[39m\u001b[38;5;241m=\u001b[39m \u001b[38;5;241m1\u001b[39m\n",
      "\u001b[1;31mTypeError\u001b[0m: unsupported operand type(s) for -: 'str' and 'int'"
     ]
    }
   ],
   "source": [
    "def count_an(arr, k):\n",
    "    result = 0\n",
    "    char_count = {}\n",
    "    for i in range(len(arr)):\n",
    "        char_count[arr[i]] = char_count.get(arr[i], 0) + 1\n",
    "        \n",
    "        if i >= k-1:\n",
    "            if len(char_count) == k:\n",
    "                result += 1\n",
    "            \n",
    "            char_count[arr[i-k+1]] -= 1\n",
    "            if char_count[arr[i-k+1]] == 0:\n",
    "                del char_count[arr[i-k+1]]\n",
    "    return result\n",
    "\n",
    "arr = 'abccba'\n",
    "k = 'cb'\n",
    "print('The number of anagrams of', k, 'in the string is:', count_an(arr, k))"
   ]
  },
  {
   "cell_type": "code",
   "execution_count": 1,
   "id": "98c68756",
   "metadata": {},
   "outputs": [
    {
     "name": "stdout",
     "output_type": "stream",
     "text": [
      "j\n"
     ]
    }
   ],
   "source": [
    "print('j')"
   ]
  },
  {
   "cell_type": "code",
   "execution_count": 1,
   "id": "e8fb80ae",
   "metadata": {},
   "outputs": [
    {
     "name": "stdout",
     "output_type": "stream",
     "text": [
      "j\n"
     ]
    }
   ],
   "source": [
    "print('j')"
   ]
  },
  {
   "cell_type": "code",
   "execution_count": 23,
   "id": "7604480a",
   "metadata": {},
   "outputs": [
    {
     "name": "stdout",
     "output_type": "stream",
     "text": [
      "The number of anagrams of for in the string is: 3\n"
     ]
    }
   ],
   "source": [
    "def count_anagrams(txt, pat):\n",
    "    char_count = {}\n",
    "    for char in pat:\n",
    "        char_count[char] = char_count.get(char, 0) + 1\n",
    "    result = 0\n",
    "    k = len(pat)\n",
    "    window_freq = {}\n",
    "    for i in range(len(txt)):\n",
    "        window_freq[txt[i]] = window_freq[txt[i]] + 1 if txt[i] in window_freq else 1\n",
    "        if i >=k:\n",
    "            if window_freq[txt[i-k]]==1:\n",
    "                del window_freq[txt[i-k]]\n",
    "            else:\n",
    "                window_freq[txt[i-k]] -= 1\n",
    "        if window_freq == char_count:\n",
    "          \n",
    "          \n",
    "          result += 1\n",
    "    return result\n",
    "txt = \"forxxorfxdofr\"\n",
    "pat = \"for\"\n",
    "print('The number of anagrams of', pat, 'in the string is:', count_anagrams(txt, pat))\n",
    "    "
   ]
  },
  {
   "cell_type": "code",
   "execution_count": null,
   "id": "b07cc5b5",
   "metadata": {},
   "outputs": [
    {
     "name": "stdout",
     "output_type": "stream",
     "text": [
      "Character count in the string is: {'a': 1, 'b': 1, 'c': 2}\n",
      "Character count after deletion is: {'b': 1, 'c': 2}\n",
      "Sum of values in the dictionary is: 3\n"
     ]
    },
    {
     "data": {
      "text/plain": [
       "5"
      ]
     },
     "execution_count": 14,
     "metadata": {},
     "output_type": "execute_result"
    }
   ],
   "source": [
    "st = 'abcc'\n",
    "char_count = {}\n",
    "for char in st:\n",
    "    char_count[char] = char_count[char]+1 if char in char_count else 1\n",
    "print('Character count in the string is:', char_count)\n",
    "del char_count['a']\n",
    "print('Character count after deletion is:', char_count)\n",
    "#sum of values in the dictionary\n",
    "sum_values = sum(char_count.values())\n",
    "print('Sum of values in the dictionary is:', sum_values)\n"
   ]
  },
  {
   "cell_type": "code",
   "execution_count": 15,
   "id": "4c682247",
   "metadata": {},
   "outputs": [
    {
     "name": "stdout",
     "output_type": "stream",
     "text": [
      "2\n"
     ]
    }
   ],
   "source": [
    "pat = 'ab'\n",
    "print(len(pat))"
   ]
  },
  {
   "cell_type": "code",
   "execution_count": 32,
   "id": "b447fbbc",
   "metadata": {},
   "outputs": [
    {
     "name": "stdout",
     "output_type": "stream",
     "text": [
      "{'f': 1, 'o': 1, 'r': 1}\n",
      "3\n"
     ]
    }
   ],
   "source": [
    "def foudn_na(arr,k,pat):\n",
    "    pat_fre = {}\n",
    "    for i in pat:\n",
    "        pat_fre[i] = pat_fre[i]+1 if i in pat_fre else 1\n",
    "    print(pat_fre)\n",
    "    \n",
    "    window_count = {}\n",
    "    result = 0\n",
    "    for i in range(len(arr)):\n",
    "        window_count[arr[i]] = window_count[arr[i]] +1 if arr[i] in window_count else 1\n",
    "        if i>=k-1:\n",
    "\n",
    "           if pat_fre== window_count:\n",
    "\n",
    "            result+=1\n",
    "           left_char = arr[i-k+1]\n",
    "           if window_count[left_char] ==1:\n",
    "            del window_count[left_char]\n",
    "           else:\n",
    "             window_count[left_char] = window_count[left_char]-1\n",
    "    print(result)\n",
    "        \n",
    "\n",
    "\n",
    "\n",
    "\n",
    "arr = \"forxxorfxdofr\"\n",
    "pat = \"for\"\n",
    "k = len(pat)\n",
    "foudn_na(arr,k, pat)"
   ]
  },
  {
   "cell_type": "code",
   "execution_count": 1,
   "id": "1b39b784",
   "metadata": {},
   "outputs": [
    {
     "name": "stdout",
     "output_type": "stream",
     "text": [
      "I am the best\n"
     ]
    }
   ],
   "source": [
    "print('I am the best')"
   ]
  },
  {
   "cell_type": "code",
   "execution_count": 2,
   "id": "c87d2705",
   "metadata": {},
   "outputs": [
    {
     "name": "stdout",
     "output_type": "stream",
     "text": [
      "The maximum sum of subarray of size 3 is: 9\n"
     ]
    }
   ],
   "source": [
    "arr = [2,1,5,1,3,2]\n",
    "cursom = 0\n",
    "k=3\n",
    "maxsum = 0\n",
    "for i in range(len(arr)):\n",
    "    cursom = cursom + arr[i]\n",
    "    if i>=k-1:\n",
    "        if cursom > maxsum:\n",
    "            maxsum = cursom\n",
    "        cursom = cursom - arr[i-k+1]\n",
    "print('The maximum sum of subarray of size', k, 'is:', maxsum)\n"
   ]
  },
  {
   "cell_type": "code",
   "execution_count": 3,
   "id": "cc5de245",
   "metadata": {},
   "outputs": [
    {
     "name": "stdout",
     "output_type": "stream",
     "text": [
      "The maximum sum of subarray of size 3 is: 9\n"
     ]
    }
   ],
   "source": [
    "arr = [2,1,5,1,3,2]\n",
    "cursom = 0\n",
    "k=3\n",
    "maxsum = 0\n",
    "for i in range(len(arr)):\n",
    "    cursom += arr[i]\n",
    "    if i>=k:\n",
    "        cursom -= arr[i-k]\n",
    "    if cursom > maxsum:\n",
    "        maxsum = cursom\n",
    "print('The maximum sum of subarray of size', k, 'is:', maxsum)"
   ]
  },
  {
   "cell_type": "code",
   "execution_count": 3,
   "id": "cdfebd9b",
   "metadata": {},
   "outputs": [
    {
     "name": "stdout",
     "output_type": "stream",
     "text": [
      "The length of the longest substring without repeating characters is: 3\n"
     ]
    }
   ],
   "source": [
    "# find the longest substytring without repeating characters\n",
    "# brute force approach\n",
    "def longest_substring(s):\n",
    "    max_len = 0\n",
    "    for i in range(len(s)):\n",
    "        seen = set()\n",
    "        current_len = 0\n",
    "        for j in range(i, len(s)):\n",
    "            if s[j] not in seen:\n",
    "                seen.add(s[j])\n",
    "                current_len+=1\n",
    "\n",
    "                \n",
    "            else:\n",
    "                break\n",
    "        max_len = max(max_len, current_len)\n",
    "    return max_len\n",
    "s = \"abcabcbb\"\n",
    "print('The length of the longest substring without repeating characters is:', longest_substring(s))\n",
    "\n",
    "\n",
    "                \n",
    "\n"
   ]
  },
  {
   "cell_type": "code",
   "execution_count": null,
   "id": "6210c741",
   "metadata": {},
   "outputs": [
    {
     "name": "stdout",
     "output_type": "stream",
     "text": [
      "The length of the longest substring without repeating characters is: 3\n"
     ]
    }
   ],
   "source": [
    "# find the longest substytring without repeating characters\n",
    "# brute force approach\n",
    "def longest_substring(s):\n",
    "    max_len = 0\n",
    "    for i in range(len(s)):\n",
    "        seen = set()\n",
    "        current_len = 0\n",
    "        for j in range(i, len(s)):\n",
    "            if s[j] not in seen:\n",
    "                seen.add(s[j])\n",
    "                current_len += 1\n",
    "            else:\n",
    "                break\n",
    "        max_len = max(max_len, current_len)\n",
    "    return max_len  \n",
    "s = \"abcabcbb\"\n",
    "print('The length of the longest substring without repeating characters is:', longest_substring(s))\n",
    "# time complexity is O(n^2)\n",
    "# space complexity is O(n)"
   ]
  },
  {
   "cell_type": "code",
   "execution_count": 5,
   "id": "53cf24be",
   "metadata": {},
   "outputs": [
    {
     "name": "stdout",
     "output_type": "stream",
     "text": [
      "The length of the longest substring without repeating characters is: 3\n"
     ]
    }
   ],
   "source": [
    "def longest_substring_withoutrepeat(s):\n",
    "    char_index = {}\n",
    "    max_len = 0\n",
    "    start = 0\n",
    "    for i in range(len(s)):\n",
    "        if s[i] in char_index and char_index[s[i]] >= start:\n",
    "            start = char_index[s[i]] + 1\n",
    "        char_index[s[i]] = i\n",
    "        max_len = max(max_len, i - start + 1)\n",
    "    return max_len  \n",
    "s = \"abcabcbb\"\n",
    "print('The length of the longest substring without repeating characters is:', longest_substring_withoutrepeat(s))\n",
    "\n",
    "\n"
   ]
  },
  {
   "cell_type": "code",
   "execution_count": 2,
   "id": "8d83774c",
   "metadata": {},
   "outputs": [
    {
     "name": "stdout",
     "output_type": "stream",
     "text": [
      "[{'user': \"What's the stock price of AAPL?\"}, {'assistant': 'AAPL is currently $190.'}]\n"
     ]
    }
   ],
   "source": [
    "conversation_history = []\n",
    "conversation_history.append({\"user\": \"What's the stock price of AAPL?\"})\n",
    "conversation_history.append({\"assistant\": \"AAPL is currently $190.\"})\n",
    "print(conversation_history)"
   ]
  },
  {
   "cell_type": "code",
   "execution_count": 10,
   "id": "73c4bc3f",
   "metadata": {},
   "outputs": [
    {
     "name": "stdout",
     "output_type": "stream",
     "text": [
      "{'user': \"What's the stock price of AAPL?\"}\n",
      "{'assistant': 'AAPL is currently $190.'}\n",
      "AAPL is currently $190.\n"
     ]
    }
   ],
   "source": [
    "for i in conversation_history:\n",
    "    # for j in i:\n",
    "    print(i)\n",
    "\n",
    "print(conversation_history[1]['assistant'])"
   ]
  },
  {
   "cell_type": "code",
   "execution_count": null,
   "id": "02e3e515",
   "metadata": {},
   "outputs": [],
   "source": []
  }
 ],
 "metadata": {
  "kernelspec": {
   "display_name": "Python 3",
   "language": "python",
   "name": "python3"
  },
  "language_info": {
   "codemirror_mode": {
    "name": "ipython",
    "version": 3
   },
   "file_extension": ".py",
   "mimetype": "text/x-python",
   "name": "python",
   "nbconvert_exporter": "python",
   "pygments_lexer": "ipython3",
   "version": "3.10.6"
  }
 },
 "nbformat": 4,
 "nbformat_minor": 5
}
