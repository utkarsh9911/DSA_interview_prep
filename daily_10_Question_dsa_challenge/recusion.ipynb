{
 "cells": [
  {
   "cell_type": "code",
   "execution_count": 1,
   "id": "0600c947",
   "metadata": {},
   "outputs": [
    {
     "name": "stdout",
     "output_type": "stream",
     "text": [
      "ehlo\n"
     ]
    }
   ],
   "source": [
    "print('ehlo')"
   ]
  },
  {
   "cell_type": "code",
   "execution_count": 13,
   "id": "4a6425a8",
   "metadata": {},
   "outputs": [
    {
     "name": "stdout",
     "output_type": "stream",
     "text": [
      "1 2 3 4 5\n"
     ]
    }
   ],
   "source": [
    "# Function to print numbers from 1 to n using recursion\n",
    "def printtill_n(n):\n",
    "    if n==1:\n",
    "        return [1]\n",
    "    else:   \n",
    "        return   printtill_n(n-1) + [n]\n",
    "        \n",
    "\n",
    "n=5\n",
    "print(*printtill_n(n))\n"
   ]
  },
  {
   "cell_type": "code",
   "execution_count": 19,
   "id": "9b66bbf3",
   "metadata": {},
   "outputs": [
    {
     "name": "stdout",
     "output_type": "stream",
     "text": [
      "10\n"
     ]
    }
   ],
   "source": [
    "def sum_tilee(n):\n",
    "    if n==1:\n",
    "        return 1\n",
    "    else:\n",
    "        return  n + sum_tilee(n-1)\n",
    "n = 4\n",
    "print(sum_tilee(n))\n"
   ]
  },
  {
   "cell_type": "code",
   "execution_count": 1,
   "id": "67e1b05a",
   "metadata": {},
   "outputs": [
    {
     "name": "stdout",
     "output_type": "stream",
     "text": [
      "8\n"
     ]
    }
   ],
   "source": [
    "def fib(n):\n",
    "    if n<=1:\n",
    "        return 1\n",
    "    else:\n",
    "        return fib(n-1) +fib(n-2)\n",
    "n = 5\n",
    "print(fib(n))\n",
    "    "
   ]
  },
  {
   "cell_type": "code",
   "execution_count": 4,
   "id": "98a48f2f",
   "metadata": {},
   "outputs": [
    {
     "name": "stdout",
     "output_type": "stream",
     "text": [
      "False\n"
     ]
    }
   ],
   "source": [
    "def arrissorted(arr,n):\n",
    "    \n",
    "    if n == 1 or n == 0:\n",
    "        return True\n",
    "    if arr[n-1] <= arr[n-2]:\n",
    "        return False\n",
    "    return arrissorted(arr, n-1)\n",
    "arr = [1, 2, 3, 8, 5]  \n",
    "n = len(arr) \n",
    "print(arrissorted(arr,n))"
   ]
  },
  {
   "cell_type": "code",
   "execution_count": 1,
   "id": "cfbd804c",
   "metadata": {},
   "outputs": [
    {
     "name": "stdout",
     "output_type": "stream",
     "text": [
      "k\n"
     ]
    }
   ],
   "source": [
    "print('k')"
   ]
  },
  {
   "cell_type": "code",
   "execution_count": 2,
   "id": "f9747c1a",
   "metadata": {},
   "outputs": [
    {
     "name": "stdout",
     "output_type": "stream",
     "text": [
      "Element found at index 2\n"
     ]
    }
   ],
   "source": [
    "def find_bi(arr, tar, start, end):\n",
    "    mid = start +(end-start)//2\n",
    "    if start > end:\n",
    "        return -1\n",
    "    if arr[mid]== tar:\n",
    "        return mid\n",
    "    if arr[mid]>tar:\n",
    "        return find_bi(arr, tar, start, mid-1)\n",
    "    else:\n",
    "        return find_bi(arr, tar, mid+1, end)\n",
    "    \n",
    "arr = [1, 2, 3, 4, 5]\n",
    "tar = 3     \n",
    "start = 0\n",
    "end = len(arr) - 1\n",
    "result = find_bi(arr, tar, start, end)\n",
    "if result != -1:\n",
    "    print(f\"Element found at index {result}\")\n",
    "else:\n",
    "    print(\"Element not found in the array\")\n",
    "\n"
   ]
  },
  {
   "cell_type": "code",
   "execution_count": 1,
   "id": "0e79a722",
   "metadata": {},
   "outputs": [
    {
     "name": "stdout",
     "output_type": "stream",
     "text": [
      "heloo\n"
     ]
    }
   ],
   "source": [
    "print(\"heloo\")"
   ]
  },
  {
   "cell_type": "code",
   "execution_count": 3,
   "id": "43f69085",
   "metadata": {},
   "outputs": [
    {
     "name": "stdout",
     "output_type": "stream",
     "text": [
      "2\n"
     ]
    }
   ],
   "source": [
    "def find_sub_sum(arr, k):\n",
    "    prefix_sum = {}\n",
    "    prefix_sum[0] = 1\n",
    "    cursum = 0\n",
    "    result = 0\n",
    "    for i in range(len(arr)):\n",
    "        cursum = cursum + arr[i]\n",
    "        if cursum-k in prefix_sum:\n",
    "            result = prefix_sum[cursum-k] + result\n",
    "        if cursum in prefix_sum:\n",
    "            prefix_sum[cursum] = prefix_sum[cursum]+1\n",
    "        else:\n",
    "            prefix_sum[cursum] = 1\n",
    "    return result\n",
    "arr = [1,1,1] \n",
    "k= 2\n",
    "print(find_sub_sum(arr, k))\n",
    "\n",
    "    \n",
    "\n",
    "\n",
    "        \n",
    "\n"
   ]
  },
  {
   "cell_type": "code",
   "execution_count": null,
   "id": "3d5d6e7c",
   "metadata": {},
   "outputs": [
    {
     "name": "stdout",
     "output_type": "stream",
     "text": [
      "15\n"
     ]
    }
   ],
   "source": [
    "def find_sub_re(arr, n, start=0):\n",
    "    if n==0:\n",
    "        return 0\n",
    "    return \n",
    "arr = [1, 2, 3, 4, 5]   \n",
    "n = len(arr)\n",
    "print(find_sub_re(arr, n))\n"
   ]
  },
  {
   "cell_type": "code",
   "execution_count": 20,
   "id": "2f419adf",
   "metadata": {},
   "outputs": [
    {
     "name": "stdout",
     "output_type": "stream",
     "text": [
      "[]\n",
      "[3]\n",
      "[2]\n",
      "[2, 3]\n",
      "[1]\n",
      "[1, 3]\n",
      "[1, 2]\n",
      "[1, 2, 3]\n"
     ]
    }
   ],
   "source": [
    "def find_sub(arr, lst, i):\n",
    "    if i == len(arr):\n",
    "        print(lst)\n",
    "        return \n",
    "    \n",
    "    find_sub(arr,lst, i+1)\n",
    "    \n",
    "    find_sub(arr, lst + [arr[i]], i+1)\n",
    "arr = [1, 2, 3]\n",
    "lst = []\n",
    "i = 0\n",
    "find_sub(arr, lst, i)\n",
    "\n",
    "\n",
    "\n",
    "\n"
   ]
  },
  {
   "cell_type": "code",
   "execution_count": null,
   "id": "f9ec42e0",
   "metadata": {},
   "outputs": [],
   "source": [
    "def print_subsets(arr, index, current, result):\n",
    "    if index == len(arr):\n",
    "\n",
    "        \n",
    "        result.append(current.copy())\n",
    "        return\n",
    "        \n",
    "\n",
    "    \n",
    "    current.append(arr[index])\n",
    "    print_subsets(arr, index + 1, current, result)\n",
    "    current.pop() \n",
    "\n",
    "    # Include current element\n",
    "    print_subsets(arr, index + 1, current, result)\n",
    "\n",
    "arr = [1, 2]\n",
    "current = []\n",
    "result = []\n",
    "index = 0\n",
    "print_subsets(arr, index, current, result)"
   ]
  },
  {
   "cell_type": "code",
   "execution_count": 12,
   "id": "08200076",
   "metadata": {},
   "outputs": [
    {
     "name": "stdout",
     "output_type": "stream",
     "text": [
      "All subsets: [[1, 2], [1], [2], []]\n"
     ]
    }
   ],
   "source": [
    "def print_subsets(arr, index, current, result):\n",
    "    if index == len(arr):\n",
    "        result.append(current.copy())  # snapshot of current subset\n",
    "        return\n",
    "\n",
    "    # ✅ Include current element\n",
    "    current.append(arr[index])\n",
    "    print_subsets(arr, index + 1, current, result)\n",
    "    current.pop()  # backtrack\n",
    "\n",
    "    # ✅ Exclude current element\n",
    "    print_subsets(arr, index + 1, current, result)\n",
    "\n",
    "# Example usage\n",
    "arr = [1, 2]\n",
    "result = []\n",
    "print_subsets(arr, 0, [], result)\n",
    "\n",
    "print(\"All subsets:\", result)\n"
   ]
  },
  {
   "cell_type": "code",
   "execution_count": 13,
   "id": "fc2b8a0d",
   "metadata": {},
   "outputs": [
    {
     "name": "stdout",
     "output_type": "stream",
     "text": [
      "All subsets:\n"
     ]
    }
   ],
   "source": [
    "print(\"All subsets:\")"
   ]
  },
  {
   "cell_type": "code",
   "execution_count": 3,
   "id": "dbd85dd5",
   "metadata": {},
   "outputs": [
    {
     "name": "stdout",
     "output_type": "stream",
     "text": [
      "Unique subsets: [[1, 2, 2, 3], [1, 2, 2], [1, 2, 3], [1, 2], [1, 3], [1], [2, 2, 3], [2, 2], [2, 3], [2], [3], []]\n"
     ]
    }
   ],
   "source": [
    "def find_uniqye_subsets(arr, i, current, result):\n",
    "    if i == len(arr):\n",
    "        result.append(current.copy())\n",
    "        return\n",
    "    # Include current element\n",
    "    current.append(arr[i])\n",
    "    find_uniqye_subsets(arr, i +1, current, result)\n",
    "    current.pop()\n",
    "    index = i+1\n",
    "    while index < len(arr) and arr[index] == arr[i]:\n",
    "        index += 1\n",
    "    \n",
    "    \n",
    "    \n",
    "    find_uniqye_subsets(arr, index, current, result)\n",
    "\n",
    "arr = [1, 2, 2,3]\n",
    "arr.sort()  # Sort to handle duplicates\n",
    "result = []\n",
    "find_uniqye_subsets(arr, 0, [], result)\n",
    "print(\"Unique subsets:\", result)\n",
    "\n",
    "    "
   ]
  },
  {
   "cell_type": "code",
   "execution_count": 2,
   "id": "1383b174",
   "metadata": {},
   "outputs": [
    {
     "name": "stdout",
     "output_type": "stream",
     "text": [
      "[0]\n",
      "[[0]]\n",
      "[0, 1]\n",
      "[[0, 1], [0, 1]]\n"
     ]
    }
   ],
   "source": [
    "result = []\n",
    "current = []\n",
    "\n",
    "current.append(0)\n",
    "print(current)\n",
    "result.append(current)  \n",
    "print(result)    # result = [[0]]\n",
    "\n",
    "current.append(1)\n",
    "print(current)\n",
    "result.append(current)  \n",
    "print(result)"
   ]
  },
  {
   "cell_type": "code",
   "execution_count": null,
   "id": "70357555",
   "metadata": {},
   "outputs": [],
   "source": []
  }
 ],
 "metadata": {
  "kernelspec": {
   "display_name": "Python 3",
   "language": "python",
   "name": "python3"
  },
  "language_info": {
   "codemirror_mode": {
    "name": "ipython",
    "version": 3
   },
   "file_extension": ".py",
   "mimetype": "text/x-python",
   "name": "python",
   "nbconvert_exporter": "python",
   "pygments_lexer": "ipython3",
   "version": "3.10.6"
  }
 },
 "nbformat": 4,
 "nbformat_minor": 5
}
