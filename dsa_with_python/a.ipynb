{
 "cells": [
  {
   "cell_type": "code",
   "execution_count": null,
   "metadata": {},
   "outputs": [],
   "source": [
    "import numpy as np"
   ]
  },
  {
   "cell_type": "code",
   "execution_count": null,
   "metadata": {},
   "outputs": [],
   "source": [
    "a = np.arange(1,10)"
   ]
  },
  {
   "cell_type": "code",
   "execution_count": null,
   "metadata": {},
   "outputs": [],
   "source": [
    "a"
   ]
  },
  {
   "cell_type": "code",
   "execution_count": null,
   "metadata": {},
   "outputs": [],
   "source": [
    "np.array(a,dtype=float)"
   ]
  },
  {
   "cell_type": "code",
   "execution_count": null,
   "metadata": {},
   "outputs": [],
   "source": [
    "import decimal\n",
    "integer = 10\n",
    "print(decimal.Decimal(integer))\n",
    "print(type(decimal.Decimal(integer)))\n",
    "print(type(a))"
   ]
  },
  {
   "cell_type": "code",
   "execution_count": 1,
   "metadata": {},
   "outputs": [
    {
     "name": "stdout",
     "output_type": "stream",
     "text": [
      "12345\n"
     ]
    }
   ],
   "source": [
    "#converting a string of integers into decimals\n",
    "import decimal\n",
    "string = '12345'\n",
    "print(decimal.Decimal(string))"
   ]
  },
  {
   "cell_type": "code",
   "execution_count": 3,
   "metadata": {},
   "outputs": [
    {
     "name": "stdout",
     "output_type": "stream",
     "text": [
      "hsraktu \n",
      "u\n"
     ]
    }
   ],
   "source": [
    "# reverse a string\n",
    "a = 'utkarsh'\n",
    "str = \" \"\n",
    "for i in a:\n",
    "    str = i+str\n",
    "print(str)   \n",
    "print(a[0]) \n"
   ]
  },
  {
   "cell_type": "code",
   "execution_count": 16,
   "metadata": {},
   "outputs": [
    {
     "name": "stdout",
     "output_type": "stream",
     "text": [
      "u\n",
      "t\n",
      "k\n",
      "a\n",
      "r\n",
      "s\n",
      "h\n",
      "hsraktu \n"
     ]
    }
   ],
   "source": [
    "b = 'utkarsh'\n",
    "str = \" \"\n",
    "for i in b:\n",
    "    # print(i)\n",
    "    str = i+str\n",
    "    print(i)\n",
    "print(str)"
   ]
  },
  {
   "cell_type": "code",
   "execution_count": null,
   "metadata": {},
   "outputs": [],
   "source": [
    "a = 10\n",
    "for i in range(1,a):\n",
    "    print(i)"
   ]
  },
  {
   "cell_type": "code",
   "execution_count": null,
   "metadata": {},
   "outputs": [],
   "source": [
    "st = 'utkarshh'\n",
    "print(st[::-1])"
   ]
  },
  {
   "cell_type": "code",
   "execution_count": null,
   "metadata": {},
   "outputs": [],
   "source": [
    "# count vowles in a given word\n",
    "vowe = ['a','b','c','e','o']\n",
    "vowel = 'aeiou'\n",
    "count = 0\n",
    "for i in vowe:\n",
    "    if i in vowel:\n",
    "        count +=1\n",
    "print(count)        "
   ]
  },
  {
   "cell_type": "code",
   "execution_count": 1,
   "metadata": {},
   "outputs": [
    {
     "name": "stdout",
     "output_type": "stream",
     "text": [
      "0\n"
     ]
    }
   ],
   "source": [
    "vo = ['apple','banana']\n",
    "ls = 'aeiou'\n",
    "count = 0\n",
    "for i in vo:\n",
    "    if i in ls:\n",
    "        count +=1\n",
    "print(count)"
   ]
  },
  {
   "cell_type": "code",
   "execution_count": null,
   "metadata": {},
   "outputs": [],
   "source": [
    "vo = ['apple','banana']\n",
    "for i in vo:\n",
    "    print(i)"
   ]
  },
  {
   "cell_type": "code",
   "execution_count": 19,
   "metadata": {},
   "outputs": [
    {
     "name": "stdout",
     "output_type": "stream",
     "text": [
      "['apple', 'banana']\n"
     ]
    }
   ],
   "source": [
    "def check_vowel():\n",
    "    return 'aeiou'\n",
    "\n",
    "\n",
    "numberr = int(input(\"Enter a number: \"))\n",
    "# lisst = [input() for _ in range(numberr)]\n",
    "new_lst = input().split()\n",
    "# print(lisst)\n",
    "print(new_lst)"
   ]
  },
  {
   "cell_type": "code",
   "execution_count": 23,
   "metadata": {},
   "outputs": [
    {
     "name": "stdout",
     "output_type": "stream",
     "text": [
      "[[1, 2], [3, 4]]\n"
     ]
    }
   ],
   "source": [
    "rows, cols = map(int, input().split())\n",
    "matrix = [list(map(int ,input().split())) for _ in range(rows)]\n",
    "print(matrix)"
   ]
  },
  {
   "cell_type": "code",
   "execution_count": 11,
   "metadata": {},
   "outputs": [
    {
     "name": "stdout",
     "output_type": "stream",
     "text": [
      "1\n",
      "6\n",
      "<class 'int'>\n"
     ]
    }
   ],
   "source": [
    "def finsum(a,c):\n",
    "    \n",
    "    summ = 0\n",
    "    for num in range(a,c+1):\n",
    "        summ = summ+num\n",
    "        \n",
    "    return summ\n",
    "\n",
    "\n",
    "\n",
    "number = int(input())\n",
    "print(number)\n",
    "for _ in range(number):\n",
    "    a,c = list(map(int, input().split()))\n",
    "    print(finsum(a,c))\n",
    "\n",
    "    \n",
    "print(type(a))"
   ]
  },
  {
   "cell_type": "code",
   "execution_count": null,
   "metadata": {},
   "outputs": [
    {
     "name": "stdout",
     "output_type": "stream",
     "text": [
      "5\n"
     ]
    }
   ],
   "source": [
    "vo = ['apple','banana']\n",
    "ls = 'aeiou'\n",
    "count = 0\n",
    "for i in vo:\n",
    "    for char in i:\n",
    "        if char in ls:\n",
    "            count +=1\n",
    "    \n",
    "print(count)\n",
    "\n",
    "\n"
   ]
  },
  {
   "cell_type": "code",
   "execution_count": null,
   "metadata": {},
   "outputs": [],
   "source": [
    "c = np.arange(10).reshape(2,5)\n",
    "print(c)\n",
    "print(c.mean)"
   ]
  },
  {
   "cell_type": "code",
   "execution_count": null,
   "metadata": {},
   "outputs": [],
   "source": [
    "print(np.max(c,axis=1))"
   ]
  },
  {
   "cell_type": "code",
   "execution_count": null,
   "metadata": {},
   "outputs": [],
   "source": [
    "print(type(c))"
   ]
  },
  {
   "cell_type": "code",
   "execution_count": null,
   "metadata": {},
   "outputs": [],
   "source": [
    "print(c.tolist())"
   ]
  },
  {
   "cell_type": "code",
   "execution_count": null,
   "metadata": {},
   "outputs": [],
   "source": [
    "word = 'pppppu'\n",
    "taget = 'p'\n",
    "count = 0\n",
    "for i in word:\n",
    "    if i== taget:\n",
    "        count +=1\n",
    "print(count)\n"
   ]
  },
  {
   "cell_type": "code",
   "execution_count": 10,
   "metadata": {},
   "outputs": [
    {
     "name": "stdout",
     "output_type": "stream",
     "text": [
      "(2, 5)\n",
      "10\n"
     ]
    }
   ],
   "source": [
    "#count vowels and cosnstinants\n",
    "def check_vowels(word):\n",
    "    vowels = 'aeiouAEIOU'\n",
    "    new_word = word.upper()\n",
    "    count_vowels = 0\n",
    "    count_consta= 0\n",
    "    for char in new_word:\n",
    "        if char in vowels:\n",
    "            count_vowels = count_vowels+1\n",
    "        else:\n",
    "            count_consta = count_consta+1\n",
    "    return count_vowels, count_consta\n",
    "\n",
    "\n",
    "word = 'utkarsh'\n",
    "print(check_vowels(word))\n",
    "\n",
    " \n",
    "number = '1234'\n",
    "summ =0\n",
    "for i in number:\n",
    "    digit = int(i)\n",
    "    summ = summ+digit\n",
    "print(summ)\n",
    "\n",
    "\n",
    "\n"
   ]
  },
  {
   "cell_type": "code",
   "execution_count": null,
   "metadata": {},
   "outputs": [],
   "source": [
    "# maxx number in a list\n",
    "lst = [10,2,3,2,4,20]\n",
    "max = lst[0]\n",
    "for i in lst:\n",
    "    if i > max:\n",
    "        max = i\n",
    "print(i)\n",
    "\n"
   ]
  },
  {
   "cell_type": "code",
   "execution_count": null,
   "metadata": {},
   "outputs": [],
   "source": [
    "# finf mid element\n",
    "def mid_element(num):\n",
    "    if len(num) %2 !=0:\n",
    "        an =len(num)//2\n",
    "        ans = num[an]\n",
    "        return ans\n",
    "\n",
    "        \n",
    "    else:\n",
    "        first_mid = len(num)//2-1\n",
    "        sec_mid = len(num)//2\n",
    "        return (num[first_mid],num[sec_mid])\n",
    "        \n",
    "\n",
    "        \n",
    "    \n",
    "num = [1,2,3,4,5,6]\n",
    "mid = mid_element(num)\n",
    "print(mid)\n",
    "\n",
    "\n",
    "\n"
   ]
  },
  {
   "cell_type": "code",
   "execution_count": null,
   "metadata": {},
   "outputs": [],
   "source": [
    "num = [1,2,3,4,5]\n",
    "mid = int((len(num)/2))\n",
    "print(num[mid])"
   ]
  },
  {
   "cell_type": "code",
   "execution_count": null,
   "metadata": {},
   "outputs": [],
   "source": [
    "lsyy = ['r','s','u']\n",
    "string = ''.join(lsyy)\n",
    "print(string)"
   ]
  },
  {
   "cell_type": "code",
   "execution_count": null,
   "metadata": {},
   "outputs": [],
   "source": [
    "x = [2,5,4,3,77,1]\n",
    "min = x[0]\n",
    "for i in x:\n",
    "    if i<min:\n",
    "        min = i\n",
    "print(min)\n"
   ]
  },
  {
   "cell_type": "code",
   "execution_count": null,
   "metadata": {},
   "outputs": [],
   "source": [
    "b = [34,3,3,2,4,5]\n",
    "c = [4,4,5,5,5,3]\n",
    "v = []\n",
    "for i in range(0,len(b)):\n",
    "    v.append(b[i]+c[i])\n",
    "print(v)"
   ]
  },
  {
   "cell_type": "code",
   "execution_count": null,
   "metadata": {},
   "outputs": [],
   "source": [
    "b = [34,3,3,2,4,5]\n",
    "c = [4,4,5,5]\n",
    "resuly = [b+c for b,c in zip(b,c)]\n",
    "print(resuly)"
   ]
  },
  {
   "cell_type": "code",
   "execution_count": null,
   "metadata": {},
   "outputs": [],
   "source": [
    "# compaarint two strings for anagrams\n",
    "str1 = 'Listen'\n",
    "str2 = 'Silent'\n",
    "str1 = list(str1.upper())\n",
    "str2 = list(str2.upper())\n",
    "print(str1)\n",
    "str1.sort()\n",
    "str2.sort()\n",
    "if str1 == str2:\n",
    "    print('true')\n",
    "else:\n",
    "    print('false')\n",
    "\n"
   ]
  },
  {
   "cell_type": "code",
   "execution_count": null,
   "metadata": {},
   "outputs": [],
   "source": [
    "string = ' my name is utkars'\n",
    "print(string.count(' '))"
   ]
  },
  {
   "cell_type": "code",
   "execution_count": null,
   "metadata": {},
   "outputs": [],
   "source": [
    "string = 'my name is utkars'\n",
    "print(string.split(' '))"
   ]
  },
  {
   "cell_type": "code",
   "execution_count": null,
   "metadata": {},
   "outputs": [],
   "source": [
    "import re\n",
    "string = 'my name is utkars 2'\n",
    "digitcount = re.sub(\"[^0-9]\",\"\",string)\n",
    "lettercount = re.sub(\"[^a-zA-Z]\",\"\",string)\n",
    "spacecount = re.findall(\"[ \\n]\",string)\n",
    "\n",
    "\n",
    "print(digitcount)\n",
    "print(lettercount)\n",
    "print(spacecount)"
   ]
  },
  {
   "cell_type": "code",
   "execution_count": null,
   "metadata": {},
   "outputs": [],
   "source": [
    "name = 'an sh'\n",
    "str = ''.join(name)\n",
    "print(str)"
   ]
  },
  {
   "cell_type": "code",
   "execution_count": null,
   "metadata": {},
   "outputs": [],
   "source": [
    "import re\n",
    "stri = 'C O D E'\n",
    "space = re.compile(r'\\s+')\n",
    "spaces = re.sub(space, '',stri)\n",
    "print(spaces)\n"
   ]
  },
  {
   "cell_type": "code",
   "execution_count": null,
   "metadata": {},
   "outputs": [],
   "source": [
    "\n",
    "xb = [1,5,9,0]\n",
    "yc = [3,0,2,9]\n",
    "set1 = set([1,5,9,0])\n",
    "set2 = set(yc)\n"
   ]
  },
  {
   "cell_type": "code",
   "execution_count": null,
   "metadata": {},
   "outputs": [],
   "source": [
    "import numpy as np\n",
    "a = np.arange(10)\n",
    "print(a)\n",
    "set(a).in"
   ]
  },
  {
   "cell_type": "code",
   "execution_count": null,
   "metadata": {},
   "outputs": [],
   "source": [
    "# SECOND LARGEST ELEMENT IN LIST\n",
    "\n",
    "def second_largest(numbers):\n",
    "    largest = max(numbers)\n",
    "    numbers.remove(largest)\n",
    "    sec_largest = max(numbers)\n",
    "\n",
    "    return sec_largest\n",
    "\n",
    "    \n",
    "        \n",
    "\n",
    "\n",
    "\n",
    "\n",
    "numbers = [10, 5, 20, 8, 15]\n",
    "print(\"Second largest element is :\", second_largest(numbers))"
   ]
  },
  {
   "cell_type": "code",
   "execution_count": null,
   "metadata": {},
   "outputs": [],
   "source": [
    "# remove duplicate\n",
    "\n",
    "def remove_duplicates(numbers):\n",
    "    return set(list(numbers))\n",
    "\n",
    "\n",
    "numbers = [1, 2, 3, 3, 4, 4, 5]\n",
    "\n",
    "print(\"List after removing duplicates:\", remove_duplicates(numbers))"
   ]
  },
  {
   "cell_type": "code",
   "execution_count": null,
   "metadata": {},
   "outputs": [],
   "source": [
    "# common element between two list\n",
    "\n",
    "def intersection(list1, list2):\n",
    "    set1 = set(list1)\n",
    "    set2 = set(list2)\n",
    "    return (set1).intersection(set2)\n",
    "\n",
    "\n",
    "list1 = [1, 2, 3, 4, 5]\n",
    "list2 = [3, 4, 5, 6, 7]\n",
    "print(\"common elements are\", intersection(list1,list2))"
   ]
  },
  {
   "cell_type": "code",
   "execution_count": null,
   "metadata": {},
   "outputs": [],
   "source": [
    "def find_intersection(list1, list2):\n",
    "    return list(set(list1) & set(list2))\n",
    "\n",
    "\n",
    "list1 = [1, 2, 3, 4, 5]\n",
    "list2 = [3, 4, 5, 6, 7]\n",
    "print(\"Intersection of lists:\", find_intersection(list1, list2))"
   ]
  },
  {
   "cell_type": "code",
   "execution_count": null,
   "metadata": {},
   "outputs": [],
   "source": [
    "# count occurence of elements\n",
    "def find_occurence(a):\n",
    "    char_count = {}\n",
    "    for char in a:\n",
    "        char_count[char] = char_count.get(char,0) +1\n",
    "    return char_count\n",
    "\n",
    "\n",
    "\n",
    "a = \"hello world\"\n",
    "print(find_occurence(a))\n",
    "\n"
   ]
  },
  {
   "cell_type": "code",
   "execution_count": null,
   "metadata": {},
   "outputs": [],
   "source": [
    "data = {'a': 10, 'b': 20, 'c': 10, 'd': 30}\n",
    "print(data[\"a\"])\n",
    "for key, value in data.items():\n",
    "    print(key)\n"
   ]
  },
  {
   "cell_type": "code",
   "execution_count": null,
   "metadata": {},
   "outputs": [],
   "source": [
    "sq= {a: a*a for a in range(5)}\n",
    "print(sq)"
   ]
  },
  {
   "cell_type": "code",
   "execution_count": null,
   "metadata": {},
   "outputs": [],
   "source": [
    "data = {'a': 10, 'b': 20, 'c': 10, 'd': 30}\n",
    "max_value = max(data.items())\n",
    "print([key for key , value in data.items() if value==max_value])"
   ]
  },
  {
   "cell_type": "code",
   "execution_count": null,
   "metadata": {},
   "outputs": [],
   "source": [
    "def max_value_keys(d):\n",
    "    max_value = max(d.values())\n",
    "    return [key for key, value in d.items() if value == max_value]\n",
    "\n",
    "# Test the function\n",
    "data = {'a': 10, 'b': 20, 'c': 10, 'd': 30}\n",
    "print(\"Keys with maximum value:\", max_value_keys(data))"
   ]
  },
  {
   "cell_type": "code",
   "execution_count": null,
   "metadata": {},
   "outputs": [],
   "source": [
    "# check key exist or not\n",
    "\n",
    "def value_keys(data,ke):\n",
    "    return ke in data\n",
    "    \n",
    "\n",
    "\n",
    "data = {'a': 10, 'b': 20, 'c': 10, 'd': 30}\n",
    "ke = 'b'\n",
    "print(\"Keys with maximum value:\", value_keys(data,ke))"
   ]
  },
  {
   "cell_type": "code",
   "execution_count": null,
   "metadata": {},
   "outputs": [],
   "source": [
    "# lambda function\n",
    "\"\"\"\n",
    "Lambda function is a small and anonymous function defined by using lamda keyword. when we use lambda functon we dont have need to make functions\n",
    "\n",
    "\"\"\"\n",
    "sum = lambda x,y :x+y\n",
    "print(sum(8,9))"
   ]
  },
  {
   "cell_type": "code",
   "execution_count": null,
   "metadata": {},
   "outputs": [],
   "source": [
    "# map fucntion\n",
    "lsit = [1,2,3,4,5]\n",
    "square = list(map(lambda x: x**2,lsit))\n",
    "print(square)"
   ]
  },
  {
   "cell_type": "code",
   "execution_count": null,
   "metadata": {},
   "outputs": [],
   "source": [
    "# filter function\n",
    "numbers = [1, 2, 3, 4, 5]\n",
    "\n",
    "ans = list(filter(lambda x: x%2==0,numbers))\n",
    "print(ans)"
   ]
  },
  {
   "cell_type": "code",
   "execution_count": null,
   "metadata": {},
   "outputs": [],
   "source": [
    "# pickling and unpickling\n",
    "import pickle\n",
    "data = {'name': 'John', 'age': 30, 'city': 'New York'}\n",
    "\n",
    "with open('data.pkl','wb') as f:\n",
    "    pickle.dump(data,f)\n",
    "\n",
    "\n"
   ]
  },
  {
   "cell_type": "code",
   "execution_count": null,
   "metadata": {},
   "outputs": [],
   "source": [
    "import pickle\n",
    "with open('data.pkl','rb') as f:\n",
    "    loaded_data = pickle.load(f)\n",
    "    print(loaded_data)\n"
   ]
  },
  {
   "cell_type": "code",
   "execution_count": null,
   "metadata": {},
   "outputs": [],
   "source": [
    "# List and dictionary comprehension\n",
    "\n",
    "lst = []\n",
    "for x in range(1,10):\n",
    "    lst.append(x**2)\n",
    "print(lst)\n",
    "\n",
    "# by using comprehension code looks like\n",
    "squares = [x**2 for x in range(1,10)]\n",
    "print(squares)\n",
    "\n",
    "sq = {x:x**2 for x in range(1,7)}\n",
    "print(sq)"
   ]
  },
  {
   "cell_type": "code",
   "execution_count": null,
   "metadata": {},
   "outputs": [],
   "source": [
    "import sys\n",
    "sys.path.append('/Users/myhome/Desktop/')\n"
   ]
  },
  {
   "cell_type": "code",
   "execution_count": null,
   "metadata": {},
   "outputs": [],
   "source": [
    "import sys\n",
    "sys.path"
   ]
  },
  {
   "cell_type": "code",
   "execution_count": null,
   "metadata": {},
   "outputs": [],
   "source": [
    "def get_user(id):\n",
    "    name = 'utkarsh'\n",
    "    state = 'delhi'\n",
    "    pincode = '110083'\n",
    "    return name,state,pincode\n",
    "\n",
    "ans = get_user(123)\n",
    "print(ans)"
   ]
  },
  {
   "cell_type": "code",
   "execution_count": null,
   "metadata": {},
   "outputs": [],
   "source": [
    "point = (3, 4,6)\n",
    "x, y ,z= point\n",
    "z"
   ]
  },
  {
   "cell_type": "code",
   "execution_count": null,
   "metadata": {},
   "outputs": [],
   "source": [
    "x"
   ]
  },
  {
   "cell_type": "code",
   "execution_count": null,
   "metadata": {},
   "outputs": [],
   "source": [
    "# *args and **kargs\n",
    "def my_function(*args):\n",
    "    print(args)\n",
    "\n",
    "\n",
    "ans = my_function(1,3,5,4)"
   ]
  },
  {
   "cell_type": "code",
   "execution_count": null,
   "metadata": {},
   "outputs": [],
   "source": [
    "def function(**kwargs):\n",
    "    for key , value in kwargs.items():\n",
    "        print(key,\":\" ,value)\n",
    "\n",
    "\n",
    "function(name='John', age=30, city='New York')"
   ]
  },
  {
   "cell_type": "code",
   "execution_count": null,
   "metadata": {},
   "outputs": [],
   "source": [
    "# list\n",
    "ls = [3,4,3,5,9]\n",
    "ls.remove(3)\n",
    "print(ls)\n",
    "del ls[3]\n",
    "print(ls)"
   ]
  },
  {
   "cell_type": "code",
   "execution_count": null,
   "metadata": {},
   "outputs": [],
   "source": [
    "ls = [3,4,3,5,9]\n",
    "print(ls)\n",
    "t =3\n",
    "for i in ls:\n",
    "    if i==t:\n",
    "        ls.remove(3)\n",
    "print(ls)\n"
   ]
  },
  {
   "cell_type": "code",
   "execution_count": null,
   "metadata": {},
   "outputs": [],
   "source": [
    "ls = [3,4,3,5,9]\n",
    "t =3\n",
    "if t in ls:\n",
    "    print(f\"number {t} is found in list\")\n",
    "else:\n",
    "    print(f\"number {t} is not found in list\")\n"
   ]
  },
  {
   "cell_type": "code",
   "execution_count": null,
   "metadata": {},
   "outputs": [],
   "source": [
    "# chech whether list contains duplicate elements or not\n",
    "lss = [1,2,2,3,4,4,5]\n",
    "\n",
    "has_dup = len(lss)!= len(set(lss))\n",
    "print(has_dup)\n",
    "\n",
    "\n",
    "\n"
   ]
  },
  {
   "cell_type": "code",
   "execution_count": null,
   "metadata": {},
   "outputs": [],
   "source": [
    "list_of_tuples = [(1, 2), (3, 4), (5, 6)]\n",
    "list_of_elements = [item for i in list_of_tuples for item in i  ]\n",
    "print(list_of_elements)"
   ]
  },
  {
   "cell_type": "code",
   "execution_count": null,
   "metadata": {},
   "outputs": [],
   "source": [
    "list_of_tuples = [(1, 2), (3, 4), (5, 6)]\n",
    "for i in list_of_tuples:\n",
    "    for item in i:\n",
    "        print(item)"
   ]
  },
  {
   "cell_type": "code",
   "execution_count": null,
   "metadata": {},
   "outputs": [],
   "source": [
    "sentence = \"This is a sample sentence\"\n",
    "ans = sentence.find('is')\n",
    "print(ans)\n",
    "an = sentence.index('is')\n",
    "print(an)"
   ]
  },
  {
   "cell_type": "code",
   "execution_count": null,
   "metadata": {},
   "outputs": [],
   "source": [
    "ans = sentence.find('not')\n",
    "print(ans)\n",
    "an = sentence.index('not')\n",
    "print(an)"
   ]
  },
  {
   "cell_type": "code",
   "execution_count": null,
   "metadata": {},
   "outputs": [],
   "source": [
    "#check palindrome\n",
    "def is_palindrome(s):\n",
    "    s = ''.join(s.lower())\n",
    "    return s == s[::-1]\n",
    "\n",
    "\n",
    "\n",
    "\n",
    "\n",
    "\n",
    "\n",
    "\n",
    "\n",
    "s= \"A man, a plan, a canal: Panama\"\n",
    "s = s.replace(\" \", \"\").lower()\n",
    "print(s)\n",
    "\n",
    "# print(is_palindrome(\"A man, a plan, a canal: Panama\"))  \n",
    "\n",
    "print(s)"
   ]
  },
  {
   "cell_type": "code",
   "execution_count": null,
   "metadata": {},
   "outputs": [],
   "source": [
    "def is_palindrome(s):\n",
    "   \n",
    "    s = ''.join(c.lower() for c in s if c.isalnum())\n",
    "    print(s)\n",
    "    \n",
    "   \n",
    "    return s == s[::-1]\n",
    "\n",
    "\n",
    "print(is_palindrome(\"A man, a plan, a canal: Panama\"))  "
   ]
  },
  {
   "cell_type": "code",
   "execution_count": null,
   "metadata": {},
   "outputs": [],
   "source": [
    "a = 'Hello World'\n",
    "ann = ''.join(set(a))\n",
    "print(ann)"
   ]
  },
  {
   "cell_type": "code",
   "execution_count": null,
   "metadata": {},
   "outputs": [],
   "source": [
    "#sorted dictionzary\n",
    "my_dict = {'apple': 5, 'banana': 2, 'orange': 8, 'grape': 1}\n",
    "\n",
    "srt_dict = dict(sorted(my_dict.items(),key=lambda x : x[1]))\n",
    "print(srt_dict)\n",
    "\n",
    "# sorted_d = sorted(my_dict)\n",
    "# print(sorted_d)"
   ]
  },
  {
   "cell_type": "code",
   "execution_count": null,
   "metadata": {},
   "outputs": [],
   "source": [
    "my_dict = {'apple': 5, 'banana': 2, 'orange': 8, 'grape': 1}\n",
    "my_dict['ram'] = 4\n",
    "print(my_dict)"
   ]
  },
  {
   "cell_type": "code",
   "execution_count": null,
   "metadata": {},
   "outputs": [],
   "source": [
    "removed_value = my_dict.pop('apple')\n",
    "print(removed_value)\n",
    "print(my_dict)"
   ]
  },
  {
   "cell_type": "code",
   "execution_count": null,
   "metadata": {},
   "outputs": [],
   "source": [
    "my_list = [1, 2, 3, 4, 5]\n",
    "# for item in my_list:\n",
    "#     print(item)\n",
    "\n",
    "\n",
    "my_iter = iter(my_list)\n",
    "print(next(my_iter))\n",
    "print(next(my_iter))\n",
    "print(next(my_iter))"
   ]
  },
  {
   "cell_type": "code",
   "execution_count": null,
   "metadata": {},
   "outputs": [],
   "source": [
    "class MyClass:\n",
    "    def __init__(self):\n",
    "        self.public_attribute = 10\n",
    "\n",
    "    def public_method(self):\n",
    "        return \"This is a public method\"\n",
    "\n",
    "obj = MyClass()\n",
    "print(obj.public_attribute) \n",
    "print(obj.public_method())  "
   ]
  },
  {
   "cell_type": "code",
   "execution_count": null,
   "metadata": {},
   "outputs": [],
   "source": [
    "class MyClass:\n",
    "    def __init__(self):\n",
    "        self._protected_attribute = 20\n",
    "\n",
    "    def _protected_method(self):\n",
    "        return \"This is a protected method\"\n",
    "\n",
    "obj = MyClass()\n",
    "print(obj._protected_attribute) \n",
    "print(obj._protected_method())  "
   ]
  },
  {
   "cell_type": "code",
   "execution_count": null,
   "metadata": {},
   "outputs": [],
   "source": [
    "class MyClass:\n",
    "    def __init__(self):\n",
    "        self.__private_attribute = 30\n",
    "\n",
    "    def __private_method(self):\n",
    "        return \"This is a private method\"\n",
    "\n",
    "obj = MyClass()\n",
    "print(obj.__private_attribute)\n",
    "print(obj.__private_method)"
   ]
  },
  {
   "cell_type": "code",
   "execution_count": null,
   "metadata": {},
   "outputs": [],
   "source": [
    "import numpy as np\n",
    "import pandas as pd"
   ]
  },
  {
   "cell_type": "code",
   "execution_count": null,
   "metadata": {},
   "outputs": [],
   "source": [
    "# Sample data for Customers\n",
    "customers_data = {\n",
    "    'id': [1, 2, 3, 4],\n",
    "    'name': ['Joe', 'Henry', 'Sam', 'Max']\n",
    "}\n",
    "\n",
    "# Sample data for Orders\n",
    "orders_data = {\n",
    "    'id': [1, 2],\n",
    "    'customerId': [3, 1]\n",
    "}"
   ]
  },
  {
   "cell_type": "code",
   "execution_count": null,
   "metadata": {},
   "outputs": [],
   "source": [
    "# Creating DataFrames\n",
    "customers = pd.DataFrame(customers_data)\n",
    "orders = pd.DataFrame(orders_data)\n"
   ]
  },
  {
   "cell_type": "code",
   "execution_count": null,
   "metadata": {},
   "outputs": [],
   "source": [
    "neww = customers.iloc[:,1:]"
   ]
  },
  {
   "cell_type": "code",
   "execution_count": null,
   "metadata": {},
   "outputs": [],
   "source": [
    "neww"
   ]
  },
  {
   "cell_type": "code",
   "execution_count": null,
   "metadata": {},
   "outputs": [],
   "source": [
    "merged_df = pd.merge(customers,orders,left_on='id',right_on='customerId',how='left')"
   ]
  },
  {
   "cell_type": "code",
   "execution_count": null,
   "metadata": {},
   "outputs": [],
   "source": [
    "merged_df"
   ]
  },
  {
   "cell_type": "code",
   "execution_count": null,
   "metadata": {},
   "outputs": [],
   "source": [
    "never_ordered_customers = merged_df[merged_df['customerId'].isna()][['name']]"
   ]
  },
  {
   "cell_type": "code",
   "execution_count": null,
   "metadata": {},
   "outputs": [],
   "source": [
    "never_ordered_customers"
   ]
  },
  {
   "cell_type": "code",
   "execution_count": null,
   "metadata": {},
   "outputs": [],
   "source": []
  },
  {
   "cell_type": "code",
   "execution_count": null,
   "metadata": {},
   "outputs": [],
   "source": [
    "new.columns = ['Customers']"
   ]
  },
  {
   "cell_type": "code",
   "execution_count": null,
   "metadata": {},
   "outputs": [],
   "source": [
    "new[0]"
   ]
  },
  {
   "cell_type": "code",
   "execution_count": null,
   "metadata": {},
   "outputs": [],
   "source": [
    "# Sample data\n",
    "data = {\n",
    "    'article_id': [1, 1, 2, 2, 4, 3, 3],\n",
    "    'author_id': [3, 3, 7, 7, 7, 4, 4],\n",
    "    'viewer_id': [5, 6, 7, 6, 1, 4, 4],\n",
    "    'view_date': ['2019-08-01', '2019-08-02', '2019-08-01', '2019-08-02', '2019-07-22', '2019-07-21', '2019-07-21']\n",
    "}\n",
    "\n",
    "# Create DataFrame\n",
    "df = pd.DataFrame(data)"
   ]
  },
  {
   "cell_type": "code",
   "execution_count": null,
   "metadata": {},
   "outputs": [],
   "source": [
    "df.head(10)"
   ]
  },
  {
   "cell_type": "code",
   "execution_count": null,
   "metadata": {},
   "outputs": [],
   "source": [
    "self_viewed_authors =  df[df['author_id']==df['viewer_id']]"
   ]
  },
  {
   "cell_type": "code",
   "execution_count": null,
   "metadata": {},
   "outputs": [],
   "source": [
    "self_viewed_authors.head()"
   ]
  },
  {
   "cell_type": "code",
   "execution_count": null,
   "metadata": {},
   "outputs": [],
   "source": [
    "sself_viewed_authors =  df[df['author_id']==df['viewer_id']][['author_id']].drop_duplicates().sort_values(by='author_id').reset_index(drop=True)"
   ]
  },
  {
   "cell_type": "code",
   "execution_count": null,
   "metadata": {},
   "outputs": [],
   "source": [
    "sself = sself_viewed_authors.rename(columns={'author_id':'id'})"
   ]
  },
  {
   "cell_type": "code",
   "execution_count": null,
   "metadata": {},
   "outputs": [],
   "source": [
    "sself"
   ]
  },
  {
   "cell_type": "code",
   "execution_count": null,
   "metadata": {},
   "outputs": [],
   "source": [
    "a = [2,3,4,5]\n",
    "# for i in a:\n",
    "#     print(i*2)\n",
    "n = len(a)\n",
    "for i in range(n):\n",
    "    print(a[i]**2)"
   ]
  },
  {
   "cell_type": "code",
   "execution_count": 110,
   "metadata": {},
   "outputs": [],
   "source": [
    "# Read the number of lines\n",
    "n = int(input(\"Enter the number of lines: \"))\n",
    "\n",
    "# Read 'n' lines of input\n",
    "lines = [input() for _ in range(n)]\n",
    "\n",
    "# Print the list of lines\n",
    "print(lines)\n"
   ]
  },
  {
   "cell_type": "code",
   "execution_count": 2,
   "metadata": {},
   "outputs": [
    {
     "data": {
      "text/plain": [
       "'if a + b > 0 and a - b < 0 or a*b > 10 or a/b < 1:'"
      ]
     },
     "execution_count": 2,
     "metadata": {},
     "output_type": "execute_result"
    }
   ],
   "source": [
    "def replace_string(line):\n",
    "    import re\n",
    "    line = re.sub(r'(?<= )&&(?= )', 'and', line)\n",
    "    line = re.sub(r'(?<= )\\|\\|(?= )', 'or', line)\n",
    "    return line\n",
    "\n",
    "\n",
    "\n",
    "\n",
    "\n",
    "\n",
    "\n",
    "\n",
    "\n",
    "\n",
    "line = 'if a + b > 0 && a - b < 0 or a*b > 10 || a/b < 1:'\n",
    "replace_string(line)\n",
    "\n"
   ]
  },
  {
   "cell_type": "code",
   "execution_count": 3,
   "metadata": {},
   "outputs": [],
   "source": [
    "import numpy as np\n",
    "import pandas as pd\n",
    "line = re.su"
   ]
  },
  {
   "cell_type": "code",
   "execution_count": 8,
   "metadata": {},
   "outputs": [
    {
     "name": "stdout",
     "output_type": "stream",
     "text": [
      "Original Data:\n",
      "            value\n",
      "count  102.000000\n",
      "mean     0.058635\n",
      "std      1.728015\n",
      "min    -10.000000\n",
      "25%     -0.662926\n",
      "50%      0.094096\n",
      "75%      0.753051\n",
      "max     10.000000\n",
      "\n",
      "Data After Removing Outliers:\n",
      "            value\n",
      "count  100.000000\n",
      "mean     0.059808\n",
      "std      1.012960\n",
      "min     -2.552990\n",
      "25%     -0.643857\n",
      "50%      0.094096\n",
      "75%      0.737077\n",
      "max      2.269755\n"
     ]
    },
    {
     "data": {
      "text/html": [
       "<div>\n",
       "<style scoped>\n",
       "    .dataframe tbody tr th:only-of-type {\n",
       "        vertical-align: middle;\n",
       "    }\n",
       "\n",
       "    .dataframe tbody tr th {\n",
       "        vertical-align: top;\n",
       "    }\n",
       "\n",
       "    .dataframe thead th {\n",
       "        text-align: right;\n",
       "    }\n",
       "</style>\n",
       "<table border=\"1\" class=\"dataframe\">\n",
       "  <thead>\n",
       "    <tr style=\"text-align: right;\">\n",
       "      <th></th>\n",
       "      <th>value</th>\n",
       "    </tr>\n",
       "  </thead>\n",
       "  <tbody>\n",
       "    <tr>\n",
       "      <th>0</th>\n",
       "      <td>1.764052</td>\n",
       "    </tr>\n",
       "    <tr>\n",
       "      <th>1</th>\n",
       "      <td>0.400157</td>\n",
       "    </tr>\n",
       "    <tr>\n",
       "      <th>2</th>\n",
       "      <td>0.978738</td>\n",
       "    </tr>\n",
       "    <tr>\n",
       "      <th>3</th>\n",
       "      <td>2.240893</td>\n",
       "    </tr>\n",
       "    <tr>\n",
       "      <th>4</th>\n",
       "      <td>1.867558</td>\n",
       "    </tr>\n",
       "  </tbody>\n",
       "</table>\n",
       "</div>"
      ],
      "text/plain": [
       "      value\n",
       "0  1.764052\n",
       "1  0.400157\n",
       "2  0.978738\n",
       "3  2.240893\n",
       "4  1.867558"
      ]
     },
     "execution_count": 8,
     "metadata": {},
     "output_type": "execute_result"
    }
   ],
   "source": [
    "def remove_ouotliers(data,col):\n",
    "    Q1 = data[col].quantile(0.25)\n",
    "    Q3 = data[col].quantile(0.75)\n",
    "    iqr = Q3-Q1\n",
    "\n",
    "    upper_limit = Q3 + 1.5*iqr\n",
    "    lower_limit = Q1 - 1.5*iqr\n",
    "\n",
    "    cleaned_data = data[(data[col]>=lower_limit) & (data[col]<=upper_limit)]\n",
    "    return cleaned_data\n",
    "\n",
    "# Sample Data\n",
    "np.random.seed(0)\n",
    "data = {\n",
    "    'value': np.random.normal(0, 1, 100)\n",
    "}\n",
    "df = pd.DataFrame(data)\n",
    "\n",
    "# Add some outliers\n",
    "df.loc[100] = [10]  # High outlier\n",
    "df.loc[101] = [-10]  # Low outlier\n",
    "\n",
    "print(\"Original Data:\")\n",
    "print(df.describe())\n",
    "\n",
    "df_cleaned = remove_ouotliers(df, 'value')\n",
    "print(\"\\nData After Removing Outliers:\")\n",
    "print(df_cleaned.describe())\n",
    "df_cleaned.head()"
   ]
  },
  {
   "cell_type": "code",
   "execution_count": null,
   "metadata": {},
   "outputs": [],
   "source": [
    "# Sample Data\n",
    "np.random.seed(0)\n",
    "data = {\n",
    "    'value': np.random.normal(0, 1, 100)\n",
    "}\n",
    "df = pd.DataFrame(data)\n",
    "\n",
    "# Add some outliers\n",
    "df.loc[100] = [10]  # High outlier\n",
    "df.loc[101] = [-10]  # Low outlier\n",
    "\n",
    "print(\"Original Data:\")\n",
    "print(df.describe())\n",
    "\n",
    "df_cleaned = remove_outliers(df, 'value')\n",
    "print(\"\\nData After Removing Outliers:\")\n",
    "print(df_cleaned.describe())"
   ]
  },
  {
   "cell_type": "code",
   "execution_count": 1,
   "metadata": {},
   "outputs": [],
   "source": [
    "import numpy as np\n",
    "import pandas as pd\n",
    "import os\n",
    "import math\n",
    "import math\n",
    "import os\n",
    "import random\n",
    "import re\n",
    "import sys"
   ]
  },
  {
   "cell_type": "code",
   "execution_count": 2,
   "metadata": {},
   "outputs": [
    {
     "name": "stdout",
     "output_type": "stream",
     "text": [
      "hello, world\n"
     ]
    }
   ],
   "source": [
    "a = \"  hello, world   \"\n",
    "ans = a.strip()\n",
    "print(ans)"
   ]
  },
  {
   "cell_type": "code",
   "execution_count": 5,
   "metadata": {},
   "outputs": [],
   "source": [
    "str_new = ans.replace(',', '')"
   ]
  },
  {
   "cell_type": "code",
   "execution_count": 6,
   "metadata": {},
   "outputs": [
    {
     "data": {
      "text/plain": [
       "'hello  world'"
      ]
     },
     "execution_count": 6,
     "metadata": {},
     "output_type": "execute_result"
    }
   ],
   "source": [
    "str_new"
   ]
  },
  {
   "cell_type": "code",
   "execution_count": 18,
   "metadata": {},
   "outputs": [
    {
     "name": "stdout",
     "output_type": "stream",
     "text": [
      "2\n",
      "3\n",
      "4\n",
      "5\n",
      "3\n"
     ]
    }
   ],
   "source": [
    "b = [2,3,4,5,3]\n",
    "c= len(b)\n",
    "for i in range(0,c):\n",
    "    print(b[i])"
   ]
  },
  {
   "cell_type": "code",
   "execution_count": 37,
   "metadata": {},
   "outputs": [
    {
     "ename": "TypeError",
     "evalue": "'str' object is not callable",
     "output_type": "error",
     "traceback": [
      "\u001b[1;31m---------------------------------------------------------------------------\u001b[0m",
      "\u001b[1;31mTypeError\u001b[0m                                 Traceback (most recent call last)",
      "Cell \u001b[1;32mIn[37], line 4\u001b[0m\n\u001b[0;32m      2\u001b[0m result \u001b[38;5;241m=\u001b[39m \u001b[38;5;124m'\u001b[39m\u001b[38;5;124m'\u001b[39m\n\u001b[0;32m      3\u001b[0m \u001b[38;5;28;01mfor\u001b[39;00m i \u001b[38;5;129;01min\u001b[39;00m \u001b[38;5;28mrange\u001b[39m(\u001b[38;5;241m1\u001b[39m,n\u001b[38;5;241m+\u001b[39m\u001b[38;5;241m1\u001b[39m):\n\u001b[1;32m----> 4\u001b[0m     result \u001b[38;5;241m+\u001b[39m\u001b[38;5;241m=\u001b[39m \u001b[38;5;28;43mstr\u001b[39;49m\u001b[43m(\u001b[49m\u001b[43mi\u001b[49m\u001b[43m)\u001b[49m\n\u001b[0;32m      5\u001b[0m \u001b[38;5;28mprint\u001b[39m(result)\n",
      "\u001b[1;31mTypeError\u001b[0m: 'str' object is not callable"
     ]
    }
   ],
   "source": [
    "n = 5\n",
    "result = ''\n",
    "for i in range(1,n+1):\n",
    "    result += str(i)\n",
    "print(result)"
   ]
  },
  {
   "cell_type": "code",
   "execution_count": 40,
   "metadata": {},
   "outputs": [],
   "source": [
    "def print_consecutive_numbers(n):\n",
    "\n",
    "    result = ''\n",
    "    for i in range(1, n + 1):\n",
    "        \n",
    "        result += str(i)\n",
    "\n",
    "    print(result)\n",
    "\n",
    "# Read input from stdin\n",
    "n = int(input().strip())\n",
    "print_consecutive_numbers(n)"
   ]
  },
  {
   "cell_type": "code",
   "execution_count": 1,
   "metadata": {},
   "outputs": [],
   "source": [
    "import pandas as pd\n",
    "import numpy as np"
   ]
  },
  {
   "cell_type": "code",
   "execution_count": 8,
   "metadata": {},
   "outputs": [],
   "source": [
    "number = '23665'\n",
    "ans = list(map(int , number.strip().split()))"
   ]
  },
  {
   "cell_type": "code",
   "execution_count": 9,
   "metadata": {},
   "outputs": [
    {
     "data": {
      "text/plain": [
       "[23665]"
      ]
     },
     "execution_count": 9,
     "metadata": {},
     "output_type": "execute_result"
    }
   ],
   "source": [
    "ans"
   ]
  },
  {
   "cell_type": "code",
   "execution_count": 12,
   "metadata": {},
   "outputs": [
    {
     "name": "stdout",
     "output_type": "stream",
     "text": [
      "Harry\n",
      "Berry\n",
      "Tina\n",
      "Akriti\n",
      "Harsh\n"
     ]
    }
   ],
   "source": [
    "students = [['Harry', 37.21], ['Berry', 37.21], ['Tina', 37.2], ['Akriti', 41], ['Harsh', 39]]\n",
    "for name , grade in students:\n",
    "    print(name)"
   ]
  },
  {
   "cell_type": "code",
   "execution_count": 23,
   "metadata": {},
   "outputs": [
    {
     "data": {
      "text/plain": [
       "[37.2, 37.21, 39, 41]"
      ]
     },
     "execution_count": 23,
     "metadata": {},
     "output_type": "execute_result"
    }
   ],
   "source": [
    "unique_grades = sorted(set(grade for name , grade in students),reverse=False)\n",
    "unique_grades"
   ]
  },
  {
   "cell_type": "code",
   "execution_count": 18,
   "metadata": {},
   "outputs": [],
   "source": [
    "if len(unique_grades)>1:\n",
    "    second_lowest = unique_grades[1]\n",
    "else:\n",
    "    pass\n",
    "\n",
    "# students who socred 37.21 marks \n",
    "students_score = [name for name , grade in students if grade==second_lowest ]\n",
    "\n",
    "\n"
   ]
  },
  {
   "cell_type": "code",
   "execution_count": 20,
   "metadata": {},
   "outputs": [],
   "source": [
    "students_score.sort()"
   ]
  },
  {
   "cell_type": "code",
   "execution_count": 21,
   "metadata": {},
   "outputs": [
    {
     "data": {
      "text/plain": [
       "['Berry', 'Harry']"
      ]
     },
     "execution_count": 21,
     "metadata": {},
     "output_type": "execute_result"
    }
   ],
   "source": []
  },
  {
   "cell_type": "code",
   "execution_count": 1,
   "metadata": {},
   "outputs": [
    {
     "ename": "ValueError",
     "evalue": "invalid literal for int() with base 10: 'yash'",
     "output_type": "error",
     "traceback": [
      "\u001b[1;31m---------------------------------------------------------------------------\u001b[0m",
      "\u001b[1;31mValueError\u001b[0m                                Traceback (most recent call last)",
      "Cell \u001b[1;32mIn[1], line 22\u001b[0m\n\u001b[0;32m     14\u001b[0m    \u001b[38;5;28;01mreturn\u001b[39;00m ans\n\u001b[0;32m     21\u001b[0m \u001b[38;5;28;01mif\u001b[39;00m \u001b[38;5;18m__name__\u001b[39m \u001b[38;5;241m==\u001b[39m \u001b[38;5;124m'\u001b[39m\u001b[38;5;124m__main__\u001b[39m\u001b[38;5;124m'\u001b[39m:\n\u001b[1;32m---> 22\u001b[0m    \u001b[38;5;28;01mfor\u001b[39;00m _ \u001b[38;5;129;01min\u001b[39;00m \u001b[38;5;28mrange\u001b[39m(\u001b[38;5;28;43mint\u001b[39;49m\u001b[43m(\u001b[49m\u001b[38;5;28;43minput\u001b[39;49m\u001b[43m(\u001b[49m\u001b[43m)\u001b[49m\u001b[43m)\u001b[49m):\n\u001b[0;32m     23\u001b[0m        student_data \u001b[38;5;241m=\u001b[39m []\n\u001b[0;32m     24\u001b[0m        name \u001b[38;5;241m=\u001b[39m \u001b[38;5;28minput\u001b[39m()\n",
      "\u001b[1;31mValueError\u001b[0m: invalid literal for int() with base 10: 'yash'"
     ]
    }
   ],
   "source": [
    " def second_lowest(student_data):\n",
    "    unique_score = sorted(set(score for name, score in student_data), reverse=False)\n",
    "    \n",
    "    \n",
    "    if len(unique_score)>1:\n",
    "        second_lowest_score = unique_score[1]\n",
    "    else:\n",
    "        return []\n",
    "        \n",
    "    \n",
    "    \n",
    "    ans = [name for name, score in student_data if score== second_lowest_score]\n",
    "    ans.sort()\n",
    "    return ans\n",
    "\n",
    "\n",
    "\n",
    "\n",
    "\n",
    "\n",
    "if __name__ == '__main__':\n",
    "    for _ in range(int(input())):\n",
    "        student_data = []\n",
    "        name = input()\n",
    "        score = float(input())\n",
    "        student_data.append([name, score])\n",
    "        result = second_lowest(student_data)\n",
    "        for i in result:\n",
    "            print(i)\n",
    "        "
   ]
  },
  {
   "cell_type": "code",
   "execution_count": 1,
   "metadata": {},
   "outputs": [],
   "source": [
    "import numpy as np\n",
    "import pandas as pd"
   ]
  },
  {
   "cell_type": "code",
   "execution_count": 11,
   "metadata": {},
   "outputs": [],
   "source": [
    "def custom_sort(char):\n",
    "    if char.islower():\n",
    "        return (1, char)\n",
    "    elif char.isupper():\n",
    "        return (2, char)\n",
    "    elif char.isdigit():\n",
    "        digit = int(char)\n",
    "        if digit % 2 != 0:\n",
    "            return (3, char)\n",
    "        else:\n",
    "            return (4, char)\n",
    "\n",
    "def sort_string(input_str):\n",
    "    sorted_str = sorted(input_str, key=custom_sort)\n",
    "    return ''.join(sorted_str)"
   ]
  },
  {
   "cell_type": "code",
   "execution_count": 12,
   "metadata": {},
   "outputs": [
    {
     "name": "stdout",
     "output_type": "stream",
     "text": [
      "ginortS1324\n"
     ]
    }
   ],
   "source": [
    "input_str = \"Sorting1234\"\n",
    "sorted_str = sort_string(input_str)\n",
    "print(sorted_str)\n"
   ]
  },
  {
   "cell_type": "code",
   "execution_count": 4,
   "metadata": {},
   "outputs": [
    {
     "data": {
      "text/plain": [
       "7"
      ]
     },
     "execution_count": 4,
     "metadata": {},
     "output_type": "execute_result"
    }
   ],
   "source": [
    "s = 'utkarsh'\n",
    "si = len(s)\n",
    "si\n"
   ]
  },
  {
   "cell_type": "code",
   "execution_count": 5,
   "metadata": {},
   "outputs": [
    {
     "name": "stdout",
     "output_type": "stream",
     "text": [
      "u\n",
      "t\n",
      "k\n",
      "a\n",
      "r\n",
      "s\n",
      "h\n"
     ]
    }
   ],
   "source": [
    "for i in range(0,len(s)):\n",
    "    print(s[i])"
   ]
  },
  {
   "cell_type": "code",
   "execution_count": 6,
   "metadata": {},
   "outputs": [],
   "source": [
    "# >>> print '1234'.isdigit()\n",
    "# True\n",
    "# >>> print '123edsd'.isdigit()\n",
    "# False"
   ]
  },
  {
   "cell_type": "code",
   "execution_count": 12,
   "metadata": {},
   "outputs": [
    {
     "name": "stdout",
     "output_type": "stream",
     "text": [
      "True\n"
     ]
    }
   ],
   "source": [
    "aaa = '1234A#'\n",
    "print(any(x.isalnum() for x in aaa))"
   ]
  },
  {
   "cell_type": "code",
   "execution_count": 13,
   "metadata": {},
   "outputs": [
    {
     "name": "stdout",
     "output_type": "stream",
     "text": [
      "False\n"
     ]
    }
   ],
   "source": [
    "print('ab123#'.isalnum())"
   ]
  },
  {
   "cell_type": "code",
   "execution_count": 14,
   "metadata": {},
   "outputs": [
    {
     "name": "stdout",
     "output_type": "stream",
     "text": [
      "False\n"
     ]
    }
   ],
   "source": [
    "print('1234A#'.isalnum())"
   ]
  },
  {
   "cell_type": "code",
   "execution_count": 18,
   "metadata": {},
   "outputs": [],
   "source": [
    "commands = [\n",
    "    \"insert 0 5\",\n",
    "    \"append 10\",\n",
    "    \"print\"\n",
    "]"
   ]
  },
  {
   "cell_type": "code",
   "execution_count": 22,
   "metadata": {},
   "outputs": [
    {
     "name": "stdout",
     "output_type": "stream",
     "text": [
      "['insert', '0', '5']\n",
      "['append', '10']\n",
      "['print']\n"
     ]
    }
   ],
   "source": [
    "for command in commands:\n",
    "    parts = command.split()\n",
    "    print(parts)\n"
   ]
  },
  {
   "cell_type": "code",
   "execution_count": 21,
   "metadata": {},
   "outputs": [
    {
     "data": {
      "text/plain": [
       "['print']"
      ]
     },
     "execution_count": 21,
     "metadata": {},
     "output_type": "execute_result"
    }
   ],
   "source": [
    "parts"
   ]
  },
  {
   "cell_type": "code",
   "execution_count": 20,
   "metadata": {},
   "outputs": [
    {
     "name": "stdout",
     "output_type": "stream",
     "text": [
      "ginortS1324\n"
     ]
    }
   ],
   "source": [
    "def custom_sort(char):\n",
    "    if char.islower():\n",
    "        return (1,char)\n",
    "    elif char.isupper():\n",
    "        return (2, char)\n",
    "    elif char.isdigit():\n",
    "        num = int(char)\n",
    "        if num%2!=0:\n",
    "            return (3, char)\n",
    "        else:\n",
    "            return (4,char)\n",
    "\n",
    "def sortt(input_str):\n",
    "    new_str = sorted(input_str, key = custom_sort)\n",
    "    return ''.join(new_str)\n",
    "\n",
    "\n",
    "\n",
    "\n",
    "input_str = \"Sorting1234\"\n",
    "sorted_str = sortt(input_str)\n",
    "print(sorted_str)"
   ]
  },
  {
   "cell_type": "code",
   "execution_count": 24,
   "metadata": {},
   "outputs": [
    {
     "name": "stdout",
     "output_type": "stream",
     "text": [
      "Letter is constonat\n"
     ]
    }
   ],
   "source": [
    "write_letter = input()\n",
    "vowels = ['a','e','i','o','u']\n",
    "if write_letter.lower() in vowels:\n",
    "    print('Letter is vowel')\n",
    "else:\n",
    "    print('Letter is constonat')"
   ]
  },
  {
   "cell_type": "markdown",
   "metadata": {},
   "source": [
    "#### Remove Vowel From String"
   ]
  },
  {
   "cell_type": "code",
   "execution_count": 30,
   "metadata": {},
   "outputs": [
    {
     "name": "stdout",
     "output_type": "stream",
     "text": [
      "Prpnst\n"
     ]
    }
   ],
   "source": [
    "def remove_vowel(stringg):\n",
    "    vowels = ['a','e','i','o','u']\n",
    "    new_ans= ''\n",
    "    for char  in stringg:\n",
    "        if char.lower() not in vowels:\n",
    "            new_ans = new_ans+char\n",
    "    return new_ans\n",
    "\n",
    "\n",
    "stringg = \"PrepInsta\"\n",
    "answer = remove_vowel(stringg)\n",
    "print(answer)\n"
   ]
  },
  {
   "cell_type": "code",
   "execution_count": null,
   "metadata": {},
   "outputs": [],
   "source": []
  }
 ],
 "metadata": {
  "kernelspec": {
   "display_name": "Python 3",
   "language": "python",
   "name": "python3"
  },
  "language_info": {
   "codemirror_mode": {
    "name": "ipython",
    "version": 3
   },
   "file_extension": ".py",
   "mimetype": "text/x-python",
   "name": "python",
   "nbconvert_exporter": "python",
   "pygments_lexer": "ipython3",
   "version": "3.10.6"
  }
 },
 "nbformat": 4,
 "nbformat_minor": 2
}
