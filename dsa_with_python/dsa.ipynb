{
 "cells": [
  {
   "cell_type": "code",
   "execution_count": 1,
   "metadata": {},
   "outputs": [
    {
     "name": "stdout",
     "output_type": "stream",
     "text": [
      "4\n"
     ]
    }
   ],
   "source": [
    "# Arrray\n",
    "arr = [1,2,4,53,2]\n",
    "print(arr[2])\n"
   ]
  },
  {
   "cell_type": "code",
   "execution_count": 4,
   "metadata": {},
   "outputs": [
    {
     "name": "stdout",
     "output_type": "stream",
     "text": [
      "[1, 2, 5, 4, 53, 2]\n"
     ]
    }
   ],
   "source": [
    "arr.insert(2,5)\n",
    "print(arr)"
   ]
  },
  {
   "cell_type": "code",
   "execution_count": 5,
   "metadata": {},
   "outputs": [
    {
     "name": "stdout",
     "output_type": "stream",
     "text": [
      "True\n"
     ]
    }
   ],
   "source": [
    "print(2 in arr)"
   ]
  },
  {
   "cell_type": "code",
   "execution_count": 6,
   "metadata": {},
   "outputs": [
    {
     "data": {
      "text/plain": [
       "2"
      ]
     },
     "execution_count": 6,
     "metadata": {},
     "output_type": "execute_result"
    }
   ],
   "source": [
    "arr.count(2)"
   ]
  },
  {
   "cell_type": "code",
   "execution_count": 9,
   "metadata": {},
   "outputs": [
    {
     "name": "stdout",
     "output_type": "stream",
     "text": [
      "[2, 2]\n"
     ]
    }
   ],
   "source": [
    "targt = 2\n",
    "ans = [element for element in arr if targt==element]\n",
    "print(ans)"
   ]
  },
  {
   "cell_type": "code",
   "execution_count": 12,
   "metadata": {},
   "outputs": [
    {
     "name": "stdout",
     "output_type": "stream",
     "text": [
      "[2, 4, 53, 2]\n"
     ]
    }
   ],
   "source": [
    "arr = [1,2,4,53,2]\n",
    "arr.pop(0)\n",
    "print(arr)\n"
   ]
  },
  {
   "cell_type": "code",
   "execution_count": 3,
   "metadata": {},
   "outputs": [
    {
     "name": "stdout",
     "output_type": "stream",
     "text": [
      "6\n",
      "3\n"
     ]
    }
   ],
   "source": [
    "# find middel elemtnt of array\n",
    "arr = [1,2,4,53,2,0]\n",
    "\n",
    "midd = len(arr)\n",
    "ans = len(arr)//2\n",
    "print(midd)\n",
    "print(ans)\n",
    "# print(arr[mid-1])\n",
    "\n"
   ]
  },
  {
   "cell_type": "code",
   "execution_count": 6,
   "metadata": {},
   "outputs": [
    {
     "name": "stdout",
     "output_type": "stream",
     "text": [
      "53\n"
     ]
    }
   ],
   "source": [
    "import numpy as np\n",
    "arrr = np.array([1,2,4,53,2,0,8])\n",
    "l = len(arrr)//2\n",
    "print(arrr[l])"
   ]
  },
  {
   "cell_type": "code",
   "execution_count": 23,
   "metadata": {},
   "outputs": [
    {
     "name": "stdout",
     "output_type": "stream",
     "text": [
      "*\n",
      "**\n",
      "***\n",
      "****\n",
      "*****\n"
     ]
    }
   ],
   "source": [
    "# pattern problem \n",
    "n = 5\n",
    "for i in range(n):\n",
    "    for j in range(i+1):\n",
    "        print('*',end=\"\")\n",
    "    print()\n",
    "    \n",
    "  \n",
    "\n"
   ]
  },
  {
   "cell_type": "code",
   "execution_count": 50,
   "metadata": {},
   "outputs": [
    {
     "name": "stdout",
     "output_type": "stream",
     "text": [
      "1\n",
      "12\n",
      "123\n",
      "1234\n",
      "12345\n"
     ]
    }
   ],
   "source": [
    "n=5\n",
    "for i in range(n):\n",
    "    for j in range(i+1):\n",
    "        \n",
    "        \n",
    "        \n",
    "        print(j+1,end=\"\")\n",
    "    print()\n"
   ]
  },
  {
   "cell_type": "code",
   "execution_count": 58,
   "metadata": {},
   "outputs": [
    {
     "name": "stdout",
     "output_type": "stream",
     "text": [
      "1\n",
      "12\n",
      "123\n",
      "1234\n",
      "12345\n"
     ]
    }
   ],
   "source": [
    "n=5\n",
    "for i in range(n):\n",
    "    for j in range(1,i+2):\n",
    "        \n",
    "        \n",
    "        \n",
    "        print(j,end=\"\")\n",
    "    print()"
   ]
  },
  {
   "cell_type": "code",
   "execution_count": 64,
   "metadata": {},
   "outputs": [
    {
     "name": "stdout",
     "output_type": "stream",
     "text": [
      "1\n",
      "22\n",
      "333\n",
      "4444\n",
      "55555\n"
     ]
    }
   ],
   "source": [
    "\n",
    "n = 5\n",
    "for i in range(5):\n",
    "    for j in range(i+1):\n",
    "        print(i+1,end=\"\")\n",
    "    print()\n"
   ]
  },
  {
   "cell_type": "code",
   "execution_count": 81,
   "metadata": {},
   "outputs": [
    {
     "name": "stdout",
     "output_type": "stream",
     "text": [
      "12345\n",
      "1234\n",
      "123\n",
      "12\n",
      "1\n"
     ]
    }
   ],
   "source": [
    "n = 5\n",
    "for i in range(n):\n",
    "    for j in range(n-i):\n",
    "        print(j+1,end=\"\")\n",
    "    print()"
   ]
  },
  {
   "cell_type": "code",
   "execution_count": 1,
   "metadata": {},
   "outputs": [
    {
     "name": "stdout",
     "output_type": "stream",
     "text": [
      "10\n"
     ]
    }
   ],
   "source": [
    "def add(a,b):\n",
    "    return a+b\n",
    "\n",
    "a= 5\n",
    "b=5\n",
    "print(add(a,b))"
   ]
  },
  {
   "cell_type": "code",
   "execution_count": 5,
   "metadata": {},
   "outputs": [
    {
     "name": "stdout",
     "output_type": "stream",
     "text": [
      "2\n"
     ]
    }
   ],
   "source": [
    "#count number of digits\n",
    "def countNumber(num):\n",
    "    return  len(str(num))\n",
    "\n",
    "print(countNumber(45))"
   ]
  },
  {
   "cell_type": "code",
   "execution_count": 9,
   "metadata": {},
   "outputs": [
    {
     "name": "stdout",
     "output_type": "stream",
     "text": [
      "True\n"
     ]
    }
   ],
   "source": [
    "# prime number\n",
    "\n",
    "def isPrime(num):\n",
    "    i = 2\n",
    "    while i*i<=num:\n",
    "        if num%i==0:\n",
    "            return False\n",
    "        i+=1\n",
    "    return True\n",
    "\n",
    "ans = isPrime(1)\n",
    "print(ans)\n",
    "\n"
   ]
  },
  {
   "cell_type": "code",
   "execution_count": 11,
   "metadata": {},
   "outputs": [
    {
     "name": "stdout",
     "output_type": "stream",
     "text": [
      "ram\n",
      "ram\n",
      "ram\n",
      "ram\n",
      "ram\n"
     ]
    }
   ],
   "source": [
    "## RECURSION\n",
    "n =5\n",
    "name = 'ram'\n",
    "def rec(n):\n",
    "    if n==0:\n",
    "        return\n",
    "    else:\n",
    "        print('ram')\n",
    "        rec(n-1)\n",
    "\n",
    "rec(5)\n"
   ]
  },
  {
   "cell_type": "code",
   "execution_count": 12,
   "metadata": {},
   "outputs": [
    {
     "name": "stdout",
     "output_type": "stream",
     "text": [
      "4\n",
      "5\n",
      "6\n",
      "7\n",
      "8\n",
      "9\n",
      "10\n"
     ]
    }
   ],
   "source": [
    "# print number till n\n",
    "def number(n):\n",
    "    if n ==3:\n",
    "        return \n",
    "    \n",
    "    number(n-1)\n",
    "    print(n)\n",
    "    \n",
    "        \n",
    "number(10)\n",
    "        \n",
    "        \n",
    "        \n",
    "        \n",
    "\n"
   ]
  },
  {
   "cell_type": "code",
   "execution_count": 26,
   "metadata": {},
   "outputs": [
    {
     "data": {
      "text/plain": [
       "55"
      ]
     },
     "execution_count": 26,
     "metadata": {},
     "output_type": "execute_result"
    }
   ],
   "source": [
    "def sumofnumbers(n):\n",
    "    if n==0:\n",
    "        return 0\n",
    "    else:\n",
    "        ans = n+sumofnumbers(n-1)\n",
    "        return ans\n",
    "        \n",
    "\n",
    "sumofnumbers(10)"
   ]
  },
  {
   "cell_type": "code",
   "execution_count": 28,
   "metadata": {},
   "outputs": [
    {
     "data": {
      "text/plain": [
       "55"
      ]
     },
     "execution_count": 28,
     "metadata": {},
     "output_type": "execute_result"
    }
   ],
   "source": [
    "def sumofnumber(i,n):\n",
    "    if i>n:\n",
    "        return 0\n",
    "    else:\n",
    "        ans = i+sumofnumber(i+1,n)\n",
    "        return ans\n",
    "        \n",
    "\n",
    "sumofnumber(1,10)"
   ]
  },
  {
   "cell_type": "code",
   "execution_count": 29,
   "metadata": {},
   "outputs": [
    {
     "data": {
      "text/plain": [
       "120"
      ]
     },
     "execution_count": 29,
     "metadata": {},
     "output_type": "execute_result"
    }
   ],
   "source": [
    "# factorial of number\n",
    "def factorial(n):\n",
    "    if n==0 | n==1:\n",
    "        return 1\n",
    "    else:\n",
    "        return n* factorial(n-1)\n",
    "\n",
    "    \n",
    "\n",
    "\n",
    "\n",
    "\n",
    "\n",
    "\n",
    "factorial(5)"
   ]
  },
  {
   "cell_type": "code",
   "execution_count": 1,
   "metadata": {},
   "outputs": [
    {
     "name": "stdout",
     "output_type": "stream",
     "text": [
      "15\n"
     ]
    }
   ],
   "source": [
    "#sum of firsr n numbers\n",
    "\n",
    "def sumof(n):\n",
    "    if n==0:\n",
    "        return 0\n",
    "    else:\n",
    "        return n+sumof(n-1)\n",
    "\n",
    "\n",
    "print(sumof(5))\n",
    "\n"
   ]
  },
  {
   "cell_type": "code",
   "execution_count": 3,
   "metadata": {},
   "outputs": [
    {
     "name": "stdout",
     "output_type": "stream",
     "text": [
      "15\n"
     ]
    }
   ],
   "source": [
    "# arr = [1,2,3,4,5]\n",
    "n = 5\n",
    "ans = 0\n",
    "for i in range(1,n+1):\n",
    "    ans = ans+i\n",
    "print(ans)"
   ]
  },
  {
   "cell_type": "code",
   "execution_count": 5,
   "metadata": {},
   "outputs": [
    {
     "name": "stdout",
     "output_type": "stream",
     "text": [
      "[1]\n"
     ]
    }
   ],
   "source": [
    "arr = [1]\n",
    "print(arr[::-1])"
   ]
  },
  {
   "cell_type": "code",
   "execution_count": 11,
   "metadata": {},
   "outputs": [
    {
     "name": "stdout",
     "output_type": "stream",
     "text": [
      "5\n",
      "[1, 2, 3, 4, 5]\n"
     ]
    }
   ],
   "source": [
    "# reverse an array\n",
    "arr = [1,2,3,4,5]\n",
    "print(len(arr))\n",
    "a = []\n",
    "for i in arr:\n",
    "    a.append(arr[i-1])\n",
    "print(a)"
   ]
  },
  {
   "cell_type": "code",
   "execution_count": 22,
   "metadata": {},
   "outputs": [
    {
     "name": "stdout",
     "output_type": "stream",
     "text": [
      "reversed [4, 3, 2, 1]\n"
     ]
    }
   ],
   "source": [
    "\n",
    "\n",
    "\n",
    "def reversed_arr(arr):\n",
    "    start = 0\n",
    "    end = len(arr) -1\n",
    "\n",
    "    while start < end:\n",
    "        arr[start], arr[end] = arr[end], arr[start]\n",
    "\n",
    "        \n",
    "        start +=1\n",
    "        end -= 1\n",
    "\n",
    "arr = [1,2,3,4]\n",
    "\n",
    "reversed_arr(arr)\n",
    "print(\"reversed\",arr)\n",
    "    \n"
   ]
  },
  {
   "cell_type": "code",
   "execution_count": 26,
   "metadata": {},
   "outputs": [
    {
     "name": "stdout",
     "output_type": "stream",
     "text": [
      "[5, 4, 3, 2, 1]\n"
     ]
    }
   ],
   "source": [
    "arr = [1,2,3,4,5]\n",
    "n = len(arr)\n",
    "for i in  range(n//2):\n",
    "    arr[i], arr[n-1-i] = arr[n-1-i], arr[i]\n",
    "    \n",
    "print(arr)\n",
    "\n"
   ]
  },
  {
   "cell_type": "code",
   "execution_count": 41,
   "metadata": {},
   "outputs": [
    {
     "name": "stdout",
     "output_type": "stream",
     "text": [
      "[5, 4, 3, 2, 1]\n"
     ]
    }
   ],
   "source": [
    "def reverse(s,e,lst):\n",
    "    if s>=e:\n",
    "        return\n",
    "    lst[s],lst[e] = lst[e],lst[s]\n",
    "    reverse(s+1,e-1,lst)\n",
    "\n",
    "lst = [1,2,3,4,5]\n",
    "s=0\n",
    "e = len(lst)-1\n",
    "reverse(s,e,lst)\n",
    "print(lst)"
   ]
  },
  {
   "cell_type": "code",
   "execution_count": 43,
   "metadata": {},
   "outputs": [
    {
     "name": "stdout",
     "output_type": "stream",
     "text": [
      "3\n"
     ]
    }
   ],
   "source": [
    "arr = [10,5,10,15,10,5]\n",
    "newarr = set(arr)\n",
    "print(len(newarr))"
   ]
  },
  {
   "cell_type": "code",
   "execution_count": 7,
   "metadata": {},
   "outputs": [
    {
     "name": "stdout",
     "output_type": "stream",
     "text": [
      "{10: 3, 5: 2, 15: 1}\n",
      "Key with max value: 10, Max value: 3\n"
     ]
    }
   ],
   "source": [
    "def find_occurence(a):\n",
    "    char_count = {}\n",
    "    for num  in a:\n",
    "        char_count[num] = char_count.get(num,0) +1\n",
    "    return char_count\n",
    "\n",
    "a = [10,5,10,15,10,5]\n",
    "print(find_occurence(a))\n",
    "\n",
    "aa = {10: 3, 5: 2, 15: 1}\n",
    "# for key ,value in aa.items():\n",
    "#     print(max(aa.values()))\n",
    "max_key = max(aa,key=aa.get)\n",
    "print(f'Key with max value: {max_key}, Max value: {aa[max_key]}')\n"
   ]
  },
  {
   "cell_type": "code",
   "execution_count": 9,
   "metadata": {},
   "outputs": [
    {
     "name": "stdout",
     "output_type": "stream",
     "text": [
      "3 10\n"
     ]
    }
   ],
   "source": [
    "maxCount = 0\n",
    "maxValue = -1\n",
    "d = {10: 3, 5: 2, 15: 1}\n",
    "for key,count in d.items():\n",
    "    if maxCount < count:\n",
    "        maxValue = key\n",
    "        maxCount = count\n",
    "print(maxCount,maxValue)\n"
   ]
  },
  {
   "cell_type": "code",
   "execution_count": 13,
   "metadata": {},
   "outputs": [
    {
     "name": "stdout",
     "output_type": "stream",
     "text": [
      "[1, 2, 4, 5, 7]\n"
     ]
    }
   ],
   "source": [
    "## selction sort \n",
    "lst = [1,5,4,2,7]\n",
    "n = len(lst)\n",
    "for i in range(n):\n",
    "    min_index = i\n",
    "    for j in range(i+1,n):\n",
    "        if lst[j] <lst[min_index]:\n",
    "            min_index =j\n",
    "    \n",
    "    lst[i],lst[min_index] = lst[min_index],lst[i]\n",
    "\n",
    "print(lst)\n",
    "\n",
    "\n",
    "## TIme complexity = 0(n*n)\n",
    "## space complexity = 0(1)\n",
    "\n",
    "\n"
   ]
  },
  {
   "cell_type": "code",
   "execution_count": 21,
   "metadata": {},
   "outputs": [
    {
     "name": "stdout",
     "output_type": "stream",
     "text": [
      "10\n"
     ]
    }
   ],
   "source": [
    "# Largest element in array\n",
    "arr = [1,10,2,3,4,5]\n",
    "ma = -1\n",
    "for i in range(len(arr)):\n",
    "    if arr[i]>ma:\n",
    "        ma = arr[i]\n",
    "        # if arr[i]<ma:\n",
    "        #     ma = arr[i]\n",
    "print(ma)"
   ]
  },
  {
   "cell_type": "code",
   "execution_count": 27,
   "metadata": {},
   "outputs": [
    {
     "name": "stdout",
     "output_type": "stream",
     "text": [
      "1\n"
     ]
    }
   ],
   "source": [
    "# smallest element in array\n",
    "arr = [10,2,3,4,5,1]\n",
    "mn= 100\n",
    "for i in range(len(arr)):\n",
    "    if arr[i]<mn:\n",
    "\n",
    "        mn = arr[i]\n",
    "\n",
    "    \n",
    "print(mn)"
   ]
  },
  {
   "cell_type": "code",
   "execution_count": 31,
   "metadata": {},
   "outputs": [
    {
     "name": "stdout",
     "output_type": "stream",
     "text": [
      "5\n"
     ]
    }
   ],
   "source": [
    "#second largest element in array\n",
    "arr = [10,2,3,4,5,1]\n",
    "maax = max(arr)\n",
    "arr.remove(maax)\n",
    "print(max(arr))\n",
    "\n",
    "# print(maax)\n",
    "\n",
    "# for i in range(len(arr)):\n"
   ]
  },
  {
   "cell_type": "code",
   "execution_count": 1,
   "metadata": {},
   "outputs": [],
   "source": [
    "dic = {'a':10,'b':20,'c':30,'d':4}"
   ]
  },
  {
   "cell_type": "code",
   "execution_count": 2,
   "metadata": {},
   "outputs": [
    {
     "name": "stdout",
     "output_type": "stream",
     "text": [
      "{'a': 10, 'b': 20, 'c': 30, 'd': 4}\n"
     ]
    }
   ],
   "source": [
    "print(dic)"
   ]
  },
  {
   "cell_type": "code",
   "execution_count": 5,
   "metadata": {},
   "outputs": [
    {
     "name": "stdout",
     "output_type": "stream",
     "text": [
      "{10: 100, 20: 400, 30: 900, 4: 16}\n"
     ]
    }
   ],
   "source": [
    "squares ={ x: x**2 for x in dic.values()}\n",
    "print(squares)"
   ]
  },
  {
   "cell_type": "code",
   "execution_count": 6,
   "metadata": {},
   "outputs": [
    {
     "name": "stdout",
     "output_type": "stream",
     "text": [
      "{10: 'a', 20: 'b', 30: 'c', 4: 'd'}\n"
     ]
    }
   ],
   "source": [
    "inverted_dict = {value:key  for key,value in dic.items()}\n",
    "print(inverted_dict)"
   ]
  },
  {
   "cell_type": "code",
   "execution_count": 8,
   "metadata": {},
   "outputs": [
    {
     "name": "stdout",
     "output_type": "stream",
     "text": [
      "{'apple': 'red', 'banana': 'yellow', 'cherry': 'red'}\n"
     ]
    }
   ],
   "source": [
    "fruits = [('apple', 'red'), ('banana', 'yellow'), ('cherry', 'red')]\n",
    "\n",
    "fruit_color = {fruit:color for fruit,color in fruits}\n",
    "print(fruit_color)"
   ]
  },
  {
   "cell_type": "code",
   "execution_count": 10,
   "metadata": {},
   "outputs": [
    {
     "name": "stdout",
     "output_type": "stream",
     "text": [
      "{'apple': 'RED', 'banana': 'YELLOW', 'cherry': 'RED'}\n"
     ]
    }
   ],
   "source": [
    "fruit_reverse = {color:fruit.upper() for color,fruit in fruits}\n",
    "print(fruit_reverse)"
   ]
  },
  {
   "cell_type": "code",
   "execution_count": 11,
   "metadata": {},
   "outputs": [
    {
     "name": "stdout",
     "output_type": "stream",
     "text": [
      "{'a': 1, 'b': 2, 'c': 3}\n"
     ]
    }
   ],
   "source": [
    "keys = ['a', 'b', 'c']\n",
    "values = [1, 2, 3]\n",
    "combined_dict = {k:v for k,v in zip(keys,values)}\n",
    "print(combined_dict)"
   ]
  },
  {
   "cell_type": "code",
   "execution_count": 15,
   "metadata": {},
   "outputs": [
    {
     "name": "stdout",
     "output_type": "stream",
     "text": [
      "10\n"
     ]
    }
   ],
   "source": [
    "a = [1,3,4,2,10]\n",
    "mn = -1\n",
    "for i in a:\n",
    "    if i>mn:\n",
    "        mn = i\n",
    "print(mn)"
   ]
  },
  {
   "cell_type": "code",
   "execution_count": 13,
   "metadata": {},
   "outputs": [
    {
     "name": "stdout",
     "output_type": "stream",
     "text": [
      "1\n",
      "3\n",
      "4\n",
      "2\n",
      "10\n"
     ]
    }
   ],
   "source": []
  },
  {
   "cell_type": "code",
   "execution_count": 25,
   "metadata": {},
   "outputs": [
    {
     "name": "stdout",
     "output_type": "stream",
     "text": [
      "10\n"
     ]
    }
   ],
   "source": [
    "# 2nd largest element in list\n",
    "a = [1,3,4,2,10,11]\n",
    "\n",
    "m = max(a)\n",
    "a.remove(m)\n",
    "print(max(a))\n"
   ]
  },
  {
   "cell_type": "code",
   "execution_count": 28,
   "metadata": {},
   "outputs": [
    {
     "name": "stdout",
     "output_type": "stream",
     "text": [
      "11\n",
      "10\n"
     ]
    }
   ],
   "source": [
    "a = [1,3,4,2,10,11]\n",
    "largest  = -1\n",
    "for i in a:\n",
    "    if i>largest:\n",
    "        largest = i\n",
    "print(largest)\n",
    "\n",
    "second_largest = -1\n",
    "for i in a:\n",
    "    if i>second_largest and i<largest:\n",
    "        second_largest = i\n",
    "print(second_largest)"
   ]
  },
  {
   "cell_type": "code",
   "execution_count": 2,
   "metadata": {},
   "outputs": [
    {
     "name": "stdout",
     "output_type": "stream",
     "text": [
      "1\n",
      "2\n"
     ]
    }
   ],
   "source": [
    "# 2nd smallest element in array\n",
    "# a = [1,3,4,2,10,11]\n",
    "# smallest = 10000\n",
    "\n",
    "# for i in a:\n",
    "#     if i<smallest:\n",
    "#         smallest = i\n",
    "# print(smallest)\n",
    "# second_smallest = 10000\n",
    "\n",
    "# for i in a:\n",
    "#     if i<second_smallest and i>smallest:\n",
    "#         second_smallest = i\n",
    "\n",
    "# print(second_smallest)\n",
    "        \n"
   ]
  },
  {
   "cell_type": "code",
   "execution_count": 3,
   "metadata": {},
   "outputs": [
    {
     "name": "stdout",
     "output_type": "stream",
     "text": [
      "Smallest elemetn: 2\n"
     ]
    }
   ],
   "source": [
    "\n",
    "def find_smallest(arr):\n",
    "    smallest = float('inf')\n",
    "    for i in arr:\n",
    "        if i<smallest:\n",
    "            smallest=i\n",
    "    return smallest\n",
    "\n",
    "def find_second_smallest(arr):\n",
    "    smallest = find_smallest(arr)\n",
    "    second_smallest = float('inf')\n",
    "    for i in arr:\n",
    "        if i<second_smallest and i>smallest:\n",
    "            second_smallest=i\n",
    "    return second_smallest\n",
    "\n",
    "a = [1, 3, 4, 2, 10, 11]\n",
    "print(f\"Smallest elemetn: {find_second_smallest(a)}\")\n",
    "\n",
    "    \n"
   ]
  },
  {
   "cell_type": "code",
   "execution_count": 23,
   "metadata": {},
   "outputs": [
    {
     "name": "stdout",
     "output_type": "stream",
     "text": [
      "False\n"
     ]
    }
   ],
   "source": [
    "# check that arry is sorted or not\n",
    "a = [1, 3, 4, 2, 10, 11]\n",
    "n = len(a)-1\n",
    "# print(n)\n",
    "issort = True\n",
    "\n",
    "\n",
    "# for i in range(1,n):\n",
    "#     if a[i]>a[i+1]:\n",
    "#         issort = False\n",
    "# print(issort)\n",
    "def is_sorted(arr):\n",
    "    for i in range(1,n):\n",
    "       \n",
    "       if a[i]>a[i+1]:\n",
    "            \n",
    "            return False\n",
    "    return True\n",
    "\n",
    "print(is_sorted(a))\n",
    "\n",
    "              \n",
    "\n"
   ]
  },
  {
   "cell_type": "code",
   "execution_count": 28,
   "metadata": {},
   "outputs": [
    {
     "name": "stdout",
     "output_type": "stream",
     "text": [
      "3\n",
      "4\n",
      "2\n",
      "10\n"
     ]
    }
   ],
   "source": [
    "# a = [1, 3, 4, 2, 10, 11]\n",
    "# n = len(a)-1\n",
    "\n",
    "# for i in range(1,n):\n",
    "#     print(a[i])"
   ]
  },
  {
   "cell_type": "markdown",
   "metadata": {},
   "source": [
    "#### DATE = 16/6/2024"
   ]
  },
  {
   "cell_type": "markdown",
   "metadata": {},
   "source": [
    "###### Linear Search usimg recursiion"
   ]
  },
  {
   "cell_type": "code",
   "execution_count": 4,
   "metadata": {},
   "outputs": [
    {
     "name": "stdout",
     "output_type": "stream",
     "text": [
      "6\n",
      "Element is found at index : 3\n"
     ]
    }
   ],
   "source": [
    "\n",
    "def linear_search(arr,target,index):\n",
    "    if index==len(arr):\n",
    "        return -1\n",
    "    if arr[index] == target:\n",
    "        return index\n",
    "    \n",
    "    return linear_search(arr,target,index+1)\n",
    "    \n",
    "\n",
    "\n",
    "arr = [3,2,5,9,10,45]\n",
    "print(len(arr))\n",
    "targt = 9\n",
    "index=0\n",
    "\n",
    "\n",
    "result = linear_search(arr,targt,index)\n",
    "if result !=-1:\n",
    "    print(f'Element is found at index : {result}')\n",
    "else:\n",
    "    print(f\"{targt} is not found\")"
   ]
  },
  {
   "cell_type": "code",
   "execution_count": 6,
   "metadata": {},
   "outputs": [
    {
     "name": "stdout",
     "output_type": "stream",
     "text": [
      "{11: 1, 2: 1, 3: 1, 4: 1, 5: 4}\n"
     ]
    }
   ],
   "source": [
    "# count ocuurence of element\n",
    "ar = [11,2,3,4,5,5,5,5]\n",
    "num_count = {}\n",
    "for i in ar:\n",
    "    num_count[i] = num_count.get(i,0)+1\n",
    "\n",
    "print(num_count)\n",
    "\n",
    "    "
   ]
  },
  {
   "cell_type": "code",
   "execution_count": 12,
   "metadata": {},
   "outputs": [
    {
     "name": "stdout",
     "output_type": "stream",
     "text": [
      "2\n",
      "[1, 3, 4, 5, 3, 3, 0, 0]\n"
     ]
    }
   ],
   "source": [
    "arrr = [1,3,4,5,3,0,3,0]\n",
    "new_arrr= []\n",
    "\n",
    "for item in arrr:\n",
    "    if item!=0:\n",
    "        new_arrr.append(item)\n",
    "\n",
    "count = len(arrr)-len(new_arrr)\n",
    "print(count)\n",
    "new_arrr.extend([0]*count)\n",
    "# print(new_arrr)\n",
    "\n",
    "    \n",
    "    \n",
    "print(new_arrr)"
   ]
  },
  {
   "cell_type": "code",
   "execution_count": 2,
   "metadata": {},
   "outputs": [
    {
     "name": "stdout",
     "output_type": "stream",
     "text": [
      "[1, 3, 4, 5, 3, 3, 0, 0]\n"
     ]
    }
   ],
   "source": [
    "## two pointer approach\n",
    "arrr = [1,3,4,5,3,0,3,0]\n",
    "nz=0\n",
    "z=0\n",
    "\n",
    "while(nz<len(arrr)):\n",
    "    if (arrr[nz]!=0):\n",
    "        arrr[nz],arrr[z] = arrr[z],arrr[nz]\n",
    "        nz+=1\n",
    "        z+=1\n",
    "    else:\n",
    "        nz+=1\n",
    "print(arrr)\n",
    "\n",
    "    \n",
    "        "
   ]
  },
  {
   "cell_type": "code",
   "execution_count": 4,
   "metadata": {},
   "outputs": [
    {
     "name": "stdout",
     "output_type": "stream",
     "text": [
      "[3, 4, 5, 3, 0, 3, 0, 1]\n"
     ]
    }
   ],
   "source": [
    "# Move an Array to left 1-step\n",
    "arrr = [1,3,4,5,3,0,3,0]\n",
    "temp = arrr[0]\n",
    "n = len(arrr)\n",
    "\n",
    "for i in range(1,n):\n",
    "    arrr[i-1] = arrr[i]\n",
    "arrr[n-1] = temp\n",
    "\n",
    "print(arrr)\n",
    "\n",
    "\n",
    "    "
   ]
  },
  {
   "cell_type": "code",
   "execution_count": 6,
   "metadata": {},
   "outputs": [
    {
     "name": "stdout",
     "output_type": "stream",
     "text": [
      "[4, 5, 3, 0, 3, 0, 1, 3]\n"
     ]
    }
   ],
   "source": [
    "#move array by k-step\n",
    "arrr = [1,3,4,5,3,0,3,0]\n",
    "temp1 = arrr[0]\n",
    "temp2 = arrr[1]\n",
    "n = len(arrr)\n",
    "for i in range(2,n):\n",
    "    arrr[i-2] = arrr[i]\n",
    "arrr[-1] = temp2\n",
    "arrr[-2] = temp1\n",
    "print(arrr)"
   ]
  },
  {
   "cell_type": "code",
   "execution_count": 1,
   "metadata": {},
   "outputs": [
    {
     "data": {
      "text/plain": [
       "True"
      ]
     },
     "execution_count": 1,
     "metadata": {},
     "output_type": "execute_result"
    }
   ],
   "source": [
    "#find prime numbers]\n",
    "def is_prime(n):\n",
    "    i = 2\n",
    "    while i*i<n:\n",
    "        if n%2==0:\n",
    "            return False\n",
    "        else:\n",
    "            i = i+1\n",
    "    return True\n",
    "\n",
    "\n",
    "is_prime(43)"
   ]
  },
  {
   "cell_type": "code",
   "execution_count": 3,
   "metadata": {},
   "outputs": [
    {
     "name": "stdout",
     "output_type": "stream",
     "text": [
      "YEsS\n"
     ]
    }
   ],
   "source": [
    "#duplicate number\n",
    "arr = [1,4,5,6,6,7,9,9]\n",
    " \n",
    "arrr= list(set(arr))\n",
    "if len(arr)!=len(arrr):\n",
    "    print(\"YEsS\")\n",
    "else:\n",
    "    print('False')"
   ]
  },
  {
   "cell_type": "code",
   "execution_count": null,
   "metadata": {},
   "outputs": [],
   "source": [
    "# give me duplicate number\n",
    "arr = [1,4,5,6,6,7,9,9]\n"
   ]
  },
  {
   "cell_type": "code",
   "execution_count": 22,
   "metadata": {},
   "outputs": [
    {
     "name": "stdout",
     "output_type": "stream",
     "text": [
      "3\n"
     ]
    }
   ],
   "source": [
    "#fidn missing number using cyclic sort\n",
    "ar = [4,0,2,1]\n",
    "n = len(ar)-1\n",
    "print(n)\n",
    "\n",
    "# i = 0\n",
    "# for i in range(n):\n",
    "#     correct = ar[i]\n",
    "#     if ar[i] !=ar[correct]:\n",
    "#         ar[i],ar[correct] = ar[correct],ar[i]\n",
    "#     else:\n",
    "#         i+=1\n",
    "# print(ar)\n",
    "\n",
    "\n"
   ]
  },
  {
   "cell_type": "code",
   "execution_count": 24,
   "metadata": {},
   "outputs": [
    {
     "name": "stdout",
     "output_type": "stream",
     "text": [
      "[1, 2, 3, 4, 5]\n"
     ]
    }
   ],
   "source": [
    "a = [5,2,3,1,4]\n",
    "n = len(a)-1\n",
    "\n",
    "i = 0\n",
    "for i in range(n):\n",
    "    correct = a[i]-1\n",
    "    if a[i] !=correct:\n",
    "        a[i],a[correct] = a[correct],a[i]\n",
    "    else:\n",
    "        i+=1\n",
    "print(a)"
   ]
  },
  {
   "cell_type": "code",
   "execution_count": 13,
   "metadata": {},
   "outputs": [
    {
     "name": "stdout",
     "output_type": "stream",
     "text": [
      "[8, 10, 3, 5]\n"
     ]
    }
   ],
   "source": [
    "nums = [1, 2, 4, 6, 7, 9]\n",
    "n=10\n",
    "full_set= set(range(1,n+1))\n",
    "nums_set = set(nums)\n",
    "miss = full_set-nums_set\n",
    "print(list(miss))\n"
   ]
  },
  {
   "cell_type": "code",
   "execution_count": 28,
   "metadata": {},
   "outputs": [
    {
     "name": "stdout",
     "output_type": "stream",
     "text": [
      "0\n"
     ]
    }
   ],
   "source": [
    "def missingNumber(nums):\n",
    "    n = len(nums)\n",
    "    full_set = set(range(n + 1))  # Create a set of all numbers from 0 to n\n",
    "    nums_set = set(nums)  # Convert nums list to a set\n",
    "    missing_number = full_set - nums_set  # Find the difference (missing number)\n",
    "    return missing_number.pop()  # Convert set to list and return the missing number\n",
    "\n",
    "# Example usage:\n",
    "nums = [1, 2, 4, 6, 7, 9]\n",
    "print(missingNumber(nums))"
   ]
  },
  {
   "cell_type": "code",
   "execution_count": 6,
   "metadata": {},
   "outputs": [
    {
     "name": "stdout",
     "output_type": "stream",
     "text": [
      "[1, 3, 5, 8, 11, 13, 14, 15, 16, 17, 18, 19]\n"
     ]
    }
   ],
   "source": [
    "def find_missing(lst):\n",
    "    max = lst[0]\n",
    "    for i in lst:\n",
    "        if i in lst:\n",
    "            max = i\n",
    "    min = lst[0]\n",
    "    for i in lst:\n",
    "        if i<min:\n",
    "            min = i\n",
    "\n",
    "    list1 = []\n",
    "\n",
    "    for num in range(min+1,max):\n",
    "        if num not in lst:\n",
    "            list1.append(num)\n",
    "    return list1\n",
    "\n",
    "            \n",
    "    \n",
    "\n",
    "\n",
    "\n",
    "lst = [0, 2, 4, 6, 7, 9, 10,12,20]\n",
    "print(find_missing(lst))\n"
   ]
  },
  {
   "cell_type": "code",
   "execution_count": 10,
   "metadata": {},
   "outputs": [
    {
     "name": "stdout",
     "output_type": "stream",
     "text": [
      "[1, 3, 5, 8, 11, 13, 14, 15, 16, 17, 18, 19]\n"
     ]
    }
   ],
   "source": [
    "def miss(lstt):\n",
    "    return sorted(set(range(lstt[0],lstt[-1])) - set(lstt))\n",
    "\n",
    "lstt =[0, 2, 4, 6, 7, 9, 10,12,20]\n",
    "print(miss(lstt))"
   ]
  },
  {
   "cell_type": "code",
   "execution_count": 13,
   "metadata": {},
   "outputs": [
    {
     "name": "stdout",
     "output_type": "stream",
     "text": [
      "[]\n"
     ]
    }
   ],
   "source": [
    "def unsort_miss(lstt):\n",
    "    return sorted(set(range(lstt[0],lstt[-1])) - set(lstt))\n",
    "\n",
    "lstt = [4,3,2,7,8,2,3,1]\n",
    "print(unsort_miss(lstt))"
   ]
  },
  {
   "cell_type": "code",
   "execution_count": 11,
   "metadata": {},
   "outputs": [
    {
     "name": "stdout",
     "output_type": "stream",
     "text": [
      "[1, 2, 2, 3, 3, 4, 7, 8]\n"
     ]
    }
   ],
   "source": [
    "nums = [4,3,2,7,8,2,3,1]\n",
    "print(sorted(nums))"
   ]
  },
  {
   "cell_type": "code",
   "execution_count": 21,
   "metadata": {},
   "outputs": [
    {
     "name": "stdout",
     "output_type": "stream",
     "text": [
      "[7, 2, 3, 4, 1, 2, 3, 8]\n"
     ]
    }
   ],
   "source": [
    "#find all disappearnig numbers\n",
    "def sort(lst):\n",
    "    i =0\n",
    "    n = len(lst)-1\n",
    "    for i in range(n):\n",
    "        correct = lst[i]-1\n",
    "        if lst[i]!=correct:\n",
    "            lst[i],lst[correct] = lst[correct],lst[i]\n",
    "        i+=1\n",
    "    return lst\n",
    "\n",
    "\n",
    "\n",
    "\n",
    "\n",
    "\n",
    "\n",
    "\n",
    "\n",
    "lst = [4,3,2,7,8,2,3,1]\n",
    "print(sort(lst))"
   ]
  },
  {
   "cell_type": "code",
   "execution_count": 1,
   "metadata": {},
   "outputs": [
    {
     "name": "stdout",
     "output_type": "stream",
     "text": [
      "[1, 2, 3, 4, 5]\n"
     ]
    }
   ],
   "source": [
    "def remove_duplicates(input_list):\n",
    "    unique_list = []\n",
    "    for item in input_list:\n",
    "        if item not in unique_list:\n",
    "            unique_list.append(item)\n",
    "    return unique_list\n",
    "\n",
    "# Example usage\n",
    "my_list = [1, 2, 2, 3, 4, 4, 5]\n",
    "unique_list = remove_duplicates(my_list)\n",
    "print(unique_list)"
   ]
  },
  {
   "cell_type": "code",
   "execution_count": 3,
   "metadata": {},
   "outputs": [
    {
     "name": "stdout",
     "output_type": "stream",
     "text": [
      "7\n"
     ]
    }
   ],
   "source": [
    "my_list = [1, 2, 2, 3, 4, 4, 5]\n",
    "print(len(my_list))"
   ]
  },
  {
   "cell_type": "code",
   "execution_count": 4,
   "metadata": {},
   "outputs": [
    {
     "name": "stdout",
     "output_type": "stream",
     "text": [
      "10 20 30 40 50 "
     ]
    }
   ],
   "source": [
    "def removeDuplicates(arr, n):\n",
    "# Return, if array is empty or contains a single element\n",
    "    if n == 0 or n == 1:\n",
    "        return n\n",
    "\n",
    "    temp = list(range(n))\n",
    "\n",
    "    # Start traversing elements\n",
    "    j = 0\n",
    "    for i in range(0, n-1):\n",
    "        # If current element is not equal to next element then store that current element\n",
    "        if arr[i] != arr[i+1]:\n",
    "            temp[j] = arr[i]\n",
    "            j += 1\n",
    "\n",
    "    temp[j] = arr[n-1]\n",
    "    j += 1\n",
    "\n",
    "    # Modify original array\n",
    "    for i in range(0, j):\n",
    "        arr[i] = temp[i]\n",
    "\n",
    "    return j\n",
    "\n",
    "# Driver code\n",
    "arr = [10,10,20,30,30,40,50]\n",
    "n = len(arr)\n",
    "\n",
    "n = removeDuplicates(arr, n)\n",
    "\n",
    "# Print updated array\n",
    "for i in range(n):\n",
    "    # print (\"%d\"%(arr[i]), end = \" \")\n",
    "    print(arr[i],end=\" \")"
   ]
  },
  {
   "cell_type": "code",
   "execution_count": 37,
   "metadata": {},
   "outputs": [
    {
     "name": "stdout",
     "output_type": "stream",
     "text": [
      "5\n"
     ]
    }
   ],
   "source": [
    "#count distinct eleemtnt in list\n",
    "lst = [10, 20, 20, 30, 40, 40, 40, 50, 50]\n",
    "n = len(lst)-1\n",
    "seen_elemnt = []\n",
    "for item in lst:\n",
    "    if item not in seen_elemnt:\n",
    "        seen_elemnt.append(item)\n",
    "\n",
    "\n",
    "print(len(seen_elemnt))\n",
    "        "
   ]
  },
  {
   "cell_type": "code",
   "execution_count": 36,
   "metadata": {},
   "outputs": [
    {
     "ename": "TypeError",
     "evalue": "'int' object is not subscriptable",
     "output_type": "error",
     "traceback": [
      "\u001b[1;31m---------------------------------------------------------------------------\u001b[0m",
      "\u001b[1;31mTypeError\u001b[0m                                 Traceback (most recent call last)",
      "Cell \u001b[1;32mIn[36], line 8\u001b[0m\n\u001b[0;32m      5\u001b[0m maxsum \u001b[38;5;241m=\u001b[39m \u001b[38;5;241m0\u001b[39m\n\u001b[0;32m      7\u001b[0m \u001b[38;5;28;01mfor\u001b[39;00m i \u001b[38;5;129;01min\u001b[39;00m \u001b[38;5;28mrange\u001b[39m(n):\n\u001b[1;32m----> 8\u001b[0m     \u001b[38;5;28;01mif\u001b[39;00m \u001b[43mcurrsum\u001b[49m\u001b[43m[\u001b[49m\u001b[43mi\u001b[49m\u001b[43m]\u001b[49m \u001b[38;5;241m+\u001b[39m ls[i]\u001b[38;5;241m>\u001b[39mls[i]:\n\u001b[0;32m      9\u001b[0m         currsum \u001b[38;5;241m=\u001b[39m currsum[i]\u001b[38;5;241m+\u001b[39mls[i]\n\u001b[0;32m     10\u001b[0m     \u001b[38;5;28;01melse\u001b[39;00m:\n",
      "\u001b[1;31mTypeError\u001b[0m: 'int' object is not subscriptable"
     ]
    }
   ],
   "source": [
    "#kadane algo\n",
    "ls = [-5,4,6,-3,4,-1]\n",
    "n = len(ls)-1\n",
    "currsum = 0\n",
    "maxsum = 0\n",
    "\n",
    "for i in range(n):\n",
    "    if currsum[i] + ls[i]>ls[i]:\n",
    "        currsum = currsum[i]+ls[i]\n",
    "    else:\n",
    "        currsum = ls[i]\n",
    "    if currsum>maxsum:\n",
    "        maxsum = currsum\n",
    "\n",
    "print(maxsum)\n",
    "    "
   ]
  },
  {
   "cell_type": "code",
   "execution_count": 45,
   "metadata": {},
   "outputs": [
    {
     "name": "stdout",
     "output_type": "stream",
     "text": [
      "6\n"
     ]
    }
   ],
   "source": [
    "def max_subarray_sum(arr):\n",
    "    max_so_far = arr[0]\n",
    "    max_ending_here = arr[0]\n",
    "\n",
    "    for i in range(1,len(arr)):\n",
    "        max_ending_here = max(arr[i],max_ending_here+arr[i])\n",
    "\n",
    "        max_so_far = max(max_so_far,max_ending_here)\n",
    "\n",
    "    return max_so_far\n",
    "\n",
    "\n",
    "\n",
    "\n",
    "\n",
    "\n",
    "\n",
    "\n",
    "arr = [-2, 1, -3, 4, -1, 2, 1, -5, 4]\n",
    "max_sum = max_subarray_sum(arr)\n",
    "print(max_sum)"
   ]
  },
  {
   "cell_type": "code",
   "execution_count": 43,
   "metadata": {},
   "outputs": [
    {
     "name": "stdout",
     "output_type": "stream",
     "text": [
      "Maximum sum of a contiguous subarray: 6\n"
     ]
    }
   ],
   "source": [
    "def max_subarray_sum(arr):\n",
    "    # Initialize variables\n",
    "    max_so_far = arr[0]\n",
    "    max_ending_here = arr[0]\n",
    "\n",
    "    # Traverse the array\n",
    "    for i in range(1, len(arr)):\n",
    "        # Update max_ending_here\n",
    "        max_ending_here = max(arr[i], max_ending_here + arr[i])\n",
    "        \n",
    "        # Update max_so_far\n",
    "        max_so_far = max(max_so_far, max_ending_here)\n",
    "\n",
    "    return max_so_far\n",
    "\n",
    "# Example usage\n",
    "arr = [-2, 1, -3, 4, -1, 2, 1, -5, 4]\n",
    "max_sum = max_subarray_sum(arr)\n",
    "print(\"Maximum sum of a contiguous subarray:\", max_sum)\n"
   ]
  },
  {
   "cell_type": "code",
   "execution_count": 49,
   "metadata": {},
   "outputs": [
    {
     "name": "stdout",
     "output_type": "stream",
     "text": [
      "Maximum sum of a contiguous subarray: 6\n",
      "Elements of the maximum sum subarray: [4, -1, 2, 1]\n"
     ]
    }
   ],
   "source": [
    "def maxsumsub(arr):\n",
    "    maxsum = arr[0]\n",
    "    currentsum = arr[0]\n",
    "\n",
    "    start = 0\n",
    "    end = 0\n",
    "    s = 0\n",
    "\n",
    "    for i in range(1,len(arr)):\n",
    "        if arr[i]>currentsum+arr[i]:\n",
    "            currentsum = arr[i]\n",
    "            s = i\n",
    "        else:\n",
    "            currentsum += arr[i]\n",
    "        if currentsum>maxsum:\n",
    "            maxsum = currentsum\n",
    "            start = s\n",
    "            end = i\n",
    "\n",
    "    max_sub_elelmts = arr[start:end+1]\n",
    "    return maxsum , max_sub_elelmts\n",
    "\n",
    "\n",
    "\n",
    "arr = [-2, 1, -3, 4, -1, 2, 1, -5, 4]\n",
    "maxsum,max_subarray = maxsumsub(arr)\n",
    "print(\"Maximum sum of a contiguous subarray:\", max_sum)\n",
    "print(\"Elements of the maximum sum subarray:\", max_subarray)"
   ]
  },
  {
   "cell_type": "code",
   "execution_count": 7,
   "metadata": {},
   "outputs": [
    {
     "name": "stdout",
     "output_type": "stream",
     "text": [
      "10 20 30 40 50 "
     ]
    }
   ],
   "source": [
    "def dup(arr,n):\n",
    "    temp = list(range(n))\n",
    "    j=0\n",
    "    for i in range(0,n-1):\n",
    "        if arr[i] != arr[i+1]:\n",
    "            temp[j] = arr[i]\n",
    "            j+=1\n",
    "    \n",
    "    temp[j] = arr[n-1]\n",
    "    j+=1\n",
    "\n",
    "\n",
    "    for i in range(0,j):\n",
    "        arr[i] = temp[i]\n",
    "    \n",
    "    return j\n",
    "\n",
    "arr = [10,10,20,30,30,40,50]\n",
    "n= len(arr)\n",
    "n = dup(arr,n)\n",
    "for i in range(n):\n",
    "    print(arr[i],end=\" \")\n"
   ]
  },
  {
   "cell_type": "code",
   "execution_count": 11,
   "metadata": {},
   "outputs": [
    {
     "name": "stdout",
     "output_type": "stream",
     "text": [
      "[10, 20, 30, 40, 50]\n",
      "5\n"
     ]
    }
   ],
   "source": [
    "arr = [10,10,20,30,30,40,50]\n",
    "n = len(arr)-1\n",
    "unique_list = []\n",
    "\n",
    "for item in arr:\n",
    "\n",
    "    if item not in unique_list:\n",
    "        unique_list.append(item)\n",
    "print(unique_list)\n",
    "print(len(unique_list))\n",
    "\n",
    " \n"
   ]
  },
  {
   "cell_type": "code",
   "execution_count": 16,
   "metadata": {},
   "outputs": [
    {
     "name": "stdout",
     "output_type": "stream",
     "text": [
      "6\n"
     ]
    }
   ],
   "source": [
    "#max sum of subarray\n",
    "def max_sum(arr,n):\n",
    "    maxsum = arr[0]\n",
    "    currentsum = arr[0]\n",
    "    for i in range(1,n):\n",
    "        if arr[i]>currentsum+arr[i]:\n",
    "            currentsum = arr[i]\n",
    "        else:\n",
    "            currentsum = currentsum + arr[i]\n",
    "        if currentsum>maxsum:\n",
    "            maxsum = currentsum\n",
    "    return maxsum\n",
    "\n",
    "arr =  [-2, 1, -3, 4, -1, 2, 1, -5, 4]\n",
    "sum = max_sum(arr,len(arr))\n",
    "print(sum)\n"
   ]
  },
  {
   "cell_type": "code",
   "execution_count": 17,
   "metadata": {},
   "outputs": [
    {
     "name": "stdout",
     "output_type": "stream",
     "text": [
      "[1, 2, 3, 4, 5]\n"
     ]
    }
   ],
   "source": []
  },
  {
   "cell_type": "code",
   "execution_count": 20,
   "metadata": {},
   "outputs": [
    {
     "name": "stdout",
     "output_type": "stream",
     "text": [
      "2\n"
     ]
    }
   ],
   "source": [
    "## count the number of vowels\n",
    "st = \"apple\"\n",
    "vowels = \"aeiouAEIOU\"\n",
    "count = 0\n",
    "for char in st:\n",
    "    if char in vowels:\n",
    "        count+=1\n",
    "\n",
    "print(count)\n"
   ]
  },
  {
   "cell_type": "code",
   "execution_count": 22,
   "metadata": {},
   "outputs": [
    {
     "name": "stdout",
     "output_type": "stream",
     "text": [
      "[1, 2, 3, 4, 5, 6, 7, 8]\n"
     ]
    }
   ],
   "source": [
    "def merge_sorted_array(arr1,arr2):\n",
    "    i =0\n",
    "    j =0\n",
    "    merge_array = []\n",
    "    while i<len(arr1) and j<len(arr2):\n",
    "        if arr1[i] < arr2[j]:\n",
    "            merge_array.append(arr1[i])\n",
    "            i+=1\n",
    "        else:\n",
    "            merge_array.append(arr2[j])\n",
    "            j+=1\n",
    "\n",
    "    while i<len(arr1):\n",
    "        merge_array.append(arr1[i])\n",
    "        i+=1\n",
    "    while j<len(arr2):\n",
    "        merge_array.append(arr2[j])\n",
    "        j+=1\n",
    "    return merge_array\n",
    "\n",
    "arr1 = [1, 3, 5, 7]\n",
    "arr2 = [2, 4, 6, 8]\n",
    "print(merge_sorted_array(arr1, arr2)) "
   ]
  },
  {
   "cell_type": "code",
   "execution_count": 3,
   "metadata": {},
   "outputs": [
    {
     "name": "stdout",
     "output_type": "stream",
     "text": [
      "7\n"
     ]
    }
   ],
   "source": [
    "str = 'utkarsh'\n",
    "count = 0\n",
    "for char in str:\n",
    "    count+=1\n",
    "\n",
    "print(count)\n"
   ]
  },
  {
   "cell_type": "code",
   "execution_count": 5,
   "metadata": {},
   "outputs": [
    {
     "name": "stdout",
     "output_type": "stream",
     "text": [
      "2\n"
     ]
    }
   ],
   "source": [
    "str = 'apple'\n",
    "vowels = 'aeiouAEIOU'\n",
    "index =0\n",
    "count=0\n",
    "\n",
    "for char in str:\n",
    "    if char in vowels:\n",
    "        count+=1\n",
    "\n",
    "print(count)\n"
   ]
  },
  {
   "cell_type": "code",
   "execution_count": 8,
   "metadata": {},
   "outputs": [
    {
     "name": "stdout",
     "output_type": "stream",
     "text": [
      "elppa\n",
      "-1\n",
      "0\n",
      "1\n",
      "2\n",
      "3\n",
      "4\n"
     ]
    }
   ],
   "source": [
    "str = 'apple'\n",
    "print(str[::-1])\n",
    "\n",
    "for char in range(-1,len(str)):\n",
    "    print(char)"
   ]
  },
  {
   "cell_type": "code",
   "execution_count": 9,
   "metadata": {},
   "outputs": [
    {
     "data": {
      "text/plain": [
       "{'h': 1, 'e': 1, 'l': 3, 'o': 2, ' ': 1, 'w': 1, 'r': 1, 'd': 1}"
      ]
     },
     "execution_count": 9,
     "metadata": {},
     "output_type": "execute_result"
    }
   ],
   "source": [
    "#coutn occur\n",
    "def count_words(str):\n",
    "    count_char = {}\n",
    "    for char in str:\n",
    "        count_char[char] = count_char.get(char,0)+1\n",
    "    return count_char\n",
    "\n",
    "str = 'hello world'\n",
    "count_words(str)"
   ]
  },
  {
   "cell_type": "code",
   "execution_count": 13,
   "metadata": {},
   "outputs": [
    {
     "name": "stdout",
     "output_type": "stream",
     "text": [
      "Hello  World     \n"
     ]
    }
   ],
   "source": [
    "import re\n",
    "\n",
    "my_string = \"Hello, World! 123\"\n",
    "filtered_string = re.sub('[^a-zA-Z]',' ' ,my_string)\n",
    "print(filtered_string)"
   ]
  },
  {
   "cell_type": "code",
   "execution_count": 16,
   "metadata": {},
   "outputs": [
    {
     "name": "stdout",
     "output_type": "stream",
     "text": [
      " HelloWorld\n"
     ]
    }
   ],
   "source": [
    "import re\n",
    "\n",
    "my_string = \"Hello, World! 123\"\n",
    "filtered_string = ' '\n",
    "for char in my_string:\n",
    "    if char.isalpha():\n",
    "        filtered_string+=char\n",
    "\n",
    "print(filtered_string)\n"
   ]
  },
  {
   "cell_type": "code",
   "execution_count": 20,
   "metadata": {},
   "outputs": [
    {
     "name": "stdout",
     "output_type": "stream",
     "text": [
      "3 * a + b - c - d + e / f\n"
     ]
    }
   ],
   "source": [
    "import re\n",
    "def remove_bracket(expression):\n",
    "    return re.sub(r'[\\[\\]\\(\\)\\{\\}]', '', expression)\n",
    "    \n",
    "\n",
    "\n",
    "expression = \"3 * (a + b) - [c - d] + {e / f}\"\n",
    "print(remove_bracket(expression))"
   ]
  },
  {
   "cell_type": "code",
   "execution_count": 23,
   "metadata": {},
   "outputs": [
    {
     "name": "stdout",
     "output_type": "stream",
     "text": [
      "3 * (a + b) - [c - d] + {e / f}\n"
     ]
    }
   ],
   "source": [
    "def remove(exp):\n",
    "    brackets = ['(',')','[',']','{','}']\n",
    "    for bracket in brackets:\n",
    "        expression = exp.replace(bracket,'')\n",
    "    return expression\n",
    "\n",
    "\n",
    "expression = \"3 * (a + b) - [c - d] + {e / f}\"\n",
    "print(expression)"
   ]
  },
  {
   "cell_type": "code",
   "execution_count": 30,
   "metadata": {},
   "outputs": [
    {
     "name": "stdout",
     "output_type": "stream",
     "text": [
      "hello utkarsh\n"
     ]
    }
   ],
   "source": [
    "#Replacing a particular word with another word in a string \n",
    "str = 'hello world'\n",
    "targt = 'world'\n",
    "new_word = 'utkarsh'\n",
    "\n",
    "str = str.replace(targt,new_word)\n",
    "\n",
    "\n",
    "print(str)"
   ]
  },
  {
   "cell_type": "markdown",
   "metadata": {},
   "source": [
    "# Linked List"
   ]
  },
  {
   "cell_type": "code",
   "execution_count": 5,
   "metadata": {},
   "outputs": [],
   "source": [
    "class Node:\n",
    "    def __init__(self,value):\n",
    "        self.data = value\n",
    "        self.next = None\n",
    "\n",
    "\n",
    "\n",
    "\n",
    "\n",
    "\n"
   ]
  },
  {
   "cell_type": "code",
   "execution_count": 53,
   "metadata": {},
   "outputs": [],
   "source": [
    "class LinkedList:\n",
    "    def __init__(self):\n",
    "        ## empty linked list\n",
    "\n",
    "\n",
    "        self.head = None\n",
    "        self.n =0\n",
    "    def __len__(self):\n",
    "        return self.n\n",
    "    \n",
    "    def insert_head(self,value):\n",
    "        # new node\n",
    "        new_node = Node(value)\n",
    "        #create connection\n",
    "        new_node.next = self.head\n",
    "        #reassogn head\n",
    "        self.head = new_node\n",
    "\n",
    "        # increment m\n",
    "        self.n = self.n+1\n",
    "\n",
    "    def __str__(self):\n",
    "        curr = self.head\n",
    "        result = ''\n",
    "        while curr!=None:\n",
    "            result = result + str(curr.data) + '->'\n",
    "            curr = curr.next\n",
    "        return result[:-2]\n",
    "    \n",
    "    def append(self,value):\n",
    "        new_node = Node(value)\n",
    "\n",
    "        if self.head == None:\n",
    "            self.head = new_node\n",
    "            self.n = self.n+1\n",
    "            return\n",
    "        \n",
    "        curr = self.head\n",
    "        while curr.next!=None:\n",
    "            curr = curr.next\n",
    "        curr.next = new_node\n",
    "        self.n = self.n+1\n",
    "\n",
    "    def insert_after(self,after,value):\n",
    "        new_node = Node(value)\n",
    "        curr = self.head\n",
    "\n",
    "        while curr!=None:\n",
    "            if curr.data==after:\n",
    "                break\n",
    "            curr = curr.next\n",
    "        \n",
    "        if curr!=None:\n",
    "            new_node.next = curr.next\n",
    "            curr.next=new_node\n",
    "            self.n = self.n +1\n",
    "\n",
    "\n",
    "        else:\n",
    "            return \"item not found\"\n",
    "        \n",
    "    def clear(self):\n",
    "        self.head = None\n",
    "        self.n =0\n",
    "\n",
    "    def delete_head(self):\n",
    "\n",
    "        if self.head ==None:\n",
    "            return \"Empty Linked List\"\n",
    "        self.head = self.head.next\n",
    "        \n",
    "        self.n = self.n -1\n",
    "\n",
    "\n",
    "    def pop(self):\n",
    "        \n",
    "        if self.head == None:\n",
    "            return \"Empty linked list\"\n",
    "\n",
    "\n",
    "\n",
    "        curr = self.head\n",
    "\n",
    "        if curr.next ==None:\n",
    "            return self.delete_head()\n",
    "        \n",
    "\n",
    "        while curr.next.next !=None:\n",
    "            curr = curr.next\n",
    "        \n",
    "        curr.next = None\n",
    "        self.n = self.n-1\n",
    "\n",
    "    def delete_element(self,value):\n",
    "        if self.head == None:\n",
    "            return \"Empty linked list\"\n",
    "        if self.head.data==value:\n",
    "            return self.delete_head()\n",
    "        \n",
    "        curr = self.head\n",
    "\n",
    "        while curr.next !=None:\n",
    "            if curr.next.data == value:\n",
    "                break\n",
    "            curr = curr.next\n",
    "\n",
    "        if curr.next == None:\n",
    "            return \"Element not found\"\n",
    "        else:\n",
    "            curr.next = curr.next.next\n",
    "\n",
    "    \n",
    "    def search(self,value):\n",
    "        \n",
    "        # if self.head==None:\n",
    "        #     return \"Empty Linked List\"\n",
    "        curr = self.head\n",
    "        pos =0\n",
    "        while curr!=None:\n",
    "            if curr.data == value:\n",
    "                return pos\n",
    "            curr = curr.next\n",
    "            pos +=1\n",
    "        return 'Not Found'\n",
    "        \n",
    "    \n",
    "    def __getitem__(self,index):\n",
    "        pos = 0\n",
    "        curr = self.head\n",
    "\n",
    "        while curr!=None:\n",
    "            if pos == index:\n",
    "                return curr.data\n",
    "            curr = curr.next\n",
    "            pos = pos +1\n",
    "    \n",
    "    def replace_with(self,value):\n",
    "\n",
    "        temp = self.head\n",
    "        max = temp\n",
    "\n",
    "        while temp != None:\n",
    "            if temp.data > max.data:\n",
    "                max = temp\n",
    "            else:\n",
    "                temp = temp.next\n",
    "        max.data = value\n",
    "\n",
    "    def sum_odd(self):\n",
    "\n",
    "\n",
    "        index = 0\n",
    "        sum = 0\n",
    "        curr = self.head\n",
    "        while curr !=None:\n",
    "            if index %2 != 0:\n",
    "                sum = sum + curr.data\n",
    "                \n",
    "            \n",
    "            curr = curr.next\n",
    "            index +=1\n",
    "        print(sum)\n",
    "    \n",
    "    def reverse_ll(self):\n",
    "\n",
    "        prev_node = None\n",
    "        curr_node = self.head\n",
    "        # temp = self.head\n",
    "\n",
    "        while curr_node!=None:\n",
    "            next_node = curr_node.next\n",
    "            curr_node.next = prev_node\n",
    "            prev_node = curr_node\n",
    "            curr_node = next_node\n",
    "\n",
    "        self.head = prev_node\n",
    "    \n",
    "    def middele(self):\n",
    "        slow = self.head\n",
    "        fast = self.head\n",
    "\n",
    "        while fast != None and fast.next != None:\n",
    "            slow = slow.next\n",
    "            fast = fast.next.next\n",
    "        return slow.data\n",
    "        \n",
    "\n",
    "        \n",
    "\n",
    "\n",
    "\n",
    "\n",
    "            \n",
    "        \n",
    "\n",
    "\n",
    "\n"
   ]
  },
  {
   "cell_type": "code",
   "execution_count": 54,
   "metadata": {},
   "outputs": [],
   "source": [
    "l = LinkedList()"
   ]
  },
  {
   "cell_type": "code",
   "execution_count": 55,
   "metadata": {},
   "outputs": [
    {
     "data": {
      "text/plain": [
       "0"
      ]
     },
     "execution_count": 55,
     "metadata": {},
     "output_type": "execute_result"
    }
   ],
   "source": [
    "len(l)"
   ]
  },
  {
   "cell_type": "code",
   "execution_count": 56,
   "metadata": {},
   "outputs": [],
   "source": [
    "l.insert_head(1)\n",
    "l.insert_head(2)\n",
    "l.insert_head(3)\n",
    "l.insert_head(4)\n",
    "l.insert_head(5)"
   ]
  },
  {
   "cell_type": "code",
   "execution_count": 57,
   "metadata": {},
   "outputs": [
    {
     "name": "stdout",
     "output_type": "stream",
     "text": [
      "5->4->3->2->1\n"
     ]
    }
   ],
   "source": [
    "print(l)"
   ]
  },
  {
   "cell_type": "code",
   "execution_count": 58,
   "metadata": {},
   "outputs": [
    {
     "data": {
      "text/plain": [
       "3"
      ]
     },
     "execution_count": 58,
     "metadata": {},
     "output_type": "execute_result"
    }
   ],
   "source": [
    "l.middele()"
   ]
  },
  {
   "cell_type": "code",
   "execution_count": 51,
   "metadata": {},
   "outputs": [
    {
     "name": "stdout",
     "output_type": "stream",
     "text": [
      "5->4->3->2->1\n"
     ]
    }
   ],
   "source": [
    "print(l)"
   ]
  },
  {
   "cell_type": "code",
   "execution_count": 17,
   "metadata": {},
   "outputs": [],
   "source": [
    "l.append(30)"
   ]
  },
  {
   "cell_type": "code",
   "execution_count": 50,
   "metadata": {},
   "outputs": [
    {
     "name": "stdout",
     "output_type": "stream",
     "text": [
      "30\n"
     ]
    }
   ],
   "source": [
    "print(l)"
   ]
  },
  {
   "cell_type": "code",
   "execution_count": 61,
   "metadata": {},
   "outputs": [],
   "source": [
    "l.insert_after(1,100)"
   ]
  },
  {
   "cell_type": "code",
   "execution_count": 62,
   "metadata": {},
   "outputs": [
    {
     "name": "stdout",
     "output_type": "stream",
     "text": [
      "4->3->2->1->100\n"
     ]
    }
   ],
   "source": [
    "print(l)"
   ]
  },
  {
   "cell_type": "code",
   "execution_count": 63,
   "metadata": {},
   "outputs": [],
   "source": [
    "l.insert_after(2,200)"
   ]
  },
  {
   "cell_type": "code",
   "execution_count": 64,
   "metadata": {},
   "outputs": [
    {
     "name": "stdout",
     "output_type": "stream",
     "text": [
      "4->3->2->200->1->100\n"
     ]
    }
   ],
   "source": [
    "print(l)"
   ]
  },
  {
   "cell_type": "code",
   "execution_count": 9,
   "metadata": {},
   "outputs": [],
   "source": [
    "# for clear linked list\n",
    "l.clear()"
   ]
  },
  {
   "cell_type": "code",
   "execution_count": 10,
   "metadata": {},
   "outputs": [
    {
     "name": "stdout",
     "output_type": "stream",
     "text": [
      "\n"
     ]
    }
   ],
   "source": [
    "print(l)"
   ]
  },
  {
   "cell_type": "code",
   "execution_count": 37,
   "metadata": {},
   "outputs": [
    {
     "data": {
      "text/plain": [
       "'Empty Linked List'"
      ]
     },
     "execution_count": 37,
     "metadata": {},
     "output_type": "execute_result"
    }
   ],
   "source": [
    "#delete head\n",
    "l.delete_head()"
   ]
  },
  {
   "cell_type": "code",
   "execution_count": 36,
   "metadata": {},
   "outputs": [
    {
     "name": "stdout",
     "output_type": "stream",
     "text": [
      "\n"
     ]
    }
   ],
   "source": [
    "print(l)"
   ]
  },
  {
   "cell_type": "code",
   "execution_count": 47,
   "metadata": {},
   "outputs": [],
   "source": [
    "# remove tail\n",
    "l.pop()"
   ]
  },
  {
   "cell_type": "code",
   "execution_count": 48,
   "metadata": {},
   "outputs": [
    {
     "name": "stdout",
     "output_type": "stream",
     "text": [
      "4->3->2\n"
     ]
    }
   ],
   "source": [
    "print(l)"
   ]
  },
  {
   "cell_type": "code",
   "execution_count": 33,
   "metadata": {},
   "outputs": [],
   "source": [
    "l.delete_element(4)"
   ]
  },
  {
   "cell_type": "code",
   "execution_count": 34,
   "metadata": {},
   "outputs": [
    {
     "name": "stdout",
     "output_type": "stream",
     "text": [
      "3->2->1\n"
     ]
    }
   ],
   "source": [
    "print(l)"
   ]
  },
  {
   "cell_type": "code",
   "execution_count": 35,
   "metadata": {},
   "outputs": [],
   "source": [
    "l.delete_element(2)"
   ]
  },
  {
   "cell_type": "code",
   "execution_count": 83,
   "metadata": {},
   "outputs": [
    {
     "name": "stdout",
     "output_type": "stream",
     "text": [
      "4->3->2->1\n"
     ]
    }
   ],
   "source": [
    "print(l)"
   ]
  },
  {
   "cell_type": "code",
   "execution_count": 84,
   "metadata": {},
   "outputs": [
    {
     "data": {
      "text/plain": [
       "2"
      ]
     },
     "execution_count": 84,
     "metadata": {},
     "output_type": "execute_result"
    }
   ],
   "source": [
    "l.search(2)"
   ]
  },
  {
   "cell_type": "code",
   "execution_count": 104,
   "metadata": {},
   "outputs": [
    {
     "data": {
      "text/plain": [
       "4"
      ]
     },
     "execution_count": 104,
     "metadata": {},
     "output_type": "execute_result"
    }
   ],
   "source": [
    "l[0]"
   ]
  },
  {
   "cell_type": "code",
   "execution_count": 91,
   "metadata": {},
   "outputs": [
    {
     "name": "stdout",
     "output_type": "stream",
     "text": [
      "4->3->2->1\n"
     ]
    }
   ],
   "source": [
    "print(l)"
   ]
  },
  {
   "cell_type": "code",
   "execution_count": 105,
   "metadata": {},
   "outputs": [
    {
     "ename": "TypeError",
     "evalue": "'LinkedList' object does not support item assignment",
     "output_type": "error",
     "traceback": [
      "\u001b[1;31m---------------------------------------------------------------------------\u001b[0m",
      "\u001b[1;31mTypeError\u001b[0m                                 Traceback (most recent call last)",
      "Cell \u001b[1;32mIn[105], line 1\u001b[0m\n\u001b[1;32m----> 1\u001b[0m \u001b[43ml\u001b[49m\u001b[43m[\u001b[49m\u001b[38;5;241;43m0\u001b[39;49m\u001b[43m]\u001b[49m \u001b[38;5;241m=\u001b[39m\u001b[38;5;241m10\u001b[39m\n",
      "\u001b[1;31mTypeError\u001b[0m: 'LinkedList' object does not support item assignment"
     ]
    }
   ],
   "source": [
    "l[0] =10"
   ]
  },
  {
   "cell_type": "code",
   "execution_count": 3,
   "metadata": {},
   "outputs": [],
   "source": [
    "import numpy as np\n",
    "# a = np.([[1,2],[3,4],[4,5]])"
   ]
  },
  {
   "cell_type": "code",
   "execution_count": 110,
   "metadata": {},
   "outputs": [
    {
     "name": "stdout",
     "output_type": "stream",
     "text": [
      "[2 3 4 5 6 7 8 9]\n"
     ]
    }
   ],
   "source": [
    "print(a)"
   ]
  },
  {
   "cell_type": "code",
   "execution_count": 4,
   "metadata": {},
   "outputs": [],
   "source": [
    "array_2d = np.array([[1, 2, 3], [4, 5, 6]])"
   ]
  },
  {
   "cell_type": "code",
   "execution_count": 5,
   "metadata": {},
   "outputs": [
    {
     "name": "stdout",
     "output_type": "stream",
     "text": [
      "[[1 2 3]\n",
      " [4 5 6]]\n"
     ]
    }
   ],
   "source": [
    "print(array_2d)"
   ]
  },
  {
   "cell_type": "code",
   "execution_count": 7,
   "metadata": {},
   "outputs": [
    {
     "data": {
      "text/plain": [
       "array([ 6, 15])"
      ]
     },
     "execution_count": 7,
     "metadata": {},
     "output_type": "execute_result"
    }
   ],
   "source": [
    "array_2d.sum(1)"
   ]
  },
  {
   "cell_type": "code",
   "execution_count": 123,
   "metadata": {},
   "outputs": [
    {
     "data": {
      "text/plain": [
       "array([[1, 2],\n",
       "       [3, 4],\n",
       "       [5, 6]])"
      ]
     },
     "execution_count": 123,
     "metadata": {},
     "output_type": "execute_result"
    }
   ],
   "source": [
    "array_2d.reshape(3,2)"
   ]
  },
  {
   "cell_type": "code",
   "execution_count": 122,
   "metadata": {},
   "outputs": [
    {
     "data": {
      "text/plain": [
       "(2, 3)"
      ]
     },
     "execution_count": 122,
     "metadata": {},
     "output_type": "execute_result"
    }
   ],
   "source": [
    "array_2d.shape"
   ]
  },
  {
   "cell_type": "code",
   "execution_count": 26,
   "metadata": {},
   "outputs": [],
   "source": [
    "l.replace_with(200)"
   ]
  },
  {
   "cell_type": "code",
   "execution_count": 27,
   "metadata": {},
   "outputs": [
    {
     "name": "stdout",
     "output_type": "stream",
     "text": [
      "4->3->2->1->200\n"
     ]
    }
   ],
   "source": [
    "print(l)"
   ]
  },
  {
   "cell_type": "code",
   "execution_count": 28,
   "metadata": {},
   "outputs": [],
   "source": [
    "l.replace_with(1000)"
   ]
  },
  {
   "cell_type": "code",
   "execution_count": 29,
   "metadata": {},
   "outputs": [
    {
     "name": "stdout",
     "output_type": "stream",
     "text": [
      "4->3->2->1->1000\n"
     ]
    }
   ],
   "source": [
    "print(l)"
   ]
  },
  {
   "cell_type": "code",
   "execution_count": 60,
   "metadata": {},
   "outputs": [
    {
     "name": "stdout",
     "output_type": "stream",
     "text": [
      "4\n"
     ]
    }
   ],
   "source": [
    "l.sum_odd()"
   ]
  },
  {
   "cell_type": "code",
   "execution_count": 2,
   "metadata": {},
   "outputs": [
    {
     "name": "stdout",
     "output_type": "stream",
     "text": [
      "{1: 3, 2: 2}\n"
     ]
    }
   ],
   "source": [
    "def find_occurence(arr):\n",
    "    a = {}\n",
    "    for num in arr:\n",
    "        a[num] = a.get(num,0)+1\n",
    "    return a\n",
    "\n",
    "arr = [1,1,2,2,1]\n",
    "print(find_occurence(arr))"
   ]
  },
  {
   "cell_type": "code",
   "execution_count": 76,
   "metadata": {},
   "outputs": [],
   "source": [
    "class Node:\n",
    "    def __init__(self,value):\n",
    "        self.data = value\n",
    "        self.next = None\n",
    "\n"
   ]
  },
  {
   "cell_type": "code",
   "execution_count": 77,
   "metadata": {},
   "outputs": [],
   "source": [
    "class Stack:\n",
    "    def __init__(self):\n",
    "        self.top = None\n",
    "    \n",
    "    def isEmpty(self):\n",
    "        return self.top==None\n",
    "    \n",
    "    def push(self,value):\n",
    "        new_node = Node(value)\n",
    "        new_node.next = self.top\n",
    "        self.top = new_node\n",
    "\n",
    "    def peek(self):\n",
    "        if self.top == None:\n",
    "            return \"Empty Stack\"\n",
    "        else:\n",
    "            print(self.top.data)\n",
    "        \n",
    "    def pop(self):\n",
    "        if self.isEmpty():\n",
    "            return \"Stack Empty\"\n",
    "        else:\n",
    "            data = self.top.data\n",
    "        \n",
    "            self.top = self.top.next\n",
    "            return data\n",
    "    \n",
    "    \n",
    "\n",
    "    def traverse(self):\n",
    "        temp = self.top\n",
    "        while temp !=None:\n",
    "            print(temp.data)\n",
    "            temp = temp.next\n",
    "\n",
    "\n",
    "\n"
   ]
  },
  {
   "cell_type": "code",
   "execution_count": 65,
   "metadata": {},
   "outputs": [],
   "source": [
    "s = Stack()"
   ]
  },
  {
   "cell_type": "code",
   "execution_count": 66,
   "metadata": {},
   "outputs": [
    {
     "data": {
      "text/plain": [
       "'Stack Empty'"
      ]
     },
     "execution_count": 66,
     "metadata": {},
     "output_type": "execute_result"
    }
   ],
   "source": [
    "s.pop()"
   ]
  },
  {
   "cell_type": "code",
   "execution_count": 67,
   "metadata": {},
   "outputs": [],
   "source": [
    "s.push(1)\n",
    "s.push(2)\n",
    "s.push(3)\n",
    "s.push(4)\n",
    "s.push(5)"
   ]
  },
  {
   "cell_type": "code",
   "execution_count": 68,
   "metadata": {},
   "outputs": [
    {
     "name": "stdout",
     "output_type": "stream",
     "text": [
      "5\n",
      "4\n",
      "3\n",
      "2\n",
      "1\n"
     ]
    }
   ],
   "source": [
    "s.traverse()"
   ]
  },
  {
   "cell_type": "code",
   "execution_count": 69,
   "metadata": {},
   "outputs": [
    {
     "data": {
      "text/plain": [
       "False"
      ]
     },
     "execution_count": 69,
     "metadata": {},
     "output_type": "execute_result"
    }
   ],
   "source": [
    "s.isEmpty()"
   ]
  },
  {
   "cell_type": "code",
   "execution_count": 46,
   "metadata": {},
   "outputs": [
    {
     "name": "stdout",
     "output_type": "stream",
     "text": [
      "5\n"
     ]
    }
   ],
   "source": [
    "s.peek()"
   ]
  },
  {
   "cell_type": "code",
   "execution_count": 47,
   "metadata": {},
   "outputs": [],
   "source": [
    "s.pop()"
   ]
  },
  {
   "cell_type": "code",
   "execution_count": 48,
   "metadata": {},
   "outputs": [
    {
     "name": "stdout",
     "output_type": "stream",
     "text": [
      "4\n",
      "3\n",
      "2\n",
      "1\n"
     ]
    }
   ],
   "source": [
    "s.traverse()"
   ]
  },
  {
   "cell_type": "code",
   "execution_count": 58,
   "metadata": {},
   "outputs": [],
   "source": [
    "def reverse_string(text):\n",
    "    s = Stack()\n",
    "    for i in text:\n",
    "        s.push(i)\n",
    "    res = ''\n",
    "    while s.top!=None:\n",
    "        res = res + s.pop()\n",
    "    print(res)\n",
    "    "
   ]
  },
  {
   "cell_type": "code",
   "execution_count": 59,
   "metadata": {},
   "outputs": [
    {
     "name": "stdout",
     "output_type": "stream",
     "text": [
      "olleH\n"
     ]
    }
   ],
   "source": [
    "reverse_string('Hello')"
   ]
  },
  {
   "cell_type": "code",
   "execution_count": 79,
   "metadata": {},
   "outputs": [
    {
     "name": "stdout",
     "output_type": "stream",
     "text": [
      "Hell\n"
     ]
    }
   ],
   "source": [
    "def text_editor(text, pattern):\n",
    "    u = Stack()\n",
    "    r = Stack()\n",
    "\n",
    "    for i in text:\n",
    "        u.push(i)\n",
    "    \n",
    "    for j in pattern:\n",
    "        if j=='u':\n",
    "            a = u.pop()\n",
    "            r.push(a)\n",
    "        else:\n",
    "            b= r.pop()\n",
    "            u.push(b)\n",
    "    res = ''\n",
    "    while(not u.isEmpty()):\n",
    "        res = u.pop()+res\n",
    "    print(res)\n",
    "\n",
    "\n",
    "    \n",
    "\n",
    "\n",
    "\n",
    "\n",
    "    \n",
    "\n",
    "    \n",
    "\n",
    "\n",
    "    \n",
    "    \n",
    "\n",
    "text_editor('Hello','uur')\n"
   ]
  },
  {
   "cell_type": "markdown",
   "metadata": {},
   "source": [
    "# Queue Implementationm"
   ]
  },
  {
   "cell_type": "code",
   "execution_count": 1,
   "metadata": {},
   "outputs": [],
   "source": [
    "class Node:\n",
    "    def __init__(self,value):\n",
    "        self.data = value\n",
    "        self.next = None\n",
    "\n"
   ]
  },
  {
   "cell_type": "code",
   "execution_count": 14,
   "metadata": {},
   "outputs": [],
   "source": [
    "class Queue:\n",
    "    def __init__(self):\n",
    "        self.front = None\n",
    "        self.rear = None\n",
    "    \n",
    "    def enqueue(self,value):\n",
    "        new_node = Node(value)\n",
    "\n",
    "        if self.rear == None:\n",
    "            self.front = new_node\n",
    "            self.rear = self.front\n",
    "        else:\n",
    "            self.rear.next = new_node\n",
    "            self.rear = new_node\n",
    "    \n",
    "    def dequeue(self):\n",
    "        if self.front == None:\n",
    "            return \"Empty Queue\"\n",
    "        else:\n",
    "            self.front = self.front.next\n",
    "    def traverse(self):\n",
    "        temp = self.front\n",
    "\n",
    "        while temp != None:\n",
    "            print(temp.data,end=' ')\n",
    "            temp = temp.next\n",
    "    def is_empty(self):\n",
    "\n",
    "        if self.front == None:\n",
    "            return \"Empty Queue\"\n",
    "    \n",
    "    def size(self):\n",
    "        temp = self.front\n",
    "        counter = 0\n",
    "        while temp !=None:\n",
    "            counter += 1\n",
    "            temp = temp.next\n",
    "        return counter\n",
    "    \n",
    "    def front_item(self):\n",
    "        if self.front == None:\n",
    "            return 'Empty'\n",
    "        else:\n",
    "            return self.front.data\n",
    "        \n",
    "    def rear_item(self):\n",
    "        if self.front == None:\n",
    "            return 'Empty'\n",
    "        else:\n",
    "            return self.rear.data\n",
    "\n",
    "\n",
    "    \n",
    "\n",
    "\n",
    "\n",
    "\n",
    "\n",
    "\n",
    "\n",
    "\n",
    "\n",
    "\n",
    "\n",
    "        "
   ]
  },
  {
   "cell_type": "code",
   "execution_count": 15,
   "metadata": {},
   "outputs": [],
   "source": [
    "q = Queue()"
   ]
  },
  {
   "cell_type": "code",
   "execution_count": 16,
   "metadata": {},
   "outputs": [],
   "source": [
    "q.enqueue(1)\n",
    "q.enqueue(2)\n",
    "q.enqueue(3)\n",
    "q.enqueue(4)\n",
    "q.enqueue(5)"
   ]
  },
  {
   "cell_type": "code",
   "execution_count": 17,
   "metadata": {},
   "outputs": [
    {
     "name": "stdout",
     "output_type": "stream",
     "text": [
      "1 2 3 4 5 "
     ]
    }
   ],
   "source": [
    "q.traverse()"
   ]
  },
  {
   "cell_type": "code",
   "execution_count": 18,
   "metadata": {},
   "outputs": [
    {
     "data": {
      "text/plain": [
       "5"
      ]
     },
     "execution_count": 18,
     "metadata": {},
     "output_type": "execute_result"
    }
   ],
   "source": [
    "# q.front_item()\n",
    "q.rear_item()"
   ]
  },
  {
   "cell_type": "code",
   "execution_count": 19,
   "metadata": {},
   "outputs": [
    {
     "data": {
      "text/plain": [
       "5"
      ]
     },
     "execution_count": 19,
     "metadata": {},
     "output_type": "execute_result"
    }
   ],
   "source": [
    "q.size()"
   ]
  },
  {
   "cell_type": "code",
   "execution_count": 1,
   "metadata": {},
   "outputs": [],
   "source": [
    "import numpy as np\n",
    "import pandas as pd"
   ]
  },
  {
   "cell_type": "code",
   "execution_count": 7,
   "metadata": {},
   "outputs": [
    {
     "name": "stdout",
     "output_type": "stream",
     "text": [
      "[90]\n"
     ]
    }
   ],
   "source": [
    "def  defferenceof(n,m):\n",
    "    even = 0\n",
    "    sum = 0\n",
    "    for i in range(1,n+1):\n",
    "        if i %m == 0:\n",
    "            even = even + i\n",
    "        else:\n",
    "            sum = sum + i\n",
    "    return [sum-even]\n",
    "\n",
    "n = 20\n",
    "m = 4\n",
    "result = defferenceof(n,m)\n",
    "print(result)\n",
    "\n",
    "\n",
    "\n",
    "    "
   ]
  },
  {
   "cell_type": "code",
   "execution_count": 5,
   "metadata": {},
   "outputs": [
    {
     "name": "stdout",
     "output_type": "stream",
     "text": [
      "1\n",
      "2\n",
      "3\n",
      "4\n"
     ]
    }
   ],
   "source": [
    "n = 4\n",
    "for i in range(1,n+1):\n",
    "    print(i)"
   ]
  },
  {
   "cell_type": "code",
   "execution_count": 17,
   "metadata": {},
   "outputs": [
    {
     "name": "stdout",
     "output_type": "stream",
     "text": [
      "60\n"
     ]
    }
   ],
   "source": [
    "n = 20\n",
    "even_n = sum([x for x in range(1,n+1) if x%4==0])\n",
    "print(even_n)"
   ]
  },
  {
   "cell_type": "code",
   "execution_count": 15,
   "metadata": {},
   "outputs": [
    {
     "data": {
      "text/plain": [
       "150"
      ]
     },
     "execution_count": 15,
     "metadata": {},
     "output_type": "execute_result"
    }
   ],
   "source": [
    "total_sum = sum([i for i in range(1,n+1) if i%4!=0])\n",
    "total_sum"
   ]
  },
  {
   "cell_type": "code",
   "execution_count": 18,
   "metadata": {},
   "outputs": [
    {
     "data": {
      "text/plain": [
       "1"
      ]
     },
     "execution_count": 18,
     "metadata": {},
     "output_type": "execute_result"
    }
   ],
   "source": [
    "c = 4//3\n",
    "c"
   ]
  },
  {
   "cell_type": "code",
   "execution_count": 26,
   "metadata": {},
   "outputs": [],
   "source": [
    "def deno(num,n):\n",
    "    if n<2 or n>36:\n",
    "        return 'Invalid Base'\n",
    "    symbol = '0123456789ABCDEFGHIJKLMNOPQRSTUVWXYZ'\n",
    "\n",
    "    sy = []\n",
    "    while num>0:\n",
    "        rem = num%n\n",
    "        sy.append(symbol[rem])\n",
    "        num = num//n\n",
    "\n",
    "    ans = ''.join(sy[::-1])\n",
    "    return ans\n"
   ]
  },
  {
   "cell_type": "code",
   "execution_count": 27,
   "metadata": {},
   "outputs": [
    {
     "data": {
      "text/plain": [
       "'4BA'"
      ]
     },
     "execution_count": 27,
     "metadata": {},
     "output_type": "execute_result"
    }
   ],
   "source": [
    "deno(718,12)"
   ]
  },
  {
   "cell_type": "code",
   "execution_count": 29,
   "metadata": {},
   "outputs": [
    {
     "data": {
      "text/plain": [
       "19"
      ]
     },
     "execution_count": 29,
     "metadata": {},
     "output_type": "execute_result"
    }
   ],
   "source": [
    "num1 = '451'\n",
    "num2 = '349'\n",
    "\n",
    "p1 = num1[-1]\n",
    "p2 = num2[-1]\n",
    "ans = int(p1 + p2)\n",
    "ans"
   ]
  },
  {
   "cell_type": "code",
   "execution_count": 1,
   "metadata": {},
   "outputs": [],
   "source": [
    "import numpy as np\n",
    "import pandas as pd"
   ]
  },
  {
   "cell_type": "code",
   "execution_count": 2,
   "metadata": {},
   "outputs": [
    {
     "name": "stdout",
     "output_type": "stream",
     "text": [
      "itakrs\n"
     ]
    }
   ],
   "source": [
    "abc = 'itakrs   '\n",
    "print(abc.strip())"
   ]
  },
  {
   "cell_type": "code",
   "execution_count": 2,
   "metadata": {},
   "outputs": [
    {
     "name": "stdout",
     "output_type": "stream",
     "text": [
      "['abc', 'ded', 'gj']\n"
     ]
    }
   ],
   "source": [
    "aa = 'abc ded gj'\n",
    "print(aa.split())"
   ]
  },
  {
   "cell_type": "code",
   "execution_count": 3,
   "metadata": {},
   "outputs": [
    {
     "data": {
      "text/plain": [
       "(1, 2, 3)"
      ]
     },
     "execution_count": 3,
     "metadata": {},
     "output_type": "execute_result"
    }
   ],
   "source": [
    "aaa = '1 2 3'\n",
    "ll = aaa.split()\n",
    "ans = tuple(map(int, ll))\n",
    "ans"
   ]
  },
  {
   "cell_type": "markdown",
   "metadata": {},
   "source": [
    "# Hash"
   ]
  },
  {
   "cell_type": "code",
   "execution_count": null,
   "metadata": {},
   "outputs": [],
   "source": [
    "class Dictionary():\n",
    "    def __init__(self,size):\n",
    "        self.size = size\n",
    "        self.slots = [None] * self.size\n",
    "        self.data = [None]* self.size\n",
    "    \n",
    "\n",
    "    def put(self,key,value):\n",
    "        hash_value = self.hash_function(key)\n",
    "\n",
    "\n",
    "        if self.slots[hash_value] == None:\n",
    "            self.slots[hash_value] = key\n",
    "            self.data[hash_value] = value\n",
    "        else:\n",
    "            if self.slots[hash_value] == key:\n",
    "                self.data[hash_value] = value\n",
    "            else:\n",
    "                new_hash_value = self.rehash(hash_value)\n",
    "                \n",
    "                while self.slots[new_hash_value] != None and self.slots[new_hash_value]!=key:\n",
    "                    new_hash_value = self.rehash(new_hash_value)\n",
    "                \n",
    "                if self.s\n",
    "\n",
    "\n",
    "            \n",
    "\n",
    "            \n",
    "                \n",
    "        \n",
    "    \n",
    "\n",
    "    def rehash(self,old_hash):\n",
    "        return (old_hash +1) % self.size\n",
    "\n",
    "\n",
    "\n",
    "\n",
    "    def hash_function(self,key):\n",
    "        return abs(hash(key)) % self.size\n",
    "    \n",
    "\n",
    "        "
   ]
  },
  {
   "cell_type": "markdown",
   "metadata": {},
   "source": [
    "\n",
    "\n"
   ]
  },
  {
   "cell_type": "code",
   "execution_count": 19,
   "metadata": {},
   "outputs": [
    {
     "data": {
      "text/plain": [
       "'abrackadabra'"
      ]
     },
     "execution_count": 19,
     "metadata": {},
     "output_type": "execute_result"
    }
   ],
   "source": [
    "aa = 'abracadabra'\n",
    "# print(aa[5])\n",
    "# l = list(aa)\n",
    "# l[5] = 'k'\n",
    "# print(l)\n",
    "# ''.join(l)\n",
    "ans = aa[:5] + 'k' + aa[5:]\n",
    "ans\n",
    "\n"
   ]
  },
  {
   "cell_type": "markdown",
   "metadata": {},
   "source": []
  }
 ],
 "metadata": {
  "kernelspec": {
   "display_name": "Python 3",
   "language": "python",
   "name": "python3"
  },
  "language_info": {
   "codemirror_mode": {
    "name": "ipython",
    "version": 3
   },
   "file_extension": ".py",
   "mimetype": "text/x-python",
   "name": "python",
   "nbconvert_exporter": "python",
   "pygments_lexer": "ipython3",
   "version": "3.10.6"
  }
 },
 "nbformat": 4,
 "nbformat_minor": 2
}
