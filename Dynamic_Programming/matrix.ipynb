{
 "cells": [
  {
   "cell_type": "code",
   "execution_count": 1,
   "id": "f999a5c8",
   "metadata": {},
   "outputs": [
    {
     "name": "stdout",
     "output_type": "stream",
     "text": [
      "hellp\n"
     ]
    }
   ],
   "source": [
    "print('hellp')"
   ]
  },
  {
   "cell_type": "code",
   "execution_count": 18,
   "id": "6cfe6aec",
   "metadata": {},
   "outputs": [
    {
     "name": "stdout",
     "output_type": "stream",
     "text": [
      "Matrix is:\n",
      "[4, 5]\n",
      "[6, 7]\n",
      "[8, 9]\n"
     ]
    }
   ],
   "source": [
    "row = int(input('Enter the number of rows: '))\n",
    "col = int(input('Enter the number of columns: '))\n",
    "\n",
    "matrix = []\n",
    "for i in range(row):\n",
    "    row = []\n",
    "    for j in range(col):\n",
    "        row.append(int(input(f'Enter element at position ({i}, {j}): ')))\n",
    "    matrix.append(row)\n",
    "\n",
    "print(\"Matrix is:\")\n",
    "for row in matrix:\n",
    "    print(row)\n",
    "\n"
   ]
  },
  {
   "cell_type": "code",
   "execution_count": 1,
   "id": "7bf60111",
   "metadata": {},
   "outputs": [
    {
     "name": "stdout",
     "output_type": "stream",
     "text": [
      "3\n",
      "1 2 3 4 5 \n",
      "4 5 6 7 \n",
      "7 8 9 10 \n",
      "[1, 2, 3, 4, 5]\n",
      "[4, 5, 6, 7]\n",
      "[7, 8, 9, 10]\n"
     ]
    }
   ],
   "source": [
    "matrix = [\n",
    "    [1, 2, 3,4,5],\n",
    "    [4, 5, 6,7],\n",
    "    [7, 8, 9,10],\n",
    "]\n",
    "\n",
    "#print\n",
    "print(len(matrix))\n",
    "for i in range(len(matrix)):\n",
    "    for j in range(len(matrix[i])):\n",
    "        print(matrix[i][j], end=' ')\n",
    "    print()\n",
    "\n",
    "\n",
    "    \n",
    "for row in matrix:\n",
    "    print(row)\n"
   ]
  },
  {
   "cell_type": "code",
   "execution_count": 4,
   "id": "7cfcf69d",
   "metadata": {},
   "outputs": [
    {
     "name": "stdout",
     "output_type": "stream",
     "text": [
      "7\n"
     ]
    }
   ],
   "source": [
    "matrix = [\n",
    "    [1, 2, 3,4,5],\n",
    "    [4, 5, 6,7],\n",
    "    [7, 8, 9,10],\n",
    "]\n",
    "\n",
    "# summ = 0\n",
    "# a = int(input(\"Enter the row number to sum: \"))\n",
    "\n",
    "# for i in range(len(matrix[a])):\n",
    "#     summ += matrix[a][i]\n",
    "# print(f\"sum of row {a} is : {summ}\")\n",
    "print(matrix[2][0])"
   ]
  },
  {
   "cell_type": "code",
   "execution_count": 9,
   "id": "aa3e189e",
   "metadata": {},
   "outputs": [
    {
     "name": "stdout",
     "output_type": "stream",
     "text": [
      "3\n",
      "12\n"
     ]
    }
   ],
   "source": [
    "matrix = [\n",
    "    [1, 2, 3,4,5],\n",
    "    [4, 5, 6,7],\n",
    "    [7, 8, 9,10],\n",
    "]\n",
    "\n",
    "summm = 0\n",
    "print(len(matrix))\n",
    "for i in range(len(matrix)):\n",
    "    summm = summm + matrix[i][0]\n",
    "print(summm)"
   ]
  },
  {
   "cell_type": "code",
   "execution_count": 4,
   "id": "0cf2ef9c",
   "metadata": {},
   "outputs": [
    {
     "name": "stdout",
     "output_type": "stream",
     "text": [
      "5 4 3 2 "
     ]
    }
   ],
   "source": [
    "arr =  [1,2,3,4,5]\n",
    "left = 0\n",
    "right = len(arr)-1\n",
    "for i in range(right, left,-1):\n",
    "    print(arr[i], end=' ')\n"
   ]
  },
  {
   "cell_type": "code",
   "execution_count": 16,
   "id": "8b3e6c0d",
   "metadata": {},
   "outputs": [
    {
     "name": "stdout",
     "output_type": "stream",
     "text": [
      "5 4 3 2 1 "
     ]
    }
   ],
   "source": [
    "arr =  [1,2,3,4,5]\n",
    "left = 0\n",
    "right = len(arr)-1\n",
    "for i in range(right,left-1,-1):\n",
    "    print(arr[i], end=' ')"
   ]
  },
  {
   "cell_type": "code",
   "execution_count": 15,
   "id": "80c779f1",
   "metadata": {},
   "outputs": [
    {
     "name": "stdout",
     "output_type": "stream",
     "text": [
      "5 4 3 2 "
     ]
    }
   ],
   "source": [
    "arr = [1, 2, 3, 4, 5]\n",
    "left = 1\n",
    "right = len(arr) - 1  # right = 4 (last valid index)\n",
    "\n",
    "for i in range(right, left - 1, -1): \n",
    "    print(arr[i], end=' ')\n"
   ]
  },
  {
   "cell_type": "code",
   "execution_count": null,
   "id": "bd36c469",
   "metadata": {},
   "outputs": [
    {
     "name": "stdout",
     "output_type": "stream",
     "text": [
      "[[0, 1, 1], [1, 2, 3], [0, 1, 1]]\n",
      "0 1 0 \n",
      "1 2 1 \n",
      "1 3 1 \n",
      "1 2 1 \n",
      "1 3 1 \n",
      "1 3 1 \n"
     ]
    }
   ],
   "source": [
    "matrix = [[0,1,0],[1,1,1],[0,1,0]]\n",
    "#fidn culative sum of each row\n",
    "row = len(matrix)\n",
    "col = len(matrix[0])\n",
    "# new_matrix =[[]]\n",
    "\n",
    "for i in range(row):\n",
    "    for j in range(1,col):\n",
    "        matrix[i][j] = matrix[i][j] + matrix[i][j-1]\n",
    "print(matrix)\n",
    "k=2\n",
    "#count submatrix with sum equal to k\n",
    "# use optimal solution and prefix sum\n",
    "for start_col in range(col):\n",
    "    for c in range(start_col, col):\n",
    "        for r in range(row):\n",
    "            \n",
    "\n",
    "\n",
    "\n",
    "\n"
   ]
  },
  {
   "cell_type": "code",
   "execution_count": null,
   "id": "0d1d57c5",
   "metadata": {},
   "outputs": [],
   "source": []
  }
 ],
 "metadata": {
  "kernelspec": {
   "display_name": "Python 3",
   "language": "python",
   "name": "python3"
  },
  "language_info": {
   "codemirror_mode": {
    "name": "ipython",
    "version": 3
   },
   "file_extension": ".py",
   "mimetype": "text/x-python",
   "name": "python",
   "nbconvert_exporter": "python",
   "pygments_lexer": "ipython3",
   "version": "3.10.6"
  }
 },
 "nbformat": 4,
 "nbformat_minor": 5
}
