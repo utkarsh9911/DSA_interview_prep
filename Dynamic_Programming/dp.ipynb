{
 "cells": [
  {
   "cell_type": "code",
   "execution_count": 1,
   "metadata": {},
   "outputs": [
    {
     "name": "stdout",
     "output_type": "stream",
     "text": [
      "hello\n"
     ]
    }
   ],
   "source": [
    "print(\"hello\")"
   ]
  },
  {
   "cell_type": "code",
   "execution_count": 4,
   "metadata": {},
   "outputs": [
    {
     "name": "stdout",
     "output_type": "stream",
     "text": [
      "55\n"
     ]
    }
   ],
   "source": [
    "#fibonacci series\n",
    "def fib(n,memo={}):\n",
    "    if n in memo:\n",
    "        return memo[n]\n",
    "    if n<=1:\n",
    "        return n\n",
    "    memo[n] = fib(n-1,memo) +fib(n-2,memo)\n",
    "    return memo[n]\n",
    "print(fib(10))\n"
   ]
  },
  {
   "cell_type": "code",
   "execution_count": 5,
   "metadata": {},
   "outputs": [
    {
     "name": "stdout",
     "output_type": "stream",
     "text": [
      "{5: 5}\n",
      "<class 'int'>\n"
     ]
    }
   ],
   "source": [
    "\n",
    "dicc = {}\n",
    "dicc[5] = 5\n",
    "print(dicc)\n",
    "print(type(dicc[5]))"
   ]
  },
  {
   "cell_type": "code",
   "execution_count": 6,
   "metadata": {},
   "outputs": [
    {
     "name": "stdout",
     "output_type": "stream",
     "text": [
      "55\n"
     ]
    }
   ],
   "source": [
    "#fibonacci series\n",
    "def fibb(n, tab):\n",
    "    tab[1] = 1\n",
    "    for i in range(2, n+1):\n",
    "        tab[i] = tab[i-1] + tab[i-2]\n",
    "    return tab[n]\n",
    "    \n",
    "\n",
    "n = 10\n",
    "tab = [0]*(n+1)\n",
    "print(fibb(n, tab))\n"
   ]
  },
  {
   "cell_type": "code",
   "execution_count": 1,
   "metadata": {},
   "outputs": [
    {
     "name": "stdout",
     "output_type": "stream",
     "text": [
      "55\n"
     ]
    }
   ],
   "source": [
    "def fibbb(n):\n",
    "    if n<=1:\n",
    "        return n\n",
    "    prev2 = 0\n",
    "    prev1 = 1\n",
    "    for i in range(2,n+1):\n",
    "        current = prev1 + prev2\n",
    "        prev2 = prev1\n",
    "        prev1 = current\n",
    "    return current\n",
    "print(fibbb(10))"
   ]
  },
  {
   "cell_type": "code",
   "execution_count": null,
   "metadata": {},
   "outputs": [],
   "source": []
  },
  {
   "cell_type": "code",
   "execution_count": 4,
   "metadata": {},
   "outputs": [
    {
     "name": "stdout",
     "output_type": "stream",
     "text": [
      "30\n"
     ]
    }
   ],
   "source": [
    "def minEnergy(arr,n,mem={}):\n",
    "    if n ==0:\n",
    "        return 0\n",
    "    if n in mem:\n",
    "        return mem[n]\n",
    "    \n",
    "    cost_one_step = minEnergy(arr,n-1,mem) + abs(arr[n]-arr[n-1])\n",
    "    cost_two_step = float('inf')\n",
    "    if n>1:\n",
    "        cost_two_step = minEnergy(arr,n-2,mem) + abs(arr[n]-arr[n-2])\n",
    "    mem[n] = min(cost_one_step, cost_two_step)\n",
    "    return mem[n]\n",
    "\n",
    "arr = [10, 30, 40, 20]\n",
    "n = len(arr)\n",
    "print(minEnergy(arr,n-1))\n",
    "    "
   ]
  },
  {
   "cell_type": "code",
   "execution_count": null,
   "metadata": {},
   "outputs": [],
   "source": []
  }
 ],
 "metadata": {
  "kernelspec": {
   "display_name": "Python 3",
   "language": "python",
   "name": "python3"
  },
  "language_info": {
   "codemirror_mode": {
    "name": "ipython",
    "version": 3
   },
   "file_extension": ".py",
   "mimetype": "text/x-python",
   "name": "python",
   "nbconvert_exporter": "python",
   "pygments_lexer": "ipython3",
   "version": "3.10.6"
  }
 },
 "nbformat": 4,
 "nbformat_minor": 2
}
