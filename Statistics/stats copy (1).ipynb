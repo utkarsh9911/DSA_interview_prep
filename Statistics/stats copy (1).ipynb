{
 "cells": [
  {
   "cell_type": "markdown",
   "metadata": {},
   "source": [
    "# day1  questions\n"
   ]
  },
  {
   "cell_type": "code",
   "execution_count": null,
   "metadata": {},
   "outputs": [],
   "source": []
  },
  {
   "cell_type": "code",
   "execution_count": null,
   "metadata": {},
   "outputs": [],
   "source": [
    "\"\"\"  \n",
    "OBSERVATIONAL AND EXPERIMENTAL DATA\n",
    "\n",
    "Observational data are collected by observing and recording the natural behavior of individuals or groups without any intervention or manipulation by the researcher.\n",
    "\n",
    "Experimental Data:\n",
    "Experimental data are collected through controlled experiments where the researcher deliberately manipulates one or more variables to observe the effect on another variable.\n",
    "\n",
    "\n",
    "\"\"\""
   ]
  },
  {
   "cell_type": "code",
   "execution_count": null,
   "metadata": {},
   "outputs": [],
   "source": [
    "\"\"\"  \n",
    "what is statistics \n",
    "\"\"\""
   ]
  },
  {
   "cell_type": "code",
   "execution_count": null,
   "metadata": {},
   "outputs": [],
   "source": [
    "\"\"\"  \n",
    "Difference between Descriptive and Inferential Statistics:\n",
    "\n",
    "Descriptive Statistics:\n",
    "Descriptive statistics involves organizing, summarizing, and presenting data in a meaningful way. It helps to describe and visualize the main features of a dataset. Descriptive statistics do not involve making inferences or generalizations beyond the data at hand.\n",
    "Example: Calculating the mean, median, and mode of a set of exam scores to understand the central tendency and distribution of student performance.\n",
    "\n",
    "Inferential Statistics:\n",
    "Inferential statistics involves using sample data to make inferences or predictions about a larger population. It allows researchers to draw conclusions and test hypotheses based on sample data, extrapolating findings to the population from which the sample was drawn.\n",
    "\n",
    "\n",
    "\"\"\""
   ]
  },
  {
   "cell_type": "code",
   "execution_count": null,
   "metadata": {},
   "outputs": [],
   "source": [
    "\"\"\" \n",
    "\n",
    "what topic we cover in descriptive statistics?\n",
    "\n",
    "Descriptive Statistics:\n",
    "Measures of Central Tendency:\n",
    "\n",
    "Mean, Median, Mode: You learn how to calculate and interpret these measures that describe the center of a dataset.\n",
    "Measures of Dispersion:\n",
    "\n",
    "Variance, Standard Deviation, Range: You understand how to quantify the spread or variability of data around the central tendency.\n",
    "Data Visualization:\n",
    "\n",
    "Histograms, Bar Charts, Pie Charts: You learn how to create and interpret graphical representations of data to identify patterns and trends.\n",
    "Summary Statistics:\n",
    "\n",
    "Percentiles, Quartiles: You learn additional measures that provide insights into the distribution of data beyond the mean and median\n",
    "\n",
    "\n",
    "\n",
    "\n",
    "\"\"\"\n"
   ]
  },
  {
   "cell_type": "code",
   "execution_count": null,
   "metadata": {},
   "outputs": [],
   "source": [
    "\"\"\" \n",
    "what is  data types present ?\n",
    "\n",
    "\n",
    "\n",
    "\"\"\""
   ]
  },
  {
   "cell_type": "code",
   "execution_count": null,
   "metadata": {},
   "outputs": [],
   "source": [
    "\"\"\"  \n",
    "data measurment scale :\n",
    "\n",
    "\n",
    "Nominal Data:\n",
    "\n",
    "This type of data represents categories or labels with no inherent order or ranking.\n",
    "Examples: Gender (male, female), Marital Status (single, married, divorced), Colors (red, blue, green).\n",
    "\n",
    "\n",
    "\n",
    "Ordinal Data:\n",
    "\n",
    "Ordinal data represents categories with a natural order or ranking.\n",
    "The intervals between the categories may not be equal.\n",
    "Examples: Educational Levels (high school, bachelor's degree, master's degree), Socioeconomic Status (low, medium, high), Rating Scales (poor, fair, good, excellent).\n",
    "\n",
    "\n",
    "\n",
    "Interval Data:\n",
    "\n",
    "Interval data represent values where the difference between any two values is meaningful and consistent.\n",
    "However, there is no true zero point.\n",
    "Examples: Temperature (measured in Celsius or Fahrenheit), Years (e.g., 2000, 2005, 2010), IQ Scores.\n",
    "\n",
    "\n",
    "Ratio Data:\n",
    "\n",
    "Ratio data have all the characteristics of interval data with the addition of a true zero point.\n",
    "Ratios of values are meaningful.\n",
    "Examples: Height, Weight, Distance, Time in seconds, Counts (number of cars, number of people).\n",
    "\"\"\""
   ]
  },
  {
   "cell_type": "code",
   "execution_count": null,
   "metadata": {},
   "outputs": [],
   "source": [
    "\"\"\" \n",
    "\n",
    "what is measure of  central tendency? \n",
    "\n",
    "A measure of central tendency is a statistical summary of a dataset that represents a central or typical value around which the data tend to cluster. It provides insight into the center or average of the data distribution\n",
    "\n",
    "\n",
    "\n",
    "\n",
    "The mean,\n",
    "\n",
    " often referred to as the average, is calculated by summing up all the values in a dataset and dividing by the total number of values.\n",
    "Formula: Mean = (Sum of all values) / (Number of values)\n",
    "The mean is sensitive to outliers, meaning that extreme values can significantly impact its value.\n",
    "\n",
    "\n",
    "Median:\n",
    "\n",
    "The median is the middle value of a dataset when the values are arranged in ascending or descending order.\n",
    "If the dataset has an odd number of values, the median is the middle value.\n",
    "If the dataset has an even number of values, the median is the average of the two middle values.\n",
    "The median is less affected by outliers compared to the mean, making it a more robust measure of central tendency in skewed distributions.\n",
    "\n",
    "\n",
    "Mode:\n",
    "\n",
    "The mode is the value that occurs most frequently in a dataset.\n",
    "A dataset may have one mode (unimodal), two modes (bimodal), or more modes (multimodal).\n",
    "Unlike the mean and median, the mode can be used with nominal (categorical) data.\n",
    "\n",
    "\"\"\""
   ]
  },
  {
   "cell_type": "code",
   "execution_count": null,
   "metadata": {},
   "outputs": [],
   "source": [
    "\"\"\"  \n",
    "when median prferred over mean ?\n",
    "Robustness to Outliers:\n",
    "\n",
    "The median is less sensitive to outliers or extreme values compared to the mean. Outliers can heavily skew the mean, affecting its representativeness of the central tendency of the dataset. In such cases, the median provides a more robust estimate.\n",
    "Skewed Distributions:\n",
    "\n",
    "In skewed distributions, where the data is not symmetrically distributed around the center, the median can provide a better representation of the typical value. This is because the median is not influenced by the extreme values at the tails of the distribution, as the mean might be.\n",
    "Ordinal Data:\n",
    "\n",
    "When dealing with ordinal data or ranked data, the median is often more appropriate. For example, in ranking survey responses from least to most favorable, the median represents the middle response, providing a clear indication of the central position.\n",
    "\"\"\""
   ]
  },
  {
   "cell_type": "code",
   "execution_count": null,
   "metadata": {},
   "outputs": [],
   "source": [
    "\"\"\" \n",
    "when mean prferred over median ?\n",
    "\n",
    "\n",
    "Symmetric Distributions:\n",
    "\n",
    "In symmetric distributions with no outliers, the mean and median are usually very close to each other, and the mean can provide a precise measure of central tendency.\n",
    "Interval or Ratio Data:\n",
    "\n",
    "For interval or ratio data that follow a normal distribution without outliers, the mean is often the most appropriate measure of central tendency.\n",
    "\n",
    "\"\"\""
   ]
  },
  {
   "cell_type": "code",
   "execution_count": null,
   "metadata": {},
   "outputs": [],
   "source": [
    "\n",
    "\"\"\"  \n",
    "where we use the concept of central tendency ? \n",
    "\n",
    "\n",
    "Summary and Description\n",
    "Data Interpretation\n",
    "Comparison\n",
    "Decision Making\n",
    "Inference and Estimation\n",
    "Modeling and Prediction\n",
    "Quality Control\n",
    "Communication\n",
    "\n",
    "\"\"\""
   ]
  },
  {
   "cell_type": "code",
   "execution_count": null,
   "metadata": {},
   "outputs": [],
   "source": [
    "\"\"\" \n",
    "Dispersion in statistics :\n",
    "\n",
    "Dispersion in statistics refers to the extent to which data points in a dataset spread out or vary from the central value, such as the mean or median. It provides information about the spread, variability, or consistency of the data distribution\n",
    "\n",
    "\n",
    "\n",
    "Here are the topics related to dispersion in statistics:\n",
    "\n",
    "Variance\n",
    "Standard Deviation\n",
    "Range\n",
    "Interquartile Range (IQR)\n",
    "\"\"\""
   ]
  },
  {
   "cell_type": "code",
   "execution_count": null,
   "metadata": {},
   "outputs": [],
   "source": [
    "\"\"\"  \n",
    "what large dispersion value is mean for ?\n",
    "\n",
    "High Variability:\n",
    "\n",
    "A large standard deviation indicates high variability or dispersion of data points around the mean. This means that the data values deviate significantly from the average value, resulting in a wider distribution.\n",
    "Spread of Data:\n",
    "\n",
    "The larger the standard deviation, the greater the spread of data points around the mean. Data points may be widely dispersed across the dataset, indicating a diverse range of values and potential outliers.\n",
    "\n",
    "\n",
    "Heterogeneity:\n",
    "\n",
    "A large standard deviation suggests that the dataset is heterogeneous, with data points varying widely in magnitude or value. This heterogeneity may reflect diverse characteristics, behaviors, or conditions within the dataset.\n",
    "Uncertainty:\n",
    "\n",
    "A large standard deviation implies greater uncertainty or unpredictability in the dataset. It indicates that individual data points may vary considerably from the mean, making it challenging to make precise predictions or draw conclusions about the dataset.\n",
    "\n",
    "\n",
    "Skewed Distribution:\n",
    "\n",
    "In some cases, a large standard deviation may indicate a skewed distribution, where data points are asymmetrically distributed around the mean. The presence of outliers or extreme values can contribute to the skewness of the distribution.\n",
    "Potential Outliers:\n",
    "\n",
    "Large standard deviations may also suggest the presence of outliers or unusual data points that significantly influence the variability of the dataset. These outliers may represent rare events, measurement errors, or unique observations within the dataset.\n",
    "\n",
    "\"\"\""
   ]
  },
  {
   "cell_type": "code",
   "execution_count": null,
   "metadata": {},
   "outputs": [],
   "source": [
    "\"\"\"  \n",
    "Real world where we can use the dispersion in statistics ?\n",
    "\n",
    "Quality Assurance:\n",
    "\n",
    "The company must ensure that the dimensions of each microchip meet specific tolerance levels to function correctly and fit within electronic devices. Understanding the dispersion of the dimensions helps the company assess whether the manufacturing process is producing microchips within acceptable limits.\n",
    "\n",
    "\n",
    "Identifying Variability:\n",
    "\n",
    "By analyzing measures of dispersion such as standard deviation or range, the company can identify the variability in microchip dimensions across production batches or manufacturing lines. High dispersion may indicate inconsistencies or errors in the manufacturing process that need to be addressed.\n",
    "\n",
    "\n",
    "Minimizing Defects and Waste:\n",
    "\n",
    "High dispersion in microchip dimensions increases the likelihood of producing defective or non-conforming products. By monitoring and controlling dispersion, the company can minimize defects, reduce waste, and improve overall product quality.\n",
    "\n",
    "\n",
    "Process Improvement:\n",
    "\n",
    "Understanding dispersion allows the company to identify areas for process improvement. For example, if the standard deviation of microchip dimensions is consistently high, the company may investigate factors such as machine calibration, material quality, or operator training to reduce variability and improve product consistency.\n",
    "\n",
    "\"\"\""
   ]
  },
  {
   "cell_type": "code",
   "execution_count": null,
   "metadata": {},
   "outputs": [],
   "source": [
    "\"\"\"  \n",
    "what is use of bassel correction in statistics ?\n",
    "\n",
    "It is used to provide an unbiased estimate of the population variance and standard deviation based on a sample of the population.\n",
    "\n",
    "The reason for Bessel's correction lies in the fact that when you calculate the sample variance and standard deviation, you are using the sample mean as an estimate of the population mean. However, using the sample mean tends to slightly underestimate the population variance and standard deviation, especially for smaller sample sizes.\n",
    "\n",
    "Bessel's correction adjusts for this underestimation by dividing the sum of squared deviations (used in the calculation of variance) by \n",
    "\n",
    "\n",
    "n−1 instead of \n",
    "\n",
    "n is the sample size.\n",
    "\n",
    "\"\"\""
   ]
  },
  {
   "cell_type": "code",
   "execution_count": null,
   "metadata": {},
   "outputs": [],
   "source": [
    "\"\"\"  \n",
    "sample vs population ?\n",
    "\n",
    "Population:\n",
    "\n",
    "The population refers to the entire group or set of individuals, objects, or events that possess certain characteristics and are of interest to the researcher.\n",
    "It represents the complete collection of elements under consideration in a study.\n",
    "The population is often large and may be difficult or impractical to study in its entirety.\n",
    "Example: If you're studying the average height of adults in a country, the entire adult population of that country would constitute the population.\n",
    "\n",
    "\n",
    "Sample:\n",
    "\n",
    "A sample is a subset or a smaller representative group selected from the population.\n",
    "It is chosen in such a way that it reflects the characteristics and diversity of the population it represents.\n",
    "The purpose of sampling is to gather data efficiently and cost-effectively while maintaining the ability to generalize findings to the population.\n",
    "Example: Instead of measuring the height of every adult in the country, you might select a random sample of 1000 adults and measure their heights. This subset represents the sample\n",
    "\n",
    "\"\"\""
   ]
  },
  {
   "cell_type": "code",
   "execution_count": null,
   "metadata": {},
   "outputs": [],
   "source": [
    "\"\"\" \n",
    "A random variable is a variable whose possible values are outcomes of a random phenomenon. In other words, it is a numerical quantity that can take on different values as a result of a random process or experiment\n",
    "\n",
    "Discrete Random Variable:\n",
    "\n",
    "A discrete random variable is one that can only take on a countable number of distinct values.\n",
    "The values of a discrete random variable are often integers.\n",
    "Example: The number of heads obtained when flipping a coin three times is a discrete random variable. Possible values include 0, 1, 2, or 3.\n",
    "Continuous Random Variable:\n",
    "\n",
    "A continuous random variable is one that can take on any value within a specified range or interval.\n",
    "The values of a continuous random variable are typically real numbers.\n",
    "Example: The height of a person selected at random from a population is a continuous random variable. It can take on any value within a range, such as 150 cm to 200 cm.\n",
    "\n",
    "\n",
    "\n",
    "\"\"\""
   ]
  },
  {
   "cell_type": "code",
   "execution_count": null,
   "metadata": {},
   "outputs": [],
   "source": [
    "\"\"\" \n",
    "\n",
    "A histogram is a graphical representation of the distribution of data. It consists of a series of adjacent rectangles, or bars, where the width of each bar represents the range of values for a particular interval, and the height of each bar represents the frequency or count of data points within that interval. Histograms are widely used in statistics and data analysis for visualizing the distribution of numerical data.\n",
    "\n",
    "use of histogram :\n",
    "\n",
    "Visualization of Data Distribution:\n",
    "\n",
    "Histograms provide a visual summary of the distribution of data, allowing analysts to quickly understand the shape, center, and spread of the data set.\n",
    "Identification of Patterns and Trends:\n",
    "\n",
    "By examining the shape and pattern of the histogram, analysts can identify key characteristics of the data distribution, such as whether it is symmetric, skewed, bimodal, or uniform.\n",
    "Detection of Outliers and Anomalies:\n",
    "\n",
    "Outliers, or data points that significantly deviate from the rest of the dataset, can be easily identified in a histogram as bars that are much higher or lower than the rest. This helps in detecting anomalies or errors in the data.\n",
    "Understanding Central Tendency and Dispersion:\n",
    "\n",
    "Histograms allow for a visual assessment of measures of central tendency (mean, median, mode) and dispersion (range, standard deviation, variance) within the data set.\n",
    "Comparison Between Groups or Datasets:\n",
    "\n",
    "Histograms facilitate comparisons between different groups or datasets by displaying their respective distributions side by side. This helps in identifying similarities, differences, and patterns between the groups.\n",
    "\n",
    "\"\"\""
   ]
  },
  {
   "cell_type": "code",
   "execution_count": null,
   "metadata": {},
   "outputs": [],
   "source": [
    "\"\"\"  \n",
    "\n",
    "Skewness is a measure of the asymmetry of the probability distribution of a real-valued random variable about its mean. It indicates the degree to which the data deviates from symmetry. In simpler terms, skewness measures the lack of symmetry in a dataset's distribution.\n",
    "\n",
    "Positive Skewness (Right Skewness):\n",
    "\n",
    "A distribution is positively skewed if the tail on the right-hand side (higher values) is longer or fatter than the tail on the left-hand side (lower values).\n",
    "In a positively skewed distribution, the mean is typically greater than the median.\n",
    "Example: Income distributions often exhibit positive skewness, with a few individuals earning exceptionally high incomes.\n",
    "Negative Skewness (Left Skewness):\n",
    "\n",
    "A distribution is negatively skewed if the tail on the left-hand side (lower values) is longer or fatter than the tail on the right-hand side (higher values).\n",
    "In a negatively skewed distribution, the mean is typically less than the median.\n",
    "Example: The distribution of scores on a very easy exam might be negatively skewed, as most students would score high, but a few might score very low.\n",
    "Zero Skewness:\n",
    "\n",
    "A distribution is considered symmetric or approximately symmetric if it has zero skewness. This means that the distribution is balanced and evenly distributed around its mean.\n",
    "In a symmetric distribution, the mean, median, and mode are all equal.\n",
    "Example: The standard normal distribution (bell-shaped curve) has zero skewness.\n",
    "\n",
    "\n",
    "\"\"\""
   ]
  },
  {
   "cell_type": "code",
   "execution_count": null,
   "metadata": {},
   "outputs": [],
   "source": [
    "\"\"\"  \n",
    "Covariance is a statistical measure that quantifies the degree to which two variables change together. In other words, it measures the directional relationship between two random variables. If the covariance between two variables is positive, it indicates that they tend to move in the same direction. Conversely, if the covariance is negative, it suggests that the variables move in opposite directions\n",
    "\n",
    "\"\"\""
   ]
  },
  {
   "cell_type": "code",
   "execution_count": null,
   "metadata": {},
   "outputs": [],
   "source": [
    "\"\"\" \n",
    "Correlation is a statistical measure that describes the strength and direction of a relationship between two variables. It quantifies how closely related two variables are and the direction of their relationship. Correlation analysis is crucial in understanding the association between variables and is widely used in various fields, including finance, economics, psychology, and scientific research.\n",
    "\n",
    "\n",
    "Types of correlation:\n",
    "\n",
    "Pearson Correlation Coefficient (Parametric Correlation):\n",
    "\n",
    "The Pearson correlation coefficient, denoted by \n",
    "�\n",
    "r, measures the linear relationship between two continuous variables.\n",
    "It ranges from -1 to +1, where:\n",
    "\n",
    "r=1: Perfect positive correlation\n",
    "\n",
    "r=−1: Perfect negative correlation\n",
    "\n",
    "r=0: No correlation\n",
    "\n",
    "\n",
    "The strength of the correlation is determined by the magnitude of \n",
    "\n",
    "r, while the sign (+ or -) indicates the direction of the relationship.\n",
    "The Pearson correlation coefficient assumes that the relationship between variables is linear and that the data follows a normal distribution.\n",
    "\n",
    "\n",
    "Spearman Rank Correlation (Non-parametric Correlation):\n",
    "\n",
    "Spearman rank correlation, denoted by \n",
    "ρ (rho), measures the strength and direction of the monotonic relationship between two variables.\n",
    "It does not assume a linear relationship and is suitable for ordinal or non-normally distributed data.\n",
    "Spearman correlation is calculated based on the ranks of the data points rather than their actual values, making it robust to outliers and non-linear relationships.\n",
    "\n",
    "\n",
    "\"\"\""
   ]
  },
  {
   "cell_type": "code",
   "execution_count": null,
   "metadata": {},
   "outputs": [],
   "source": [
    "\"\"\"  \n",
    "why we are using correlation ?\n",
    "\n",
    "Feature Selection:\n",
    "\n",
    "Correlation analysis helps in selecting the most relevant features (variables) for predictive models. Features that are highly correlated with the target variable are often considered important predictors.\n",
    "Multicollinearity Detection:\n",
    "\n",
    "Correlation analysis helps in identifying multicollinearity, which occurs when two or more predictor variables in a regression model are highly correlated. Multicollinearity can affect the stability and interpretability of the model, so identifying and addressing it is crucial.\n",
    "Data Exploration:\n",
    "\n",
    "Correlation analysis is an essential step in exploratory data analysis (EDA) during the initial stages of model development. It provides insights into the relationships between different features and the target variable, helping data scientists understand the underlying patterns and dynamics of the data.\n",
    "Dimensionality Reduction:\n",
    "\n",
    "In high-dimensional datasets, correlation analysis can be used for dimensionality reduction. Features that are highly correlated with each other may contain redundant information. Removing one of the correlated features can reduce computational complexity and improve model interpretability without sacrificing predictive performance.\n",
    "\"\"\""
   ]
  },
  {
   "cell_type": "code",
   "execution_count": null,
   "metadata": {},
   "outputs": [],
   "source": [
    "\"\"\" \n",
    "what is the use of covariance ?\n",
    "\n",
    "eature Selection and Dimensionality Reduction:\n",
    "\n",
    "Covariance analysis helps in selecting relevant features for machine learning models. Features with high covariance with the target variable may be good candidates for predictive modeling.\n",
    "Covariance matrices are also used in techniques like Principal Component Analysis (PCA) for dimensionality reduction. PCA aims to find orthogonal features that capture the maximum variance in the data, which is related to the covariance matrix.\n",
    "\n",
    "\n",
    "Understanding Relationships Between Variables:\n",
    "\n",
    "Covariance helps in understanding the relationships between different variables in the dataset. High positive covariance values between two variables indicate that they tend to increase or decrease together, while negative covariance values indicate an inverse relationship.\n",
    "\n",
    "\n",
    "\n",
    "Multivariate Normal Distribution:\n",
    "\n",
    "In some machine learning algorithms, such as Gaussian Naive Bayes classifiers, covariance matrices are used to model the multivariate normal distribution of features.\n",
    "\"\"\""
   ]
  },
  {
   "cell_type": "code",
   "execution_count": null,
   "metadata": {},
   "outputs": [],
   "source": [
    "\"\"\"  \n",
    "use of skewness ans kurtosis ?\n",
    "\n",
    "Skewness:\n",
    "\n",
    "Skewness measures the asymmetry of the distribution around its mean. It quantifies the degree to which the distribution is skewed to one side or the other.\n",
    "A distribution can be positively skewed, negatively skewed, or approximately symmetric.\n",
    "Positive skewness indicates that the tail of the distribution is longer on the right side, while negative skewness indicates a longer tail on the left side.\n",
    "A skewness of zero indicates perfect symmetry around the mean.\n",
    "\n",
    "\n",
    "Kurtosis:\n",
    "\n",
    "Kurtosis measures the peakedness or flatness of the distribution's curve. It quantifies the degree to which the distribution's tails are heavier or lighter than a normal distribution.\n",
    "A distribution with positive kurtosis has heavier tails and a sharper peak than a normal distribution (leptokurtic).\n",
    "A distribution with negative kurtosis has lighter tails and a flatter peak than a normal distribution (platykurtic).\n",
    "A normal distribution has a kurtosis of zero, indicating its tails and peak are similar to a standard normal distribution.\n",
    "\"\"\""
   ]
  },
  {
   "cell_type": "code",
   "execution_count": null,
   "metadata": {},
   "outputs": [],
   "source": [
    "\"\"\"  \n",
    "what is the range and IQR how to differtiate them ?\n",
    "\n",
    "Calculate the Range:\n",
    "\n",
    "The range is the difference between the maximum and minimum values in the dataset.\n",
    "Formula: Range = Maximum Value - Minimum Value\n",
    "Calculate the Interquartile Range (IQR):\n",
    "\n",
    "The interquartile range (IQR) is a measure of statistical dispersion, which represents the range of the middle 50% of the dataset.\n",
    "To calculate the IQR, you first need to find the first quartile (Q1) and the third quartile (Q3).\n",
    "Q1 is the value below which 25% of the data fall, and Q3 is the value below which 75% of the data fall.\n",
    "Once you have Q1 and Q3, calculate the IQR by subtracting Q1 from Q3.\n",
    "Formula: IQR = Q3 - Q1\n",
    "\"\"\""
   ]
  },
  {
   "cell_type": "code",
   "execution_count": null,
   "metadata": {},
   "outputs": [],
   "source": [
    "\"\"\" \n",
    "Sampling is a fundamental concept in statistics and data analysis that involves selecting a subset of individuals, items, or observations from a larger population. The purpose of sampling is to draw conclusions about the population based on the characteristics of the sample, without having to study every individual in the population, which may be impractical or impossible.\n",
    "\n",
    "There are several types of sampling methods, each with its own advantages and disadvantages. Some common types of sampling include:\n",
    "\n",
    "Simple Random Sampling: In this method, every individual in the population has an equal chance of being selected, and each selection is independent of the others. Simple random sampling is often conducted using random number generators or drawing names from a hat.\n",
    "\n",
    "Stratified Sampling: In stratified sampling, the population is divided into distinct subgroups, or strata, based on certain characteristics (such as age, gender, income level, etc.). Then, random samples are drawn from each stratum in proportion to their size in the population. This method ensures that each subgroup is adequately represented in the sample.\n",
    "\n",
    "Systematic Sampling: Systematic sampling involves selecting every nth individual from the population after a random start. For example, if a population consists of 1000 individuals and a sample of 100 is desired, every 10th individual could be selected after randomly choosing a starting point between 1 and 10.\n",
    "\n",
    "Cluster Sampling: In cluster sampling, the population is divided into clusters, or groups, based on some criterion (such as geographical location). Then, a random sample of clusters is selected, and data is collected from all individuals within the chosen clusters. Cluster sampling is often more practical and cost-effective than other methods, especially when the population is widely dispersed.\n",
    "\n",
    "Convenience Sampling: Convenience sampling involves selecting individuals who are readily available or easy to access. While convenient, this method may introduce bias into the sample, as it may not accurately represent the entire population.\n",
    "\n",
    "Snowball Sampling: Snowball sampling is a non-probability sampling method where existing study subjects recruit future subjects from among their acquaintances. This method is often used in studies where the population is difficult to access.\n",
    "\n",
    "\"\"\""
   ]
  },
  {
   "cell_type": "code",
   "execution_count": null,
   "metadata": {},
   "outputs": [],
   "source": []
  },
  {
   "cell_type": "code",
   "execution_count": null,
   "metadata": {},
   "outputs": [],
   "source": [
    "\"\"\"\n",
    "\n",
    "Box plots, also known as box-and-whisker plots, offer several benefits in data analysis and visualization:\n",
    "\n",
    "Summary of Data Distribution:\n",
    "\n",
    "Box plots provide a concise summary of the distribution of a dataset, including measures of central tendency (median) and variability (interquartile range).\n",
    "They offer insights into the spread, skewness, and presence of outliers in the data.\n",
    "\n",
    "Comparison Between Groups:\n",
    "Box plots allow for easy comparison of distributions between different groups or categories.\n",
    "They help identify similarities, differences, and patterns in the data across groups.\n",
    "\n",
    "\n",
    "Identification of Outliers:\n",
    "\n",
    "Box plots visually highlight potential outliers in the dataset, which are data points that lie outside the whiskers of the plot.\n",
    "Outliers can be easily identified as individual data points beyond the range of the whiskers.\n",
    "\n",
    "\n",
    "Robustness to Skewed Distributions:\n",
    "\n",
    "Box plots are robust to the effects of skewed distributions and outliers.\n",
    "They provide a clearer representation of the central tendency and variability, even in the presence of extreme values.\n",
    "\n",
    "\"\"\""
   ]
  },
  {
   "cell_type": "code",
   "execution_count": null,
   "metadata": {},
   "outputs": [],
   "source": [
    "\"\"\"\n",
    "What are some of the properties of a normal distribution?\n",
    "\n",
    "A normal distribution, also known as Gaussian distribution, Normal distribution refers to the data which is symmetric to the mean, and data far from the mean is less frequent in occurrence. It appears as a bell-shaped curve in graphical form, which is symmetrical along the axes.\n",
    "\n",
    "The properties of a normal distribution are –\n",
    "\n",
    "Symmetrical – The shape changes with that of parameter values\n",
    "Unimodal – Has only one mode.\n",
    "Mean – the measure of central tendency\n",
    "Central tendency – the mean, median, and mode lie at the centre, which means that they are all equal, and the curve is perfectly symmetrical at the midpoint. \n",
    "\"\"\""
   ]
  },
  {
   "cell_type": "code",
   "execution_count": null,
   "metadata": {},
   "outputs": [],
   "source": [
    "\"\"\"  \n",
    "What general conditions must be satisfied for the central limit theorem to hold?\n",
    "Here are the conditions that must be satisfied for the central limit theorem to hold –\n",
    "\n",
    "The data must follow the randomization condition which means that it must be sampled randomly.\n",
    "The Independence Assumptions dictate that the sample values must be independent of each other.\n",
    "Sample sizes must be large. They must be equal to or greater than 30 to be able to hold CLT. Large sample size is required to hold the accuracy of CLT to be tru\n",
    "\"\"\""
   ]
  },
  {
   "cell_type": "code",
   "execution_count": null,
   "metadata": {},
   "outputs": [],
   "source": [
    "\"\"\"  \n",
    " What can you do with an outlier?\n",
    " \n",
    "Outliers affect A/B testing and they can be either removed or kept according to what situation demands or the data set requirements. \n",
    "\n",
    "Here are some ways to deal with outliers in data –\n",
    "\n",
    "Filter out outliers especially when we have loads of data.\n",
    "If a data point is wrong, it is best to remove the outliers.\n",
    "Alternatively, two options can be provided – one with outliers and one without.\n",
    "During post-test analysis, outliers can be removed or modified. The best way to modify them is to trim the data set.\n",
    "If there are a lot of outliers and results are critical, then it is best to change the value of the outliers to other variables. They can be changed to a value that is representative of the data set.\n",
    "When outliers have meaning, they can be considered, especially in the case of mild outliers. \n",
    "\"\"\""
   ]
  },
  {
   "cell_type": "code",
   "execution_count": null,
   "metadata": {},
   "outputs": [],
   "source": [
    "\"\"\"  \n",
    "What is kurtosis?\n",
    "Kurtosis is a measure of the degree of the extreme values present in one tail of distribution or the peaks of frequency distribution as compared to the others. The standard normal distribution has a kurtosis of 3 whereas the values of symmetry and kurtosis between -2 and +2 are considered normal and acceptable. The data sets with a high level of kurtosis imply that there is a presence of outliers. One needs to add data or remove outliers to overcome this problem. Data sets with low kurtosis levels have light tails and lack outliers.\n",
    "\"\"\""
   ]
  },
  {
   "cell_type": "code",
   "execution_count": null,
   "metadata": {},
   "outputs": [],
   "source": []
  },
  {
   "cell_type": "code",
   "execution_count": null,
   "metadata": {},
   "outputs": [],
   "source": [
    "\"\"\"\n",
    "Where are long-tailed distributions used?\n",
    "A long-tailed distribution is a type of distribution where the tail drops off gradually toward the end of the curve.\n",
    "\n",
    "The Pareto principle and the product sales distribution are good examples to denote the use of long-tailed distributions. Also, it is widely used in classification and regression problems. \n",
    "\n",
    "\"\"\""
   ]
  },
  {
   "cell_type": "code",
   "execution_count": null,
   "metadata": {},
   "outputs": [],
   "source": [
    "\"\"\"  \n",
    "What is meant by mean imputation for missing data? Why is it bad?\n",
    "Mean imputation is a rarely used practice where null values in a dataset are replaced directly with the corresponding mean of the data.\n",
    "\n",
    "It is considered a bad practice as it completely removes the accountability for feature correlation. This also means that the data will have low variance and increased bias, adding to the dip in the accuracy of the model, alongside narrower confidence intervals.\n",
    "\n",
    "\"\"\""
   ]
  },
  {
   "cell_type": "code",
   "execution_count": null,
   "metadata": {},
   "outputs": [],
   "source": [
    "\"\"\"\n",
    " How is missing data handled in statistics?\n",
    "There are many ways to handle missing data in Statistics:\n",
    "\n",
    "Prediction of the missing values\n",
    "Assignment of individual (unique) values\n",
    "Deletion of rows, which have the missing data\n",
    "Mean imputation or median imputation\n",
    "Using random forests, which support the missing values\n",
    "\n",
    "\n",
    "\"\"\""
   ]
  },
  {
   "cell_type": "code",
   "execution_count": null,
   "metadata": {},
   "outputs": [],
   "source": [
    "\"\"\"  \n",
    "What is exploratory data analysis?\n",
    "Exploratory data analysis is the process of performing investigations on data to understand the data better.\n",
    "\n",
    "In this, initial investigations are done to determine patterns, spot abnormalities, test hypotheses, and also check if the assumptions are right.\n",
    "\"\"\""
   ]
  },
  {
   "cell_type": "code",
   "execution_count": null,
   "metadata": {},
   "outputs": [],
   "source": [
    "\"\"\"   \n",
    " What is the meaning of selection bias?\n",
    "Selection bias is a phenomenon that involves the selection of individual or grouped data in a way that is not considered to be random. Randomization plays a key role in performing analysis and understanding model functionality better.\n",
    "\n",
    "If correct randomization is not achieved, then the resulting sample will not accurately represent the population.\n",
    "\n",
    "\"\"\""
   ]
  },
  {
   "cell_type": "code",
   "execution_count": null,
   "metadata": {},
   "outputs": [],
   "source": []
  },
  {
   "cell_type": "code",
   "execution_count": null,
   "metadata": {},
   "outputs": [],
   "source": [
    "\"\"\"\n",
    "What is DOE?\n",
    "DOE is an acronym for the Design of Experiments in statistics. It is considered as the design of a task that describes the information and the change of the same based on the changes to the independent input variables.\n",
    "\n",
    "\"\"\""
   ]
  },
  {
   "cell_type": "code",
   "execution_count": null,
   "metadata": {},
   "outputs": [],
   "source": [
    "\"\"\" \n",
    "What is the meaning of KPI in statistics?\n",
    "KPI stands for Key Performance Analysis in statistics. It is used as a reliable metric to measure the success of a company with respect to its achieving the required business objectives.\n",
    "\n",
    "There are many good examples of KPIs:\n",
    "\n",
    "Profit margin percentage\n",
    "Operating profit margin\n",
    "Expense ratio\n",
    "\"\"\""
   ]
  },
  {
   "cell_type": "code",
   "execution_count": null,
   "metadata": {},
   "outputs": [],
   "source": [
    "\"\"\"  \n",
    "What is the meaning of the five-number summary in Statistics?\n",
    "The five-number summary is a measure of five entities that cover the entire range of data as shown below:\n",
    "\n",
    "Low extreme (Min)\n",
    "First quartile (Q1)\n",
    "Median\n",
    "Upper quartile (Q3)\n",
    "\"\"\""
   ]
  },
  {
   "cell_type": "code",
   "execution_count": null,
   "metadata": {},
   "outputs": [],
   "source": [
    "\"\"\"  \n",
    "What is the meaning of standard deviation?\n",
    "Standard deviation represents the magnitude of how far the data points are from the mean. A low value of standard deviation is an indication of the data being close to the mean, and a high value indicates that the data is spread to extreme ends, far away from the mean.\n",
    "\n",
    "\"\"\""
   ]
  },
  {
   "cell_type": "code",
   "execution_count": null,
   "metadata": {},
   "outputs": [],
   "source": [
    "\"\"\"   What is correlation?\n",
    "Correlation is used to test relationships between quantitative variables and categorical variables. Unlike covariance, correlation tells us how strong the relationship is between two variables. The value of correlation between two variables ranges from -1 to +1.\n",
    "\n",
    "The -1 value represents a high negative correlation, i.e., if the value in one variable increases, then the value in the other variable will drastically decrease. Similarly, +1 means a positive correlation, and here, an increase in one variable will lead to an increase in the other. Whereas, 0 means there is no correlation.\n",
    "\n",
    "If two variables are strongly correlated, then they may have a negative impact on the statistical model, and one of them must be dropped.\n",
    "\"\"\""
   ]
  },
  {
   "cell_type": "code",
   "execution_count": null,
   "metadata": {},
   "outputs": [],
   "source": [
    "\"\"\"  \n",
    "What is the meaning of covariance?\n",
    "Covariance is the measure of indication when two items vary together in a cycle. The systematic relation is determined between a pair of random variables to see if the change in one will affect the other variable in the pair or not.\n",
    "\"\"\""
   ]
  },
  {
   "cell_type": "code",
   "execution_count": null,
   "metadata": {},
   "outputs": [],
   "source": [
    "\"\"\"  \n",
    "What is the relationship between the confidence level and the significance level in statistics?\n",
    "The significance level is the probability of obtaining a result that is extremely different from the condition where the null hypothesis is true. While the confidence level is used as a range of similar values in a population.\n",
    "\n",
    "Both significance and confidence level are related by the following formula:\n",
    "\n",
    "Significance level = 1 − Confidence level\n",
    "\"\"\""
   ]
  },
  {
   "cell_type": "code",
   "execution_count": null,
   "metadata": {},
   "outputs": [],
   "source": [
    "\"\"\"  \n",
    "What types of variables are used for Pearson’s correlation coefficient?\n",
    "Variables to be used for the Pearson’s correlation coefficient must be either in a ratio or in an interval.\n",
    "\n",
    "Note that there can exist a condition when one variable is a ratio, while the other is an interval score\n",
    "\n",
    "\"\"\""
   ]
  },
  {
   "cell_type": "code",
   "execution_count": null,
   "metadata": {},
   "outputs": [],
   "source": [
    "\"\"\"  \n",
    "What are the examples of symmetric distribution?\n",
    "Symmetric distribution means that the data on the left side of the median is the same as the one present on the right side of the median.\n",
    "\n",
    "There are many examples of symmetric distribution, but the following three are the most widely used ones:\n",
    "\n",
    "Uniform distribution\n",
    "Binomial distribution\n",
    "Normal distribution\n",
    "\"\"\""
   ]
  },
  {
   "cell_type": "code",
   "execution_count": null,
   "metadata": {},
   "outputs": [],
   "source": [
    "\"\"\" \n",
    "Where is inferential statistics used?\n",
    "Inferential statistics is used for several purposes, such as research, in which we wish to draw conclusions about a population using some sample data. This is performed in a variety of fields, ranging from government operations to quality control and quality assurance teams in multinational corporations.\n",
    "\"\"\""
   ]
  },
  {
   "cell_type": "code",
   "execution_count": null,
   "metadata": {},
   "outputs": [],
   "source": [
    "\"\"\" \n",
    ". What are the scenarios where outliers are kept in the data?\n",
    "There are not many scenarios where outliers are kept in the data, but there are some important situations when they are kept. They are kept in the data for analysis if:\n",
    "\n",
    "Results are critical\n",
    "Outliers add meaning to the data\n",
    "The data is highly skewed\n",
    "\"\"\""
   ]
  },
  {
   "cell_type": "code",
   "execution_count": null,
   "metadata": {},
   "outputs": [],
   "source": [
    "\"\"\"  \n",
    "What is the meaning of degrees of freedom (DF) in statistics?\n",
    "Degrees of freedom or DF is used to define the number of options at hand when performing an analysis. It is mostly used with t-distribution and not with the z-distribution.\n",
    "\n",
    "If there is an increase in DF, the t-distribution will reach closer to the normal distribution. If DF > 30, this means that the t-distribution at hand is having all of the characteristics of a normal distribution.\n",
    "\"\"\""
   ]
  },
  {
   "cell_type": "code",
   "execution_count": null,
   "metadata": {},
   "outputs": [],
   "source": [
    "\"\"\"  \n",
    "What are some of the techniques to reduce underfitting and overfitting during model training?\n",
    "Underfitting refers to a situation where data has high bias and low variance, while overfitting is the situation where there are high variance and low bias.\n",
    "\n",
    "Following are some of the techniques to reduce underfitting and overfitting:\n",
    "\n",
    "For reducing underfitting:\n",
    "\n",
    "Increase model complexity\n",
    "Increase the number of features\n",
    "Remove noise from the data\n",
    "Increase the number of training epochs\n",
    "For reducing overfitting:\n",
    "\n",
    "Increase training data\n",
    "Stop early while training\n",
    "Lasso regularization\n",
    "Use random dropouts\n",
    "\n",
    "\"\"\""
   ]
  },
  {
   "cell_type": "code",
   "execution_count": null,
   "metadata": {},
   "outputs": [],
   "source": [
    "\"\"\"  \n",
    " Does a symmetric distribution need to be unimodal?\n",
    "A symmetric distribution does not need to be unimodal (having only one mode or one value that occurs most frequently). It can be bi-modal (having two values that have the highest frequencies) or multi-modal (having multiple or more than two values that have the highest frequencies).\n",
    "\"\"\""
   ]
  },
  {
   "cell_type": "code",
   "execution_count": null,
   "metadata": {},
   "outputs": [],
   "source": [
    "\"\"\"\n",
    ". What is the impact of outliers in statistics?\n",
    "Outliers in statistics have a very negative impact as they skew the result of any statistical query. For example, if we want to calculate the mean of a dataset that contains outliers, then the mean calculated will be different from the actual mean (i.e., the mean we will get once we remove the outliers).\n",
    "\"\"\""
   ]
  },
  {
   "cell_type": "code",
   "execution_count": null,
   "metadata": {},
   "outputs": [],
   "source": [
    "\"\"\"  \n",
    "When creating a statistical model, how do we detect overfitting?\n",
    "\n",
    "Overfitting can be detected by cross-validation. In cross-validation, we divide the available data into multiple parts and iterate on the entire dataset. In each iteration, one part is used for testing, and others are used for training. This way, the entire dataset will be used for training and testing purposes, and we can detect if the data is being overfitted.\n",
    "\"\"\""
   ]
  },
  {
   "cell_type": "code",
   "execution_count": null,
   "metadata": {},
   "outputs": [],
   "source": [
    "\"\"\"  \n",
    "What is the relationship between standard deviation and standard variance?\n",
    "Standard deviation is the square root of standard variance. Basically, standard deviation takes a look at how the data is spread out from the mean. On the other hand, standard variance is used to describe how much the data varies from the mean of the entire dataset.\n",
    "\n",
    "\"\"\""
   ]
  },
  {
   "cell_type": "code",
   "execution_count": null,
   "metadata": {},
   "outputs": [],
   "source": [
    "\"\"\" \n",
    "What is the difference between inferential and descriptive statistics?\n",
    "\n",
    "📍 Descriptive statistics describes some sample or population.\n",
    "\n",
    "📍Inferential statistics attempts to infer from some sample to the larger population.\n",
    "\"\"\""
   ]
  },
  {
   "cell_type": "code",
   "execution_count": null,
   "metadata": {},
   "outputs": [],
   "source": [
    "\"\"\" \n",
    "What is the difference between long format and wide format data?\n",
    "\n",
    "A dataset can be written in two different formats: wide and long.\n",
    "\n",
    "📍 Wide format is where we have a single row for every data point with multiple columns to hold the values of various attributes.\n",
    "\n",
    "📍 The long format is where for each data point we have as many rows as the number of attributes and each row contains the value of a particular attribute for a given data point\n",
    "\n",
    "\"\"\""
   ]
  },
  {
   "cell_type": "code",
   "execution_count": null,
   "metadata": {},
   "outputs": [],
   "source": [
    "\"\"\" \n",
    "What do you understand by the term Normal Distribution?\n",
    "\n",
    "Normal distribution, also known as the Gaussian distribution, is a bell-shaped frequency distribution\n",
    "\n",
    "\"\"\""
   ]
  },
  {
   "cell_type": "code",
   "execution_count": null,
   "metadata": {},
   "outputs": [],
   "source": [
    "\"\"\"  \n",
    "What are some of the properties of a normal distribution?\n",
    "\n",
    "Some of the properties of a Normal Distribution are as follows:\n",
    "\n",
    "📍 Unimodal: normal distribution has only one peak. (i.e., one mode)\n",
    "\n",
    "📍Symmetric: a normal distribution is perfectly symmetrical around its centre. (i.e., the right side of the centre is a mirror image of the left side)\n",
    "\n",
    "📍 The Mean, Mode, and Median are all located in the centre (i.e., are all equal)\n",
    "\n",
    "📍Asymptotic: normal distributions are continuous and have tails that are asymptotic. The curve approaches the x-axis, but it never touches\n",
    "\"\"\""
   ]
  },
  {
   "cell_type": "code",
   "execution_count": null,
   "metadata": {},
   "outputs": [],
   "source": [
    "\"\"\" \n",
    "What types of biases can you encounter while sampling?\n",
    "\n",
    "Sampling bias occurs when a sample is not representative of a target population during an investigation or a survey. The three main that one can encounter while sampling is:\n",
    "\n",
    "📍Selection bias: It involves the selection of individual or grouped data in a way that is not random.\n",
    "\n",
    "📍Undercoverage bias: This type of bias occurs when some population members are inadequately represented in the sample.\n",
    "\n",
    "📍Survivorship bias occurs when a sample concentrates on the ‘surviving’ or existing observations and ignores those that have already ceased to exist. This can lead to wrong conclusions in numerous different means\n",
    "\n",
    "\"\"\""
   ]
  },
  {
   "cell_type": "code",
   "execution_count": null,
   "metadata": {},
   "outputs": [],
   "source": []
  },
  {
   "cell_type": "code",
   "execution_count": null,
   "metadata": {},
   "outputs": [],
   "source": []
  },
  {
   "cell_type": "code",
   "execution_count": null,
   "metadata": {},
   "outputs": [],
   "source": []
  },
  {
   "cell_type": "code",
   "execution_count": null,
   "metadata": {},
   "outputs": [],
   "source": []
  },
  {
   "cell_type": "code",
   "execution_count": null,
   "metadata": {},
   "outputs": [],
   "source": []
  },
  {
   "cell_type": "code",
   "execution_count": null,
   "metadata": {},
   "outputs": [],
   "source": []
  },
  {
   "cell_type": "code",
   "execution_count": null,
   "metadata": {},
   "outputs": [],
   "source": []
  },
  {
   "cell_type": "code",
   "execution_count": null,
   "metadata": {},
   "outputs": [],
   "source": []
  },
  {
   "cell_type": "code",
   "execution_count": null,
   "metadata": {},
   "outputs": [],
   "source": []
  },
  {
   "cell_type": "code",
   "execution_count": null,
   "metadata": {},
   "outputs": [],
   "source": []
  },
  {
   "cell_type": "code",
   "execution_count": null,
   "metadata": {},
   "outputs": [],
   "source": []
  },
  {
   "cell_type": "code",
   "execution_count": null,
   "metadata": {},
   "outputs": [],
   "source": []
  },
  {
   "cell_type": "code",
   "execution_count": null,
   "metadata": {},
   "outputs": [],
   "source": []
  },
  {
   "cell_type": "code",
   "execution_count": null,
   "metadata": {},
   "outputs": [],
   "source": []
  }
 ],
 "metadata": {
  "kernelspec": {
   "display_name": "base",
   "language": "python",
   "name": "python3"
  },
  "language_info": {
   "codemirror_mode": {
    "name": "ipython",
    "version": 3
   },
   "file_extension": ".py",
   "mimetype": "text/x-python",
   "name": "python",
   "nbconvert_exporter": "python",
   "pygments_lexer": "ipython3",
   "version": "3.11.6"
  }
 },
 "nbformat": 4,
 "nbformat_minor": 2
}
