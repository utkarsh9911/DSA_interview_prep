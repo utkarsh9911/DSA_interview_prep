{
 "cells": [
  {
   "cell_type": "markdown",
   "metadata": {
    "id": "doTT9KzGvZ8j"
   },
   "source": [
    "# DSA Practice for Service Based Company"
   ]
  },
  {
   "cell_type": "markdown",
   "metadata": {
    "id": "NpOLZldMviOD"
   },
   "source": [
    "# All array question"
   ]
  },
  {
   "cell_type": "code",
   "execution_count": null,
   "metadata": {
    "colab": {
     "base_uri": "https://localhost:8080/"
    },
    "id": "VhuDIy8PuwQ4",
    "outputId": "d9794f85-3738-4e85-900b-de4b0c43801a"
   },
   "outputs": [
    {
     "name": "stdout",
     "output_type": "stream",
     "text": [
      "3\n",
      "3\n"
     ]
    }
   ],
   "source": [
    "#find smallest element in array\n",
    "a = [100,4,3,10]\n",
    "small = a[0]\n",
    "for i in a:\n",
    "  if i<small:\n",
    "    small = i\n",
    "\n",
    "\n",
    "print(small)\n",
    "print(min(a))"
   ]
  },
  {
   "cell_type": "code",
   "execution_count": 13,
   "metadata": {
    "colab": {
     "base_uri": "https://localhost:8080/"
    },
    "id": "i17pHtE1vXPi",
    "outputId": "121b7971-8293-40d2-9158-37ea93f3942f"
   },
   "outputs": [
    {
     "name": "stdout",
     "output_type": "stream",
     "text": [
      "10\n"
     ]
    }
   ],
   "source": [
    "#for finding max elemeent we take float(\"-inf\") otherwise we will take float('inf')\n",
    "\n",
    "def getmax(a):\n",
    "  minel = float('-inf')\n",
    "  for i in range(0,len(a)):\n",
    "    ans = max(a[i], minel)\n",
    "  return ans\n",
    "\n",
    "a = [14,3,10]\n",
    "print(getmax(a))\n"
   ]
  },
  {
   "cell_type": "code",
   "execution_count": null,
   "metadata": {
    "colab": {
     "base_uri": "https://localhost:8080/"
    },
    "id": "IMJjPLT6vVYe",
    "outputId": "8441cc82-2123-4a10-83ad-89eaea3a0215"
   },
   "outputs": [
    {
     "name": "stdout",
     "output_type": "stream",
     "text": [
      "4 10\n"
     ]
    }
   ],
   "source": [
    "#find second smallest and second largest elemenet in array\n",
    "a = [100,4,3,10]\n",
    "a.sort()\n",
    "print(a[1],a[-2])"
   ]
  },
  {
   "cell_type": "code",
   "execution_count": 11,
   "metadata": {
    "colab": {
     "base_uri": "https://localhost:8080/"
    },
    "id": "JvIjIzbrvBru",
    "outputId": "4765c231-ad7f-462d-fc6b-938c057eab39"
   },
   "outputs": [
    {
     "name": "stdout",
     "output_type": "stream",
     "text": [
      "[10, 3, 4, 100]\n",
      "[10, 3, 4, 100]\n",
      "[10, 3, 4, 100]\n"
     ]
    }
   ],
   "source": [
    "# reverse array\n",
    "a = [100,4,3,10]\n",
    "print(a[::-1])\n",
    "\n",
    "#2nd mwthod\n",
    "pointer = len(a)-1\n",
    "ans = []\n",
    "for i in range(len(a)):\n",
    "  ans.append(a[pointer])\n",
    "  pointer-=1\n",
    "print(ans)\n",
    "\n",
    "#third method\n",
    "start = 0\n",
    "end = len(a)-1\n",
    "while start<end:\n",
    "  a[start], a[end] = a[end], a[start]\n",
    "  start+=1\n",
    "  end-=1\n",
    "\n",
    "print(a)\n",
    "\n"
   ]
  },
  {
   "cell_type": "code",
   "execution_count": null,
   "metadata": {
    "colab": {
     "base_uri": "https://localhost:8080/"
    },
    "id": "ln4buzx9zqnU",
    "outputId": "a221930e-8523-45c7-9991-c0011ab00aa5"
   },
   "outputs": [
    {
     "name": "stdout",
     "output_type": "stream",
     "text": [
      "{100: 2, 4: 1, 3: 1, 10: 1}\n",
      "{100: 2, 4: 1, 3: 1, 10: 1}\n"
     ]
    }
   ],
   "source": [
    "def countelements(a):\n",
    "  dic = {}\n",
    "  for i in a:\n",
    "    dic[i] = dic.get(i,0)+1\n",
    "  return dic\n",
    "\n",
    "a = [100,4,3,10,100]\n",
    "print(countelements(a))\n",
    "\n",
    "#\n",
    "def coutncuurence(a):\n",
    "  dic = {}\n",
    "  for i in a:\n",
    "    if i in dic:\n",
    "      dic[i] +=1\n",
    "    else:\n",
    "      dic[i] =1\n",
    "\n",
    "  return dic\n",
    "\n",
    "a = [100,4,3,10,100]\n",
    "print(coutncuurence(a))"
   ]
  },
  {
   "cell_type": "code",
   "execution_count": null,
   "metadata": {
    "colab": {
     "base_uri": "https://localhost:8080/"
    },
    "id": "kvazysU-Ilxm",
    "outputId": "9d8ada2e-d100-4540-c970-4f112fd301cb"
   },
   "outputs": [
    {
     "name": "stdout",
     "output_type": "stream",
     "text": [
      "2\n"
     ]
    }
   ],
   "source": [
    "def count_elements(nums):\n",
    "\n",
    "  even_number = [i for i in nums if i%2==0]\n",
    "\n",
    "  if not even_number:\n",
    "    return -1\n",
    "\n",
    "  dicc ={}\n",
    "  for i in even_number:\n",
    "    if i in dicc:\n",
    "      dicc[i] +=1\n",
    "    else:\n",
    "      dicc[i] =1\n",
    "\n",
    "  most_frequent = -1\n",
    "  max_count = -1\n",
    "\n",
    "  for num, count in dicc.items():\n",
    "        # If this number has a higher count or the same count but is smaller, update the result\n",
    "      if count > max_count or (count == max_count and num < most_frequent):\n",
    "          most_frequent = num\n",
    "          max_count = count\n",
    "\n",
    "  return most_frequent\n",
    "    # return max_key\n",
    "\n",
    "\n",
    "\n",
    "\n",
    "\n",
    "\n",
    "\n",
    "\n",
    "nums = [0,1,2,2,4,4,1]\n",
    "print(count_elements(nums))\n",
    "#"
   ]
  },
  {
   "cell_type": "code",
   "execution_count": 2,
   "metadata": {
    "colab": {
     "base_uri": "https://localhost:8080/"
    },
    "id": "UlOPxzMfR-sy",
    "outputId": "789d2674-bd7f-4748-b8ef-e715b2022645"
   },
   "outputs": [
    {
     "name": "stdout",
     "output_type": "stream",
     "text": [
      "10\n",
      "3\n"
     ]
    }
   ],
   "source": [
    "bx = {100: 2, 4: 1, 10: 3}\n",
    "# for key, value in bx.items():\n",
    "#   print(key,value)\n",
    "\n",
    "# from collections import Counter\n",
    "# freq = Counter(bx)\n",
    "# print(freq)\n",
    "\n",
    "max_value = -1\n",
    "for key, value in bx.items():\n",
    "  if value >max_value:\n",
    "    max_value = value\n",
    "print(key)\n",
    "print(max_value)\n"
   ]
  },
  {
   "cell_type": "code",
   "execution_count": null,
   "metadata": {
    "colab": {
     "base_uri": "https://localhost:8080/",
     "height": 141
    },
    "id": "asq1_PWRSRGp",
    "outputId": "e889127d-3427-43ad-cc5c-83dd7a066791"
   },
   "outputs": [
    {
     "ename": "TypeError",
     "evalue": "'builtin_function_or_method' object is not iterable",
     "output_type": "error",
     "traceback": [
      "\u001b[0;31m---------------------------------------------------------------------------\u001b[0m",
      "\u001b[0;31mTypeError\u001b[0m                                 Traceback (most recent call last)",
      "\u001b[0;32m<ipython-input-31-12008c60ce60>\u001b[0m in \u001b[0;36m<cell line: 1>\u001b[0;34m()\u001b[0m\n\u001b[0;32m----> 1\u001b[0;31m \u001b[0mprint\u001b[0m\u001b[0;34m(\u001b[0m\u001b[0mmax\u001b[0m\u001b[0;34m(\u001b[0m\u001b[0mbx\u001b[0m\u001b[0;34m.\u001b[0m\u001b[0mvalues\u001b[0m\u001b[0;34m)\u001b[0m\u001b[0;34m)\u001b[0m\u001b[0;34m\u001b[0m\u001b[0;34m\u001b[0m\u001b[0m\n\u001b[0m",
      "\u001b[0;31mTypeError\u001b[0m: 'builtin_function_or_method' object is not iterable"
     ]
    }
   ],
   "source": [
    "print(max(bx.values))"
   ]
  },
  {
   "cell_type": "code",
   "execution_count": null,
   "metadata": {
    "colab": {
     "base_uri": "https://localhost:8080/"
    },
    "id": "RqdkfMO3SxWd",
    "outputId": "45c37605-8b18-4560-8299-e11f211ee047"
   },
   "outputs": [
    {
     "name": "stdout",
     "output_type": "stream",
     "text": [
      "2\n"
     ]
    }
   ],
   "source": [
    "def most_frequent_even(nums):\n",
    "    # Dictionary to store the count of each even element\n",
    "    freq = {}\n",
    "\n",
    "    # Traverse the array to count even numbers\n",
    "    for num in nums:\n",
    "        if num % 2 == 0:  # Check if the number is even\n",
    "            if num in freq:\n",
    "                freq[num] += 1  # Increment the count if it exists in the dictionary\n",
    "            else:\n",
    "                freq[num] = 1   # Initialize the count if it doesn't exist\n",
    "\n",
    "    # If no even numbers were found, return -1\n",
    "    if not freq:\n",
    "        return -1\n",
    "\n",
    "    # Now, we find the most frequent even element\n",
    "    most_frequent = -1\n",
    "    max_count = -1\n",
    "\n",
    "    for num, count in freq.items():\n",
    "        # If this number has a higher count or the same count but is smaller, update the result\n",
    "        if count > max_count or (count == max_count and num < most_frequent):\n",
    "            most_frequent = num\n",
    "            max_count = count\n",
    "\n",
    "    return most_frequent\n",
    "\n",
    "# Test cases\n",
    "nums1 = [0, 1, 2, 2, 4, 4, 1]\n",
    "print(most_frequent_even(nums1))"
   ]
  },
  {
   "cell_type": "code",
   "execution_count": null,
   "metadata": {
    "colab": {
     "base_uri": "https://localhost:8080/",
     "height": 280
    },
    "id": "QIxdrLgef4WM",
    "outputId": "39e441a8-058a-44de-be04-eabd174dbf7e"
   },
   "outputs": [
    {
     "name": "stdout",
     "output_type": "stream",
     "text": [
      "2\n",
      "3\n",
      "4\n",
      "\n"
     ]
    },
    {
     "ename": "ValueError",
     "evalue": "invalid literal for int() with base 10: ''",
     "output_type": "error",
     "traceback": [
      "\u001b[0;31m---------------------------------------------------------------------------\u001b[0m",
      "\u001b[0;31mValueError\u001b[0m                                Traceback (most recent call last)",
      "\u001b[0;32m<ipython-input-11-3a9a4893d702>\u001b[0m in \u001b[0;36m<cell line: 3>\u001b[0;34m()\u001b[0m\n\u001b[1;32m      2\u001b[0m \u001b[0mlst\u001b[0m \u001b[0;34m=\u001b[0m \u001b[0;34m[\u001b[0m\u001b[0;34m]\u001b[0m\u001b[0;34m\u001b[0m\u001b[0;34m\u001b[0m\u001b[0m\n\u001b[1;32m      3\u001b[0m \u001b[0;32mfor\u001b[0m \u001b[0m_\u001b[0m \u001b[0;32min\u001b[0m \u001b[0mrange\u001b[0m\u001b[0;34m(\u001b[0m\u001b[0mn\u001b[0m\u001b[0;34m)\u001b[0m\u001b[0;34m:\u001b[0m\u001b[0;34m\u001b[0m\u001b[0;34m\u001b[0m\u001b[0m\n\u001b[0;32m----> 4\u001b[0;31m   \u001b[0mlst\u001b[0m\u001b[0;34m.\u001b[0m\u001b[0mappend\u001b[0m\u001b[0;34m(\u001b[0m\u001b[0mint\u001b[0m\u001b[0;34m(\u001b[0m\u001b[0minput\u001b[0m\u001b[0;34m(\u001b[0m\u001b[0;34m)\u001b[0m\u001b[0;34m)\u001b[0m\u001b[0;34m)\u001b[0m\u001b[0;34m\u001b[0m\u001b[0;34m\u001b[0m\u001b[0m\n\u001b[0m\u001b[1;32m      5\u001b[0m \u001b[0mprint\u001b[0m\u001b[0;34m(\u001b[0m\u001b[0mlst\u001b[0m\u001b[0;34m)\u001b[0m\u001b[0;34m\u001b[0m\u001b[0;34m\u001b[0m\u001b[0m\n\u001b[1;32m      6\u001b[0m \u001b[0;31m#   lst.append(a)\u001b[0m\u001b[0;34m\u001b[0m\u001b[0;34m\u001b[0m\u001b[0m\n",
      "\u001b[0;31mValueError\u001b[0m: invalid literal for int() with base 10: ''"
     ]
    }
   ],
   "source": [
    "n =4\n",
    "lst = []\n",
    "for _ in range(n):\n",
    "  lst.append(int(input()))\n",
    "print(lst)\n",
    "#   lst.append(a)\n",
    "# print(lst)"
   ]
  },
  {
   "cell_type": "code",
   "execution_count": 1,
   "metadata": {
    "colab": {
     "base_uri": "https://localhost:8080/"
    },
    "id": "aoTSl5JDst6n",
    "outputId": "987a0a1c-1e3a-4fdc-d2f9-ac1e4ad71e32"
   },
   "outputs": [
    {
     "name": "stdout",
     "output_type": "stream",
     "text": [
      "[6, 7, 8]\n"
     ]
    }
   ],
   "source": [
    "n = 3  # Take the number of elements\n",
    "lst = []  # Initialize an empty list\n",
    "\n",
    "for _ in range(n):\n",
    "    lst.append(int(input()))\n",
    "\n",
    "print(lst)"
   ]
  },
  {
   "cell_type": "code",
   "execution_count": null,
   "metadata": {
    "colab": {
     "base_uri": "https://localhost:8080/"
    },
    "id": "ukdb0HhPi4tI",
    "outputId": "a19f25e3-d996-496d-b184-2c9eb9613cff"
   },
   "outputs": [
    {
     "name": "stdout",
     "output_type": "stream",
     "text": [
      "[4, 33, 5, 3, 1, 2]\n"
     ]
    }
   ],
   "source": [
    "arr = [4,33,5,3,2,1]\n",
    "#reverse elemtnt\n",
    "start = arr[0]\n",
    "end = len(arr)-1\n",
    "\n",
    "\n",
    "\n",
    "while start<end:\n",
    "  arr[start], arr[end] = arr[end], arr[start]\n",
    "  start+=1\n",
    "  end-=1\n",
    "print(arr)\n"
   ]
  },
  {
   "cell_type": "code",
   "execution_count": 22,
   "metadata": {
    "colab": {
     "base_uri": "https://localhost:8080/"
    },
    "id": "UbZ5xHxloUw6",
    "outputId": "e0139bf9-5ad9-4400-e10a-78ed13c7c0a5"
   },
   "outputs": [
    {
     "name": "stdout",
     "output_type": "stream",
     "text": [
      "[1, 2, 3, 5, 33, 4]\n"
     ]
    }
   ],
   "source": [
    "#reverse elemt\n",
    "arr = [4,33,5,3,2,1]\n",
    "start = 0\n",
    "end = len(arr)-1\n",
    "while start<end:\n",
    "  arr[start], arr[end] = arr[end], arr[start]\n",
    "  start+=1\n",
    "  end-=1\n",
    "print(arr)"
   ]
  },
  {
   "cell_type": "code",
   "execution_count": 2,
   "metadata": {
    "colab": {
     "base_uri": "https://localhost:8080/"
    },
    "id": "f6HqvcB6os70",
    "outputId": "e2251e77-c756-4a59-f82e-1e1c3f961e17"
   },
   "outputs": [
    {
     "name": "stdout",
     "output_type": "stream",
     "text": [
      "[1, 2]\n",
      "[2, 1]\n"
     ]
    }
   ],
   "source": [
    "user = int(input())\n",
    "arr = [int(input()) for _ in range(user)]\n",
    "print(arr)\n",
    "print(arr[::-1])\n"
   ]
  },
  {
   "cell_type": "code",
   "execution_count": null,
   "metadata": {
    "colab": {
     "base_uri": "https://localhost:8080/"
    },
    "id": "Op2P0WJIpSc8",
    "outputId": "855aaf71-f2e8-4fae-cd68-62521b0270a3"
   },
   "outputs": [
    {
     "data": {
      "text/plain": [
       "str"
      ]
     },
     "execution_count": 12,
     "metadata": {},
     "output_type": "execute_result"
    }
   ],
   "source": [
    "type(arr[0])"
   ]
  },
  {
   "cell_type": "code",
   "execution_count": 4,
   "metadata": {
    "colab": {
     "base_uri": "https://localhost:8080/"
    },
    "id": "FOWHCt22qabO",
    "outputId": "dcdc8f3a-bdfd-475d-90ac-18aa63e55eb8"
   },
   "outputs": [
    {
     "name": "stdout",
     "output_type": "stream",
     "text": [
      "5\n",
      "45\n",
      "2\n"
     ]
    }
   ],
   "source": [
    "n = 3\n",
    "new_ls = sorted([ int(input()) for _ in range(n)])"
   ]
  },
  {
   "cell_type": "code",
   "execution_count": 2,
   "metadata": {
    "colab": {
     "base_uri": "https://localhost:8080/"
    },
    "id": "6LHbrVWuqd6t",
    "outputId": "85aae30c-895e-49f3-a869-0009715b000b"
   },
   "outputs": [
    {
     "name": "stdout",
     "output_type": "stream",
     "text": [
      "1\n"
     ]
    }
   ],
   "source": [
    "def count_greater(arr):\n",
    "  count = 1\n",
    "  max_so_far = arr[0]\n",
    "  for i in range(1,len(arr)):\n",
    "    if arr[i]>max_so_far:\n",
    "      count+=1\n",
    "      max_so_far = arr[i]\n",
    "  return count\n",
    "\n",
    "n = int(input())\n",
    "# arr = [int(input()) for _ in range(n)]\n",
    "arr = list(map(int,input().split()))\n",
    "print(count_greater(arr))\n",
    "\n"
   ]
  },
  {
   "cell_type": "code",
   "execution_count": 19,
   "metadata": {
    "colab": {
     "base_uri": "https://localhost:8080/"
    },
    "id": "-g2WIP0brfG6",
    "outputId": "74cca929-fa75-43a5-ca92-0efb42fefdb8"
   },
   "outputs": [
    {
     "name": "stdout",
     "output_type": "stream",
     "text": [
      "['a']\n"
     ]
    }
   ],
   "source": [
    "#Print key with max value\n",
    "a = {'a':100,'b':20,'c':30}\n",
    "mmax = [key for key,value in a.items() if value == max(a.values())]\n",
    "print(mmax)"
   ]
  },
  {
   "cell_type": "code",
   "execution_count": 21,
   "metadata": {
    "colab": {
     "base_uri": "https://localhost:8080/"
    },
    "id": "BJ3koHowDrkK",
    "outputId": "9c3a6fe6-5001-4645-8ce0-fafc80581761"
   },
   "outputs": [
    {
     "name": "stdout",
     "output_type": "stream",
     "text": [
      "[('a', 100), ('c', 30), ('b', 20)]\n"
     ]
    }
   ],
   "source": [
    "#lets sort the dictionaru\n",
    "sortt = sorted(a.items(), key=lambda X:X[1],reverse=True)\n",
    "print(sortt)"
   ]
  },
  {
   "cell_type": "code",
   "execution_count": 22,
   "metadata": {
    "colab": {
     "base_uri": "https://localhost:8080/"
    },
    "id": "ggF5L08_EBVM",
    "outputId": "ecfc890c-8355-413f-a2cf-8b159deb1452"
   },
   "outputs": [
    {
     "name": "stdout",
     "output_type": "stream",
     "text": [
      "[1, 4, 16, 25]\n"
     ]
    }
   ],
   "source": [
    "a = [1,2,4,5]\n",
    "ans = list(map(lambda x:x**2,a))\n",
    "print(ans)"
   ]
  },
  {
   "cell_type": "code",
   "execution_count": 24,
   "metadata": {
    "colab": {
     "base_uri": "https://localhost:8080/"
    },
    "id": "W32sq_uqEQmr",
    "outputId": "8f0ab21a-c87b-4ec7-cb8b-0d26c7a08935"
   },
   "outputs": [
    {
     "name": "stdout",
     "output_type": "stream",
     "text": [
      "[2, 4]\n"
     ]
    }
   ],
   "source": [
    "anss = list(filter(lambda x:x%2==0, a))\n",
    "print(anss)"
   ]
  },
  {
   "cell_type": "code",
   "execution_count": 28,
   "metadata": {
    "colab": {
     "base_uri": "https://localhost:8080/",
     "height": 193
    },
    "id": "IXRR9GIdEadK",
    "outputId": "5c0eaadb-a1dc-4143-adf7-a0c133a8bbd5"
   },
   "outputs": [
    {
     "name": "stdout",
     "output_type": "stream",
     "text": [
      "5\n"
     ]
    },
    {
     "ename": "TypeError",
     "evalue": "'int' object is not iterable",
     "output_type": "error",
     "traceback": [
      "\u001b[0;31m---------------------------------------------------------------------------\u001b[0m",
      "\u001b[0;31mTypeError\u001b[0m                                 Traceback (most recent call last)",
      "\u001b[0;32m<ipython-input-28-ce52e45bf76d>\u001b[0m in \u001b[0;36m<cell line: 2>\u001b[0;34m()\u001b[0m\n\u001b[1;32m      1\u001b[0m \u001b[0mnumber\u001b[0m \u001b[0;34m=\u001b[0m \u001b[0mint\u001b[0m\u001b[0;34m(\u001b[0m\u001b[0minput\u001b[0m\u001b[0;34m(\u001b[0m\u001b[0;34m)\u001b[0m\u001b[0;34m)\u001b[0m\u001b[0;34m\u001b[0m\u001b[0;34m\u001b[0m\u001b[0m\n\u001b[0;32m----> 2\u001b[0;31m \u001b[0mdigits\u001b[0m \u001b[0;34m=\u001b[0m \u001b[0;34m[\u001b[0m\u001b[0mint\u001b[0m\u001b[0;34m(\u001b[0m\u001b[0mdigit\u001b[0m\u001b[0;34m)\u001b[0m \u001b[0;32mfor\u001b[0m \u001b[0mdigit\u001b[0m \u001b[0;32min\u001b[0m \u001b[0mnumber\u001b[0m\u001b[0;34m]\u001b[0m\u001b[0;34m\u001b[0m\u001b[0;34m\u001b[0m\u001b[0m\n\u001b[0m\u001b[1;32m      3\u001b[0m \u001b[0mprint\u001b[0m\u001b[0;34m(\u001b[0m\u001b[0mdigits\u001b[0m\u001b[0;34m)\u001b[0m\u001b[0;34m\u001b[0m\u001b[0;34m\u001b[0m\u001b[0m\n",
      "\u001b[0;31mTypeError\u001b[0m: 'int' object is not iterable"
     ]
    }
   ],
   "source": [
    "number = int(input())\n",
    "digits = [int(digit) for digit in number]\n",
    "print(digits)"
   ]
  },
  {
   "cell_type": "code",
   "execution_count": 33,
   "metadata": {
    "colab": {
     "base_uri": "https://localhost:8080/"
    },
    "id": "y0T2qvfhE5af",
    "outputId": "7b41c751-e697-4422-ab80-200513f626ac"
   },
   "outputs": [
    {
     "name": "stdout",
     "output_type": "stream",
     "text": [
      "Enter a number: 5244\n",
      "160\n"
     ]
    }
   ],
   "source": [
    "from functools import reduce\n",
    "number = input(\"Enter a number: \")\n",
    "\n",
    "# Convert each character (digit) in the string to an integer\n",
    "digits = [int(digit) for digit in number]\n",
    "\n",
    "product = reduce(lambda x, y:x*y,digits)\n",
    "print(product)"
   ]
  },
  {
   "cell_type": "code",
   "execution_count": 38,
   "metadata": {
    "colab": {
     "base_uri": "https://localhost:8080/"
    },
    "id": "uA-viasJGtd8",
    "outputId": "f8206018-7c64-423b-8ea3-16af708e551b"
   },
   "outputs": [
    {
     "name": "stdout",
     "output_type": "stream",
     "text": [
      "5244\n",
      "160\n"
     ]
    }
   ],
   "source": [
    "\n",
    "def find_product(arr):\n",
    "  if not arr:\n",
    "    return None\n",
    "\n",
    "  pro = 1\n",
    "  for i in arr:\n",
    "    pro*=int(i)\n",
    "  return pro\n",
    "\n",
    "\n",
    "number = input()\n",
    "print(find_product(number))\n",
    "\n",
    "\n"
   ]
  },
  {
   "cell_type": "code",
   "execution_count": 37,
   "metadata": {
    "colab": {
     "base_uri": "https://localhost:8080/"
    },
    "id": "c6zcGkzdTNql",
    "outputId": "ba2644fd-1560-46df-9ef5-8b5e2f9c1669"
   },
   "outputs": [
    {
     "name": "stdout",
     "output_type": "stream",
     "text": [
      "120\n"
     ]
    }
   ],
   "source": [
    "n = '12345'\n",
    "p=1\n",
    "for i in n:\n",
    "  p*=int(i)\n",
    "print(p)"
   ]
  },
  {
   "cell_type": "code",
   "execution_count": 3,
   "metadata": {
    "colab": {
     "base_uri": "https://localhost:8080/"
    },
    "id": "yei_5Jx1T58D",
    "outputId": "fe7d167d-e973-4359-939c-cdd672d7cf27"
   },
   "outputs": [
    {
     "name": "stdout",
     "output_type": "stream",
     "text": [
      "bbb\n"
     ]
    }
   ],
   "source": [
    "st ='bbbaaababa'\n",
    "n = 3\n",
    "count = 0\n",
    "digit = ''\n",
    "three_digit = ''\n",
    "for i in range(n):\n",
    "  three_digit += st[i]\n",
    "\n",
    "print(three_digit)\n",
    "\n",
    "\n",
    "\n"
   ]
  },
  {
   "cell_type": "markdown",
   "metadata": {
    "id": "VawaK2YWUwac"
   },
   "source": [
    "## find Prime  unique factors of n"
   ]
  },
  {
   "cell_type": "code",
   "execution_count": 5,
   "metadata": {},
   "outputs": [
    {
     "name": "stdout",
     "output_type": "stream",
     "text": [
      "[2, 5]\n"
     ]
    }
   ],
   "source": [
    "def findUnique(n):\n",
    "    sorted_list = []\n",
    "    if n%2==0:\n",
    "        sorted_list.append(2)\n",
    "        while n %2 ==0:\n",
    "            n = n//2\n",
    "    \n",
    "    for i in range(3, int(n**0.5)+1, 2):\n",
    "        if n%i ==0:\n",
    "            sorted_list.append(i)\n",
    "        while n%i == 0:\n",
    "            n = n//i\n",
    "\n",
    "    if n>2:\n",
    "        sorted_list.append(n)\n",
    "    return sorted_list\n",
    "\n",
    "print(findUnique(100))\n"
   ]
  },
  {
   "cell_type": "markdown",
   "metadata": {},
   "source": [
    "#### Check number is prime or not"
   ]
  },
  {
   "cell_type": "code",
   "execution_count": 7,
   "metadata": {},
   "outputs": [
    {
     "name": "stdout",
     "output_type": "stream",
     "text": [
      "1\n"
     ]
    }
   ],
   "source": [
    "def checkPrimeOrNot(n):\n",
    "    if n<2:\n",
    "        return 0\n",
    "    if n ==2 or n==3:\n",
    "        return 1\n",
    "    if n%2==0 or n%3==0:\n",
    "        return 0\n",
    "    \n",
    "    i = 5\n",
    "    while i*i<=n:\n",
    "        if n%i==0 or n%(n+2)==0:\n",
    "            return 0\n",
    "        i = i+6\n",
    "\n",
    "    return 1\n",
    "\n",
    "\n",
    "print(checkPrimeOrNot(29))\n"
   ]
  },
  {
   "cell_type": "code",
   "execution_count": 17,
   "metadata": {},
   "outputs": [
    {
     "name": "stdout",
     "output_type": "stream",
     "text": [
      "[5, 10]\n"
     ]
    }
   ],
   "source": [
    "class Solution:\n",
    "    def gcd(self,a,b):\n",
    "        while b!=0:\n",
    "            a,b = b, a%b\n",
    "            return a\n",
    "\n",
    "\n",
    "    def lcmAndGcd( self,a , b):\n",
    "        # code here \n",
    "        gcd_val = self.gcd(a,b)\n",
    "        lcm = (a*b)//gcd_val\n",
    "        return [gcd_val, lcm]\n",
    "    \n",
    "\n",
    "# print(Solution.lcmAndGcd(10,5))\n",
    "s = Solution()\n",
    "print(s.lcmAndGcd(10,5))\n",
    "\n",
    "\n",
    "\n"
   ]
  },
  {
   "cell_type": "markdown",
   "metadata": {},
   "source": [
    "## find smallest and gretest eleement in array"
   ]
  },
  {
   "cell_type": "code",
   "execution_count": 5,
   "metadata": {},
   "outputs": [
    {
     "name": "stdout",
     "output_type": "stream",
     "text": [
      "[1, 10000]\n"
     ]
    }
   ],
   "source": [
    "#time complexity = O(n)\n",
    "#space complexity = 0(1)\n",
    "def findsmallandLarge(n):\n",
    "    if not n:\n",
    "        return None\n",
    "    \n",
    "    smallest = largest = n[0]\n",
    "    for i in n[1:]:\n",
    "        if i <smallest:\n",
    "            smallest = i\n",
    "        elif i>largest:\n",
    "            largest = i\n",
    "    return [smallest,largest]\n",
    "\n",
    "\n",
    "arr = [3, 2, 1, 56, 10000, 167]\n",
    "print(findsmallandLarge(arr)) \n"
   ]
  },
  {
   "cell_type": "markdown",
   "metadata": {},
   "source": [
    "##  Second largest and second smallest element in an array"
   ]
  },
  {
   "cell_type": "code",
   "execution_count": null,
   "metadata": {},
   "outputs": [
    {
     "name": "stdout",
     "output_type": "stream",
     "text": [
      "34\n"
     ]
    }
   ],
   "source": [
    "def findsecondlargestand_smallest(n):\n",
    "    firstlargest ,secondlargest = float('-inf'), float('-inf')\n",
    "\n",
    "    for num in n:\n",
    "        if num > firstlargest:\n",
    "            secondlargest = firstlargest\n",
    "            firstlargest = num\n",
    "        elif num > secondlargest and num < firstlargest:\n",
    "            secondlargest = num\n",
    "    return secondlargest if secondlargest != float('-inf') else -1\n",
    "\n",
    "arr = [12, 35, 1, 10, 34, 1]\n",
    "# arr = [10, 10]\n",
    "# arr = [28078, 19451, 935, 28892, 2242, 3570, 5480, 231]\n",
    "\n",
    "print(findsecondlargestand_smallest(arr))\n",
    "5,6,7\n",
    "\n",
    "        "
   ]
  },
  {
   "cell_type": "markdown",
   "metadata": {},
   "source": [
    "### Check if the array is sorted."
   ]
  },
  {
   "cell_type": "code",
   "execution_count": 13,
   "metadata": {},
   "outputs": [
    {
     "name": "stdout",
     "output_type": "stream",
     "text": [
      "True\n"
     ]
    }
   ],
   "source": [
    "def check_sorted(arr):\n",
    "    start = arr[0]\n",
    "    for num in arr[1:]:\n",
    "        if num>start:\n",
    "            return True\n",
    "        else:\n",
    "            return False\n",
    "        \n",
    "arr = [10, 20, 30, 40, 50]\n",
    "print(check_sorted(arr))"
   ]
  },
  {
   "cell_type": "markdown",
   "metadata": {},
   "source": [
    "###  Left rotate an array by K places"
   ]
  },
  {
   "cell_type": "code",
   "execution_count": null,
   "metadata": {},
   "outputs": [
    {
     "name": "stdout",
     "output_type": "stream",
     "text": [
      "[5, 6, 7, 1, 2, 3, 4]\n",
      "3\n"
     ]
    }
   ],
   "source": [
    "def arrangebykplaces(arr,k):\n",
    "    n = len(arr)\n",
    "    k = k %n\n",
    "    \n",
    "    def reverse(start,end):\n",
    "        while start < end:\n",
    "            arr[start], arr[end] = arr[end], arr[start]\n",
    "            start+=1\n",
    "            end-=1\n",
    "    \n",
    "    reverse(0, n-1)\n",
    "    reverse(0,k-1)\n",
    "    reverse(k, n-1)\n",
    "    return arr\n",
    "arr = [1,2,3,4,5,6,7]\n",
    "k=3\n",
    "print(arrangebykplaces(arr,k))\n"
   ]
  },
  {
   "cell_type": "code",
   "execution_count": 14,
   "metadata": {},
   "outputs": [
    {
     "name": "stdout",
     "output_type": "stream",
     "text": [
      "[4, 5, 1, 2, 3]\n"
     ]
    }
   ],
   "source": [
    "## practice\n",
    "\n",
    "def rotatebykplaces(nn,k):\n",
    "    n = len(nn)\n",
    "    k = k%n\n",
    "\n",
    "    def reverse(start,end):\n",
    "        while start<end:\n",
    "            nn[start], nn[end] = nn[end], nn[start]\n",
    "            start+=1\n",
    "            end-=1\n",
    "\n",
    "    reverse(0,n-1)\n",
    "    reverse(0,k-1)\n",
    "    reverse(k,n-1)\n",
    "    return nn\n",
    "\n",
    "number = int(input())\n",
    "nn = [int(input()) for _ in range(number)]\n",
    "k =2\n",
    "print(rotatebykplaces(nn,k))\n"
   ]
  },
  {
   "cell_type": "code",
   "execution_count": 8,
   "metadata": {},
   "outputs": [
    {
     "name": "stdout",
     "output_type": "stream",
     "text": [
      "1\n"
     ]
    }
   ],
   "source": [
    "k = 3\n",
    "k = k%\n",
    "print(k)"
   ]
  },
  {
   "cell_type": "code",
   "execution_count": 5,
   "metadata": {},
   "outputs": [
    {
     "name": "stdout",
     "output_type": "stream",
     "text": [
      "[1, 2, 3, 4, 5]\n"
     ]
    }
   ],
   "source": [
    "ab = list(map(int, input().strip().split()))\n",
    "print(ab)"
   ]
  },
  {
   "cell_type": "markdown",
   "metadata": {},
   "source": [
    "#### Remove duplicate from unsorted array"
   ]
  },
  {
   "cell_type": "code",
   "execution_count": 5,
   "metadata": {},
   "outputs": [
    {
     "name": "stdout",
     "output_type": "stream",
     "text": [
      "[3, 1, 2, 6]\n"
     ]
    }
   ],
   "source": [
    "def remove_dup(n):\n",
    "    unique = []\n",
    "    for i in n:\n",
    "        if i not in unique:\n",
    "            unique.append(i)\n",
    "    return unique\n",
    "\n",
    "print(remove_dup([3,1,2,1,1,6,6]))"
   ]
  },
  {
   "cell_type": "markdown",
   "metadata": {},
   "source": [
    "#### Remove duplicate from sorted array"
   ]
  },
  {
   "cell_type": "code",
   "execution_count": null,
   "metadata": {},
   "outputs": [],
   "source": [
    "def remo_dupsorted(n):\n",
    "    i = 0\n",
    "    j = len(n)-1\n",
    "    for i in range(0,len(n)-1):\n",
    "        if "
   ]
  },
  {
   "cell_type": "code",
   "execution_count": 3,
   "metadata": {},
   "outputs": [
    {
     "name": "stdout",
     "output_type": "stream",
     "text": [
      "[5, 6, 7, 1, 2, 3, 4]\n"
     ]
    }
   ],
   "source": [
    "nums = [1, 2, 3, 4, 5, 6, 7]\n",
    "k = 3\n",
    "nums[:] = nums[-k:] + nums[:-k]\n",
    "print(nums)"
   ]
  },
  {
   "cell_type": "markdown",
   "metadata": {},
   "source": [
    "#### Move all zeroes to end of array"
   ]
  },
  {
   "cell_type": "code",
   "execution_count": 11,
   "metadata": {},
   "outputs": [
    {
     "name": "stdout",
     "output_type": "stream",
     "text": [
      "[1, 2, 4, 3, 5, 0, 0, 0]\n"
     ]
    }
   ],
   "source": [
    "aa = [1, 2, 0, 4, 3, 0, 5, 0]\n",
    "left = 0\n",
    "\n",
    "for right in range(len(aa)):\n",
    "    if aa[right]!=0:\n",
    "        aa[left], aa[right] = aa[right], aa[left]\n",
    "        left+=1\n",
    "\n",
    "print(aa)\n",
    "\n"
   ]
  },
  {
   "cell_type": "markdown",
   "metadata": {},
   "source": [
    "#### Move all zeroes at starting"
   ]
  },
  {
   "cell_type": "code",
   "execution_count": 17,
   "metadata": {},
   "outputs": [
    {
     "name": "stdout",
     "output_type": "stream",
     "text": [
      "[0, 0, 0, 1, 2, 4, 3, 5]\n"
     ]
    }
   ],
   "source": [
    "aa = [1, 2, 0, 4, 3, 0, 5, 0]\n",
    "\n",
    "\n",
    "right = len(aa)-1\n",
    "left = len(aa)-1\n",
    "\n",
    "while right>=0:\n",
    "    if aa[right] != 0:\n",
    "        aa[left], aa[right] = aa[right], aa[left]\n",
    "        left = left-1\n",
    "    else:\n",
    "        right = right -1\n",
    "\n",
    "\n",
    "\n",
    "print(aa)"
   ]
  },
  {
   "cell_type": "code",
   "execution_count": 27,
   "metadata": {},
   "outputs": [
    {
     "name": "stdout",
     "output_type": "stream",
     "text": [
      "1\n"
     ]
    }
   ],
   "source": [
    "def check(num):\n",
    "\n",
    "    if num<2:\n",
    "        return 0\n",
    "    if num==2 or num==3:\n",
    "        return 1\n",
    "    if num%2==0 or num%3==0:\n",
    "        return 0\n",
    "    \n",
    "    n = 5\n",
    "    while n*n<=num:\n",
    "        if num%n==0 or n%(n+2)==0:\n",
    "            return 0\n",
    "        n = n+6\n",
    "    return 1\n",
    "\n",
    "\n",
    "print(check(29))\n",
    "    \n",
    "    "
   ]
  },
  {
   "cell_type": "code",
   "execution_count": 29,
   "metadata": {},
   "outputs": [
    {
     "name": "stdout",
     "output_type": "stream",
     "text": [
      "eror is division by zero\n"
     ]
    }
   ],
   "source": [
    "a = 2\n",
    "b = 0\n",
    "try:\n",
    "    c = a/b\n",
    "except Exception as e:\n",
    "    print(f\"eror is {e}\")"
   ]
  },
  {
   "cell_type": "markdown",
   "metadata": {},
   "source": [
    "#### Max sub array sum"
   ]
  },
  {
   "cell_type": "code",
   "execution_count": 5,
   "metadata": {},
   "outputs": [
    {
     "name": "stdout",
     "output_type": "stream",
     "text": [
      "11\n"
     ]
    }
   ],
   "source": [
    "def maxSub(arr):\n",
    "    currsum = arr[0]\n",
    "    maxsum = arr[0]\n",
    "    for i in range(1,len(arr)):\n",
    "        currsum = max(arr[i],currsum+arr[i])\n",
    "        maxsum = max(currsum,maxsum)\n",
    "    return maxsum\n",
    "    \n",
    "\n",
    "\n",
    "arr = [-5,4,6,-3,4,-1]\n",
    "print(maxSub(arr))\n"
   ]
  },
  {
   "cell_type": "markdown",
   "metadata": {},
   "source": [
    "#### Longest subarray with sum k"
   ]
  },
  {
   "cell_type": "code",
   "execution_count": 16,
   "metadata": {},
   "outputs": [
    {
     "name": "stdout",
     "output_type": "stream",
     "text": [
      "True\n"
     ]
    }
   ],
   "source": [
    "# return boolean first\n",
    "\n",
    "class Solution:\n",
    "    def lenOfLongestSubarr(self, arr, k):  \n",
    "        dic = {}\n",
    "        prefix_sum =0\n",
    "        for i in range(len(arr)):\n",
    "            prefix_sum = prefix_sum + arr[i]\n",
    "            if prefix_sum == k:\n",
    "                return True\n",
    "            \n",
    "            if prefix_sum-k in dic:\n",
    "                return True\n",
    "            \n",
    "            if prefix_sum not in dic:\n",
    "                dic[prefix_sum] = i\n",
    "        return False\n",
    "    \n",
    "s = Solution()\n",
    "# arr = [10,5,2,7,1,9]\n",
    "arr = [2,6,-6,3,8]\n",
    "k = 5\n",
    "result = s.lenOfLongestSubarr(arr,  k)\n",
    "print(result)"
   ]
  },
  {
   "cell_type": "code",
   "execution_count": null,
   "metadata": {},
   "outputs": [
    {
     "name": "stdout",
     "output_type": "stream",
     "text": [
      "{0: 6, 1: 0, 2: 5, 3: 10, 4: 15}\n"
     ]
    }
   ],
   "source": [
    "class Solution:\n",
    "    def find_max_lenght_subarray(arr,k):\n",
    "        dic = {}\n",
    "        prefix_sim = 0\n",
    "        count = 0\n",
    "        for i in range(len(arr)):\n",
    "            prefix_sim = prefix_sim + arr[i]\n",
    "\n",
    "            \n"
   ]
  },
  {
   "cell_type": "code",
   "execution_count": 1,
   "metadata": {},
   "outputs": [
    {
     "name": "stdout",
     "output_type": "stream",
     "text": [
      "[2, 4, 6, 78]\n"
     ]
    }
   ],
   "source": [
    "lsst= [2,9,4,6,78]\n",
    "ans = [i for i in lsst if i%2==0]\n",
    "print(ans)"
   ]
  },
  {
   "cell_type": "code",
   "execution_count": 22,
   "metadata": {},
   "outputs": [
    {
     "name": "stdout",
     "output_type": "stream",
     "text": [
      "['B', 'c', 'd']\n"
     ]
    }
   ],
   "source": [
    "dict = {'A':40,'B':60, 'c':95, 'd':100}\n",
    "\n",
    "\n",
    "an = [ key for key,value in dict.items() if value>40]\n",
    "print(an)"
   ]
  },
  {
   "cell_type": "code",
   "execution_count": 14,
   "metadata": {},
   "outputs": [
    {
     "name": "stdout",
     "output_type": "stream",
     "text": [
      "[0, 8, 5, 3]\n"
     ]
    }
   ],
   "source": [
    "a = input()\n",
    "lstt = list(map(int, input().strip().split()))\n",
    "print(lstt)"
   ]
  },
  {
   "cell_type": "code",
   "execution_count": 1,
   "metadata": {},
   "outputs": [
    {
     "ename": "AttributeError",
     "evalue": "'tuple' object has no attribute 'items'",
     "output_type": "error",
     "traceback": [
      "\u001b[1;31m---------------------------------------------------------------------------\u001b[0m",
      "\u001b[1;31mAttributeError\u001b[0m                            Traceback (most recent call last)",
      "Cell \u001b[1;32mIn[1], line 2\u001b[0m\n\u001b[0;32m      1\u001b[0m students \u001b[38;5;241m=\u001b[39m {\u001b[38;5;124m\"\u001b[39m\u001b[38;5;124mname\u001b[39m\u001b[38;5;124m\"\u001b[39m: \u001b[38;5;124m\"\u001b[39m\u001b[38;5;124mAlice\u001b[39m\u001b[38;5;124m\"\u001b[39m, \u001b[38;5;124m\"\u001b[39m\u001b[38;5;124mscore\u001b[39m\u001b[38;5;124m\"\u001b[39m: \u001b[38;5;241m45\u001b[39m}, {\u001b[38;5;124m\"\u001b[39m\u001b[38;5;124mname\u001b[39m\u001b[38;5;124m\"\u001b[39m: \u001b[38;5;124m\"\u001b[39m\u001b[38;5;124mBob\u001b[39m\u001b[38;5;124m\"\u001b[39m, \u001b[38;5;124m\"\u001b[39m\u001b[38;5;124mscore\u001b[39m\u001b[38;5;124m\"\u001b[39m: \u001b[38;5;241m75\u001b[39m}, {\u001b[38;5;124m\"\u001b[39m\u001b[38;5;124mname\u001b[39m\u001b[38;5;124m\"\u001b[39m: \u001b[38;5;124m\"\u001b[39m\u001b[38;5;124mCharlie\u001b[39m\u001b[38;5;124m\"\u001b[39m, \u001b[38;5;124m\"\u001b[39m\u001b[38;5;124mscore\u001b[39m\u001b[38;5;124m\"\u001b[39m: \u001b[38;5;241m60\u001b[39m}\n\u001b[1;32m----> 2\u001b[0m scoress \u001b[38;5;241m=\u001b[39m [key \u001b[38;5;28;01mfor\u001b[39;00m key \u001b[38;5;129;01min\u001b[39;00m \u001b[43mstudents\u001b[49m\u001b[38;5;241;43m.\u001b[39;49m\u001b[43mitems\u001b[49m() \u001b[38;5;28;01mif\u001b[39;00m value\u001b[38;5;241m>\u001b[39m\u001b[38;5;241m45\u001b[39m ]\n",
      "\u001b[1;31mAttributeError\u001b[0m: 'tuple' object has no attribute 'items'"
     ]
    }
   ],
   "source": [
    "students = {\"name\": \"Alice\", \"score\": 45}, {\"name\": \"Bob\", \"score\": 75}, {\"name\": \"Charlie\", \"score\": 60}\n",
    "scoress = [key for key in students.items() if value>45 ]"
   ]
  },
  {
   "cell_type": "code",
   "execution_count": 39,
   "metadata": {},
   "outputs": [
    {
     "name": "stdout",
     "output_type": "stream",
     "text": [
      "90\n",
      "4\n",
      "3\n",
      "45\n"
     ]
    }
   ],
   "source": [
    "b = [45,3,4,90]\n",
    "\n",
    "l = len(b)\n",
    "for i in range(l):\n",
    "    print(b[l-1])\n",
    "    l = l-1\n",
    "    \n",
    "    \n"
   ]
  },
  {
   "cell_type": "code",
   "execution_count": 47,
   "metadata": {},
   "outputs": [
    {
     "name": "stdout",
     "output_type": "stream",
     "text": [
      "[90, 4, 3, 45]\n"
     ]
    }
   ],
   "source": [
    "b = [45,3,4,90]\n",
    "\n",
    "l = len(b)\n",
    "\n",
    "arrr = []\n",
    "for i in range(l):\n",
    "    arrr.append(b[l-1])\n",
    "    l = l-1\n",
    "print(arrr)"
   ]
  },
  {
   "cell_type": "code",
   "execution_count": 28,
   "metadata": {},
   "outputs": [
    {
     "name": "stdout",
     "output_type": "stream",
     "text": [
      "5\n",
      "4\n",
      "3\n",
      "2\n",
      "1\n",
      "0\n"
     ]
    }
   ],
   "source": [
    "n =6\n",
    "\n",
    "# for i in range(n-1):\n",
    "#     print(i)\n",
    "\n",
    "i = n-1\n",
    "while i>=0:\n",
    "    print(i)\n",
    "    i = i-1\n",
    "\n",
    "    "
   ]
  },
  {
   "cell_type": "code",
   "execution_count": 27,
   "metadata": {},
   "outputs": [
    {
     "name": "stdout",
     "output_type": "stream",
     "text": [
      "5\n",
      "4\n",
      "3\n",
      "2\n",
      "1\n",
      "0\n"
     ]
    }
   ],
   "source": [
    "n = 6\n",
    "i = n - 1  # Start from n-1\n",
    "while i >= 0:\n",
    "    print(i)\n",
    "    i -= 1  # Decrement by 1"
   ]
  },
  {
   "cell_type": "code",
   "execution_count": 49,
   "metadata": {},
   "outputs": [
    {
     "name": "stdout",
     "output_type": "stream",
     "text": [
      "[90, 4, 3, 45]\n"
     ]
    }
   ],
   "source": [
    "b = [45,3,4,90]\n",
    "\n",
    "l = len(b)-1\n",
    "new_ar = []\n",
    "\n",
    "while l>=0:\n",
    "    new_ar.append(b[l])\n",
    "    l = l-1\n",
    "print(new_ar)\n"
   ]
  },
  {
   "cell_type": "code",
   "execution_count": 55,
   "metadata": {},
   "outputs": [
    {
     "name": "stdout",
     "output_type": "stream",
     "text": [
      "[-40]\n"
     ]
    }
   ],
   "source": [
    "## List comprhension\n",
    "b = [45,3,4,90,-1,-40]\n",
    "\n",
    "ans = [value for value in b if value<0 and value%2==0]\n",
    "print(ans)"
   ]
  },
  {
   "cell_type": "code",
   "execution_count": 22,
   "metadata": {},
   "outputs": [
    {
     "name": "stdout",
     "output_type": "stream",
     "text": [
      "0 1 1 2 3 "
     ]
    }
   ],
   "source": [
    "#fidn fibonacci series\n",
    "def fib(n):\n",
    "    a,b=0,1\n",
    "    for _  in range(n):\n",
    "        \n",
    "       print(a,end=' ')\n",
    "       a, b = b, a+b\n",
    "\n",
    "\n",
    "n=5\n",
    "fib(n)"
   ]
  },
  {
   "cell_type": "code",
   "execution_count": 27,
   "metadata": {},
   "outputs": [
    {
     "name": "stdout",
     "output_type": "stream",
     "text": [
      "3\n"
     ]
    }
   ],
   "source": [
    "## averqge of array\n",
    "arr = [1,2,3,4,5]\n",
    "summ = 0\n",
    "for i in arr:\n",
    "    summ+=i\n",
    "print(int(summ/len(arr)))"
   ]
  },
  {
   "cell_type": "code",
   "execution_count": 33,
   "metadata": {},
   "outputs": [
    {
     "name": "stdout",
     "output_type": "stream",
     "text": [
      "3.5\n"
     ]
    }
   ],
   "source": [
    "## find median\n",
    "def findme(arr):\n",
    "    arr.sort()\n",
    "    n = len(arr)\n",
    "    if n%2==0:\n",
    "        ind1 = n//2\n",
    "        ind2 = n//2-1\n",
    "        return (arr[ind1]+arr[ind2])/2\n",
    "    else:\n",
    "        return arr[n//2]\n",
    "        \n",
    "    \n",
    "    \n",
    "print(findme([1,2,3,4,5,6]))\n",
    "    \n",
    "    "
   ]
  },
  {
   "cell_type": "code",
   "execution_count": 12,
   "metadata": {},
   "outputs": [
    {
     "name": "stdout",
     "output_type": "stream",
     "text": [
      "[1, 2, 3, 4, 5, 6]\n",
      "Len is  6\n",
      "3\n",
      "4\n"
     ]
    }
   ],
   "source": [
    "def insertAtStarting(arr,n,num):\n",
    "    new_arr = [0]*(n+1)\n",
    "    new_arr[0] = num\n",
    "    for i in range(0,n):\n",
    "        new_arr[i+1] = arr[i]\n",
    "    return new_arr\n",
    "\n",
    "def insertatindex(arr,n, num, index):\n",
    "    new_arr = [0]*(n+1)\n",
    "    for i in range(index):\n",
    "        new_arr[i] = arr[i]\n",
    "    new_arr[index]  = num\n",
    "    for i in range(index,n):\n",
    "        new_arr[i+1] = arr[i]\n",
    "    return new_arr\n",
    "\n",
    "def insertAtMiddle(arr,n,num):\n",
    "    new_arr = [0]*(n+1)\n",
    "    mid = n//2\n",
    "    for i in range(mid):\n",
    "        new_arr[i] = arr[i]\n",
    "    new_arr[mid] = num\n",
    "    for i in range(mid,n):\n",
    "        new_arr[i+1] = arr[i]\n",
    "    return new_arr\n",
    "        \n",
    "\n",
    "\n",
    "\n",
    "\n",
    "\n",
    "\n",
    "arr = [1,2,3,4,5,6]\n",
    "print(arr)\n",
    "n = len(arr)\n",
    "print('Len is ',n)\n",
    "print(n//2)\n",
    "print(arr[n//2])\n",
    "# # print(insertAtStarting(arr,n,7))\n",
    "# print(insertatindex(arr,n,7,2))\n",
    "# print(insertAtMiddle(arr,n,7))"
   ]
  },
  {
   "cell_type": "code",
   "execution_count": 40,
   "metadata": {},
   "outputs": [
    {
     "name": "stdout",
     "output_type": "stream",
     "text": [
      "[7, 1, 2, 3, 4, 5, 6]\n"
     ]
    }
   ],
   "source": [
    "lst = [1,2,3,4,5,6]\n",
    "lst.insert(0,7)\n",
    "print(lst)"
   ]
  },
  {
   "cell_type": "code",
   "execution_count": 6,
   "metadata": {},
   "outputs": [
    {
     "name": "stdout",
     "output_type": "stream",
     "text": [
      "[1, 4, 9, 16]\n"
     ]
    }
   ],
   "source": [
    "arr = [1,2,3,4]\n",
    "#lambda in list \n",
    "ans = list(map(lambda x:x**2,arr))\n",
    "print(ans)\n"
   ]
  },
  {
   "cell_type": "code",
   "execution_count": 37,
   "metadata": {},
   "outputs": [
    {
     "name": "stdout",
     "output_type": "stream",
     "text": [
      "2\n",
      "[3, 4, 5, 1, 2]\n",
      "1 2 "
     ]
    }
   ],
   "source": [
    "arr = [1,2,3,4,5]\n",
    "n = len(arr)//2\n",
    "print(n)\n",
    "print(arr[n:] + arr[:n])\n",
    "\n",
    "for i in range(0,n):\n",
    "    print(arr[i], end=' ')\n",
    "# print(n)\n",
    "# for i in range(len(arr)):\n",
    "#     print(arr[n], end=' ')\n",
    "#     n = n-1\n",
    "    \n",
    "    "
   ]
  },
  {
   "cell_type": "code",
   "execution_count": 44,
   "metadata": {},
   "outputs": [
    {
     "name": "stdout",
     "output_type": "stream",
     "text": [
      "1\n",
      "3\n",
      "5\n",
      "7\n",
      "9\n"
     ]
    }
   ],
   "source": [
    "for i in range(1,10,2):\n",
    "    print(i)\n"
   ]
  },
  {
   "cell_type": "code",
   "execution_count": null,
   "metadata": {},
   "outputs": [
    {
     "name": "stdout",
     "output_type": "stream",
     "text": [
      "{1, 2, 3, 4, 5}\n"
     ]
    }
   ],
   "source": [
    "# Remove duplicate from sorted array\n"
   ]
  },
  {
   "cell_type": "code",
   "execution_count": 15,
   "metadata": {},
   "outputs": [
    {
     "name": "stdout",
     "output_type": "stream",
     "text": [
      "{5: 8}\n"
     ]
    }
   ],
   "source": [
    "dicc ={}\n",
    "dicc[5]=8\n",
    "print(dicc)"
   ]
  },
  {
   "cell_type": "markdown",
   "metadata": {},
   "source": [
    "#### Max Sub Array Sum"
   ]
  },
  {
   "cell_type": "code",
   "execution_count": 30,
   "metadata": {},
   "outputs": [
    {
     "name": "stdout",
     "output_type": "stream",
     "text": [
      "Maxsum is : 11\n",
      "Subarray is : [4, 6, -3, 4]\n"
     ]
    }
   ],
   "source": [
    "def max_subarray_sum(arr):\n",
    "    currsum = arr[0]\n",
    "    maxsum = arr[0]\n",
    "    start = end = temp = 0\n",
    "    for i in range(1, len(arr)):\n",
    "        if arr[i] > arr[i] + currsum:\n",
    "            currsum = arr[i]\n",
    "            temp = i\n",
    "        else:\n",
    "            currsum = arr[i] + currsum\n",
    "        if currsum > maxsum:\n",
    "            maxsum = currsum\n",
    "            start = temp\n",
    "            end = i\n",
    "    print(\"Maxsum is :\",maxsum)\n",
    "    print(\"Subarray is :\",arr[start:end+1])\n",
    "\n",
    "arr = [-5,4,6,-3,4,-1]\n",
    "max_subarray_sum(arr)"
   ]
  },
  {
   "cell_type": "code",
   "execution_count": null,
   "metadata": {},
   "outputs": [],
   "source": []
  },
  {
   "cell_type": "code",
   "execution_count": null,
   "metadata": {},
   "outputs": [],
   "source": []
  }
 ],
 "metadata": {
  "colab": {
   "provenance": []
  },
  "kernelspec": {
   "display_name": "Python 3",
   "name": "python3"
  },
  "language_info": {
   "codemirror_mode": {
    "name": "ipython",
    "version": 3
   },
   "file_extension": ".py",
   "mimetype": "text/x-python",
   "name": "python",
   "nbconvert_exporter": "python",
   "pygments_lexer": "ipython3",
   "version": "3.10.6"
  }
 },
 "nbformat": 4,
 "nbformat_minor": 0
}
