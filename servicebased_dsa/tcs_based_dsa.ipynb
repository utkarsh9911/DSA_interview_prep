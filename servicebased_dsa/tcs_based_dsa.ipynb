{
 "cells": [
  {
   "cell_type": "code",
   "execution_count": 4,
   "metadata": {
    "colab": {
     "base_uri": "https://localhost:8080/"
    },
    "id": "Vs9uEvDlwQ68",
    "outputId": "fa6e381c-370b-4c8b-a7eb-a93169687a84"
   },
   "outputs": [
    {
     "name": "stdout",
     "output_type": "stream",
     "text": [
      "3\n",
      "1\n",
      "2\n",
      "3\n"
     ]
    }
   ],
   "source": [
    "a = int(input())\n",
    "\n",
    "arr = list([int(input()) for _ in range(a) ])"
   ]
  },
  {
   "cell_type": "code",
   "execution_count": 5,
   "metadata": {
    "colab": {
     "base_uri": "https://localhost:8080/"
    },
    "id": "pUhtOuNsxZo1",
    "outputId": "e9b6d669-24bb-4d86-ca0e-0f61623ee216"
   },
   "outputs": [
    {
     "data": {
      "text/plain": [
       "[1, 2, 3]"
      ]
     },
     "execution_count": 5,
     "metadata": {},
     "output_type": "execute_result"
    }
   ],
   "source": [
    "arr"
   ]
  },
  {
   "cell_type": "code",
   "execution_count": 25,
   "metadata": {
    "colab": {
     "base_uri": "https://localhost:8080/"
    },
    "id": "i_n38CrzFVOI",
    "outputId": "8d6896fe-5ac8-4e94-896a-70729455355a"
   },
   "outputs": [
    {
     "name": "stdout",
     "output_type": "stream",
     "text": [
      "4 5 1 9 5 "
     ]
    }
   ],
   "source": [
    "# Problem Statement –\n",
    "\n",
    "# A chocolate factory is packing chocolates into the packets. The chocolate packets here represent an array  of N number of integer values. The task is to find the empty packets(0) of chocolate and push it to the end of the conveyor belt(array).\n",
    "\n",
    "# Example 1 :\n",
    "\n",
    "# N=8 and arr = [4,5,0,1,9,0,5,0].\n",
    "\n",
    "# There are 3 empty packets in the given set. These 3 empty packets represented as O should be pushed towards the end of the array\n",
    "\n",
    "# Input :\n",
    "\n",
    "# 8  – Value of N\n",
    "\n",
    "# [4,5,0,1,9,0,5,0] – Element of arr[O] to arr[N-1],While input each element is separated by newline\n",
    "\n",
    "# Output:\n",
    "\n",
    "# 4 5 1 9 5 0 0 0\n",
    "\n",
    "# Example 2:\n",
    "\n",
    "# Input:\n",
    "\n",
    "# 6 — Value of N.\n",
    "\n",
    "# [6,0,1,8,0,2] – Element of arr[0] to arr[N-1], While input each element is separated by newline\n",
    "\n",
    "# Output:\n",
    "\n",
    "# 6 1 8 2 0 0\n",
    "\n",
    "\n",
    "\n",
    "\n",
    "\n",
    "nums = [4,5,0,1,9,0,5,0]\n",
    "for i in range(len(nums)):\n",
    "  if nums[i]!=0:\n",
    "    print(nums[i],end =' ')"
   ]
  },
  {
   "cell_type": "code",
   "execution_count": 27,
   "metadata": {
    "id": "Zb_xChNextRT"
   },
   "outputs": [],
   "source": [
    "anss = ['even' if i%2==0 else 'odd'    for i in nums]"
   ]
  },
  {
   "cell_type": "code",
   "execution_count": 28,
   "metadata": {
    "colab": {
     "base_uri": "https://localhost:8080/"
    },
    "id": "wZSkKTRzyhV9",
    "outputId": "a944e32e-f9bf-4c08-d344-84fc9f379329"
   },
   "outputs": [
    {
     "data": {
      "text/plain": [
       "['even', 'odd', 'even', 'odd', 'odd', 'even', 'odd', 'even']"
      ]
     },
     "execution_count": 28,
     "metadata": {},
     "output_type": "execute_result"
    }
   ],
   "source": [
    "anss"
   ]
  },
  {
   "cell_type": "code",
   "execution_count": 32,
   "metadata": {
    "colab": {
     "base_uri": "https://localhost:8080/"
    },
    "id": "-zXUKddO3aSc",
    "outputId": "d10fe52c-18cc-4acd-ba61-86423809eb40"
   },
   "outputs": [
    {
     "name": "stdout",
     "output_type": "stream",
     "text": [
      "10\n",
      "5\n"
     ]
    }
   ],
   "source": [
    "# Problem Statement –\n",
    "\n",
    "# Joseph is learning digital logic subject which will be for his next semester. He usually tries to solve unit assignment problems before the lecture. Today he got one tricky question. The problem statement is “A positive integer has been given as an input. Convert decimal value to binary representation. Toggle all bits of it after the most significant bit including the most significant bit. Print the positive integer value after toggling all bits”.\n",
    "\n",
    "# Constrains-\n",
    "\n",
    "# 1<=N<=100\n",
    "\n",
    "# Example 1:\n",
    "\n",
    "# Input :\n",
    "\n",
    "# 10  -> Integer\n",
    "\n",
    "# Output :\n",
    "\n",
    "# 5    -> result- Integer\n",
    "\n",
    "# Explanation:\n",
    "\n",
    "# Binary representation of 10 is 1010. After toggling the bits(1010), will get 0101 which represents “5”. Hence output will print “5”.\n",
    "\n",
    "a = int(input())\n",
    "binary_num = bin(a)[2:]\n",
    "\n",
    "toggled_number = ''.join(['1' if i=='0' else '0'   for i in binary_num])\n",
    "result = int(toggled_number,2)\n",
    "print(result)"
   ]
  },
  {
   "cell_type": "code",
   "execution_count": 35,
   "metadata": {
    "colab": {
     "base_uri": "https://localhost:8080/"
    },
    "id": "9FKUPXIT31bk",
    "outputId": "60ff590a-88b2-438c-a22b-28fbe46331e7"
   },
   "outputs": [
    {
     "data": {
      "text/plain": [
       "2"
      ]
     },
     "execution_count": 35,
     "metadata": {},
     "output_type": "execute_result"
    }
   ],
   "source": [
    "2%7"
   ]
  },
  {
   "cell_type": "code",
   "execution_count": 49,
   "metadata": {
    "colab": {
     "base_uri": "https://localhost:8080/"
    },
    "id": "kcs2WP_b5keR",
    "outputId": "0060aa07-8c73-4e1e-863c-4a84a973f514"
   },
   "outputs": [
    {
     "name": "stdout",
     "output_type": "stream",
     "text": [
      "mon\n",
      "13\n"
     ]
    },
    {
     "data": {
      "text/plain": [
       "2"
      ]
     },
     "execution_count": 49,
     "metadata": {},
     "output_type": "execute_result"
    }
   ],
   "source": [
    "# Jack is always excited about sunday. It is favourite day, when he gets to play all day. And goes to cycling with his friends.\n",
    "\n",
    "# So every time when the months starts he counts the number of sundays he will get to enjoy. Considering the month can start with any day, be it Sunday, Monday…. Or so on.\n",
    "\n",
    "# Count the number of Sunday jack will get within n number of days.\n",
    "\n",
    "#  Example 1:\n",
    "\n",
    "# Input\n",
    "\n",
    "# mon-> input String denoting the start of the month.\n",
    "\n",
    "# 13  -> input integer denoting the number of days from the start of the month.\n",
    "\n",
    "# Output :\n",
    "\n",
    "# 2    -> number of days within 13 days.\n",
    "\n",
    "# Explanation:\n",
    "\n",
    "# The month start with mon(Monday). So the upcoming sunday will arrive in next 6 days. And then next Sunday in next 7 days and so on.\n",
    "\n",
    "# Now total number of days are 13. It means 6 days to first sunday and then remaining 7 days will end up in another sunday. Total 2 sundays may fall within 13 days.\n",
    "\n",
    "\n",
    "\n",
    "\n",
    "def count_days(start_days, total_days):\n",
    "  days = {'sun':0,'mon':1,'tue':2,'wed':3,'thur':4,'fri':5,'sat':6}\n",
    "  start_index = days[start_days]\n",
    "  days_to_first_sunday = (7 - start_index)%7\n",
    "  remaining_days = total_days-days_to_first_sunday\n",
    "  sundays = 1+remaining_days//7\n",
    "  return sundays\n",
    "\n",
    "start_days = input()\n",
    "total_days = int(input())\n",
    "count_days(start_days, total_days)\n",
    "\n",
    "\n"
   ]
  },
  {
   "cell_type": "code",
   "execution_count": 44,
   "metadata": {
    "colab": {
     "base_uri": "https://localhost:8080/"
    },
    "id": "rWEiQKlj6SGm",
    "outputId": "ed075212-828c-42da-ce6b-a3f977d31e96"
   },
   "outputs": [
    {
     "data": {
      "text/plain": [
       "1"
      ]
     },
     "execution_count": 44,
     "metadata": {},
     "output_type": "execute_result"
    }
   ],
   "source": []
  },
  {
   "cell_type": "code",
   "execution_count": null,
   "metadata": {
    "id": "1VeKp2NX6TZ4"
   },
   "outputs": [],
   "source": []
  }
 ],
 "metadata": {
  "colab": {
   "provenance": []
  },
  "kernelspec": {
   "display_name": "Python 3",
   "name": "python3"
  },
  "language_info": {
   "name": "python",
   "version": "3.10.6"
  }
 },
 "nbformat": 4,
 "nbformat_minor": 0
}
